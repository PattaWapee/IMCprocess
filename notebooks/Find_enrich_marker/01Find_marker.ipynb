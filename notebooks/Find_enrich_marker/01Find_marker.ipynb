{
 "cells": [
  {
   "attachments": {},
   "cell_type": "markdown",
   "metadata": {},
   "source": [
    "# Script for finding enrichment of marker combinations"
   ]
  },
  {
   "cell_type": "code",
   "execution_count": 1,
   "metadata": {},
   "outputs": [
    {
     "name": "stdout",
     "output_type": "stream",
     "text": [
      "/Users/pattama/Desktop/UiB/cancer/git_repo/IMCprocess\n"
     ]
    }
   ],
   "source": [
    "import numpy as np\n",
    "import scanpy as sc\n",
    "import pandas as pd\n",
    "from matplotlib import pyplot as plt\n",
    "import os, sys\n",
    "import anndata as ad\n",
    "\n",
    "import itertools\n",
    "import random\n",
    "import string\n",
    "\n",
    "\n",
    "other_dir_path = os.path.abspath(os.path.join(os.getcwd(), '..','..'))\n",
    "sys.path.append(other_dir_path)\n",
    "\n",
    "print(other_dir_path)\n",
    "import IMCprocess.Img_anndata.Img_anndata as ia\n",
    "import IMCprocess.spatial_analysis.spatial_analysis as sa\n",
    "import IMCprocess.spatial_analysis.combi_enrich as ce\n",
    "import IMCprocess.utils.utils as ut\n",
    "\n",
    "# I have to use custom Img_anndata code for input anndata\n",
    "import Img_anndata as utan"
   ]
  },
  {
   "attachments": {},
   "cell_type": "markdown",
   "metadata": {},
   "source": [
    "# import level1 anndata and analyse only 1 image"
   ]
  },
  {
   "cell_type": "code",
   "execution_count": 2,
   "metadata": {},
   "outputs": [],
   "source": [
    "data_dir = '/Users/pattama/Desktop/UiB/cancer/example_share_code/share_with_vladan/mask_analysis_full_pipeline/example_data/'\n",
    "output_dir = 'output'\n",
    "level1_file = data_dir + '00hanna_adata_totalNB_obj_Level1.pkl'\n",
    "myimg_id = 'R2_001'\n",
    "Img_obj_level1 = ut.read_pickle_obj(level1_file)"
   ]
  },
  {
   "cell_type": "code",
   "execution_count": 3,
   "metadata": {},
   "outputs": [],
   "source": [
    "# Get adata level1 for img_id R2_001\n",
    "Img_level1_R2_001 = ut.filter_adata_obs(Img_obj_level1.adata_dict['level1'],\n",
    "                                        'img_id', \n",
    "                                        [myimg_id])\n",
    "# Get Fibro adata\n",
    "Fibro_adata = ut.filter_adata_obs(Img_level1_R2_001,\n",
    "                                'level1_annotated',\n",
    "                                ['Fibro'])\n",
    "# get Im level2 adata\n",
    "Im_lev2_adata = ut.read_pickle_obj(data_dir+\n",
    "                                   '02hanna_adata_totalNB_obj_ImmuneLevel2.pkl').adata_dict['Immune_level2']"
   ]
  },
  {
   "cell_type": "code",
   "execution_count": 4,
   "metadata": {},
   "outputs": [],
   "source": [
    "Fibro_marker_list = ['141Pr_aSMA', \n",
    "                     '152Sm_FAP',\n",
    "                     '160Gd_PDGFRa',\n",
    "                     '171Yb_PDGFRb']"
   ]
  },
  {
   "cell_type": "code",
   "execution_count": 5,
   "metadata": {},
   "outputs": [
    {
     "name": "stdout",
     "output_type": "stream",
     "text": [
      "start testing marker combination with n =  2\n",
      "['141Pr_aSMA', '152Sm_FAP']\n"
     ]
    },
    {
     "name": "stderr",
     "output_type": "stream",
     "text": [
      "/Users/pattama/Desktop/UiB/venv_folder/IMCprocess_venv/lib/python3.8/site-packages/tqdm/auto.py:22: TqdmWarning: IProgress not found. Please update jupyter and ipywidgets. See https://ipywidgets.readthedocs.io/en/stable/user_install.html\n",
      "  from .autonotebook import tqdm as notebook_tqdm\n",
      "100%|██████████| 1000/1000 [00:07<00:00, 134.10/s]\n"
     ]
    },
    {
     "name": "stdout",
     "output_type": "stream",
     "text": [
      "['141Pr_aSMA', '160Gd_PDGFRa']\n"
     ]
    },
    {
     "name": "stderr",
     "output_type": "stream",
     "text": [
      "100%|██████████| 1000/1000 [00:07<00:00, 136.53/s]\n"
     ]
    },
    {
     "name": "stdout",
     "output_type": "stream",
     "text": [
      "['141Pr_aSMA', '171Yb_PDGFRb']\n"
     ]
    },
    {
     "name": "stderr",
     "output_type": "stream",
     "text": [
      "100%|██████████| 1000/1000 [00:07<00:00, 132.37/s]\n"
     ]
    },
    {
     "name": "stdout",
     "output_type": "stream",
     "text": [
      "['152Sm_FAP', '160Gd_PDGFRa']\n"
     ]
    },
    {
     "name": "stderr",
     "output_type": "stream",
     "text": [
      "100%|██████████| 1000/1000 [00:07<00:00, 135.02/s]\n"
     ]
    },
    {
     "name": "stdout",
     "output_type": "stream",
     "text": [
      "['152Sm_FAP', '171Yb_PDGFRb']\n"
     ]
    },
    {
     "name": "stderr",
     "output_type": "stream",
     "text": [
      "100%|██████████| 1000/1000 [00:07<00:00, 132.59/s]\n"
     ]
    },
    {
     "name": "stdout",
     "output_type": "stream",
     "text": [
      "['160Gd_PDGFRa', '171Yb_PDGFRb']\n"
     ]
    },
    {
     "name": "stderr",
     "output_type": "stream",
     "text": [
      "100%|██████████| 1000/1000 [00:07<00:00, 126.52/s]\n"
     ]
    },
    {
     "name": "stdout",
     "output_type": "stream",
     "text": [
      "start testing marker combination with n =  3\n",
      "['141Pr_aSMA', '152Sm_FAP', '160Gd_PDGFRa']\n"
     ]
    },
    {
     "name": "stderr",
     "output_type": "stream",
     "text": [
      "100%|██████████| 1000/1000 [00:09<00:00, 103.18/s]\n"
     ]
    },
    {
     "name": "stdout",
     "output_type": "stream",
     "text": [
      "['141Pr_aSMA', '152Sm_FAP', '171Yb_PDGFRb']\n"
     ]
    },
    {
     "name": "stderr",
     "output_type": "stream",
     "text": [
      "100%|██████████| 1000/1000 [00:09<00:00, 101.04/s]\n"
     ]
    },
    {
     "name": "stdout",
     "output_type": "stream",
     "text": [
      "['141Pr_aSMA', '160Gd_PDGFRa', '171Yb_PDGFRb']\n"
     ]
    },
    {
     "name": "stderr",
     "output_type": "stream",
     "text": [
      "100%|██████████| 1000/1000 [00:09<00:00, 101.92/s]\n"
     ]
    },
    {
     "name": "stdout",
     "output_type": "stream",
     "text": [
      "['152Sm_FAP', '160Gd_PDGFRa', '171Yb_PDGFRb']\n"
     ]
    },
    {
     "name": "stderr",
     "output_type": "stream",
     "text": [
      "100%|██████████| 1000/1000 [00:09<00:00, 101.34/s]\n"
     ]
    },
    {
     "name": "stdout",
     "output_type": "stream",
     "text": [
      "start testing marker combination with n =  4\n",
      "['141Pr_aSMA', '152Sm_FAP', '160Gd_PDGFRa', '171Yb_PDGFRb']\n"
     ]
    },
    {
     "name": "stderr",
     "output_type": "stream",
     "text": [
      "100%|██████████| 1000/1000 [00:10<00:00, 98.13/s]\n"
     ]
    },
    {
     "name": "stdout",
     "output_type": "stream",
     "text": [
      "Maximum value: 2.9814542934355113\n",
      "For marker combination of  141Pr_aSMA-152Sm_FAP-160Gd_PDGFRa+171Yb_PDGFRb+\n",
      "with cell  CD8_CD4_FoxP3\n",
      "Minimum value: -13.193323122484651\n",
      "For marker_combination of  152Sm_FAP+160Gd_PDGFRa+\n",
      "with cell  CD8_CD4_FoxP3\n"
     ]
    }
   ],
   "source": [
    "zscore_df = ce.main_combi(Im_lev2_adata, 'Immune_level2_annotated',\n",
    "                          Fibro_adata, Fibro_marker_list)"
   ]
  },
  {
   "cell_type": "code",
   "execution_count": 6,
   "metadata": {},
   "outputs": [],
   "source": [
    "# export zscore_df for all combinations\n",
    "zscore_df.to_csv(output_dir+'/zscore_df.csv')"
   ]
  },
  {
   "cell_type": "code",
   "execution_count": 7,
   "metadata": {},
   "outputs": [
    {
     "data": {
      "text/html": [
       "<div>\n",
       "<style scoped>\n",
       "    .dataframe tbody tr th:only-of-type {\n",
       "        vertical-align: middle;\n",
       "    }\n",
       "\n",
       "    .dataframe tbody tr th {\n",
       "        vertical-align: top;\n",
       "    }\n",
       "\n",
       "    .dataframe thead th {\n",
       "        text-align: right;\n",
       "    }\n",
       "</style>\n",
       "<table border=\"1\" class=\"dataframe\">\n",
       "  <thead>\n",
       "    <tr style=\"text-align: right;\">\n",
       "      <th></th>\n",
       "      <th>CD4</th>\n",
       "      <th>CD4_FoxP3</th>\n",
       "      <th>CD4_ki67</th>\n",
       "      <th>CD8</th>\n",
       "      <th>CD8_CD4_FoxP3</th>\n",
       "      <th>CD8_ki67</th>\n",
       "      <th>Undef</th>\n",
       "    </tr>\n",
       "  </thead>\n",
       "  <tbody>\n",
       "    <tr>\n",
       "      <th>141Pr_aSMA+152Sm_FAP+</th>\n",
       "      <td>-7.543281</td>\n",
       "      <td>-7.379870</td>\n",
       "      <td>-6.558058</td>\n",
       "      <td>-9.859119</td>\n",
       "      <td>-8.401233</td>\n",
       "      <td>-5.039900</td>\n",
       "      <td>-10.658621</td>\n",
       "    </tr>\n",
       "    <tr>\n",
       "      <th>141Pr_aSMA+152Sm_FAP-</th>\n",
       "      <td>-3.705786</td>\n",
       "      <td>-2.208548</td>\n",
       "      <td>-3.610945</td>\n",
       "      <td>-2.143013</td>\n",
       "      <td>-0.530372</td>\n",
       "      <td>-1.322313</td>\n",
       "      <td>-4.889535</td>\n",
       "    </tr>\n",
       "    <tr>\n",
       "      <th>141Pr_aSMA-152Sm_FAP+</th>\n",
       "      <td>-5.671443</td>\n",
       "      <td>-4.386006</td>\n",
       "      <td>-5.115402</td>\n",
       "      <td>-5.239172</td>\n",
       "      <td>-3.828114</td>\n",
       "      <td>-2.711910</td>\n",
       "      <td>-8.950163</td>\n",
       "    </tr>\n",
       "    <tr>\n",
       "      <th>141Pr_aSMA-152Sm_FAP-</th>\n",
       "      <td>-3.566749</td>\n",
       "      <td>-1.262616</td>\n",
       "      <td>-2.528565</td>\n",
       "      <td>-1.986087</td>\n",
       "      <td>-0.184480</td>\n",
       "      <td>-3.835332</td>\n",
       "      <td>-6.963439</td>\n",
       "    </tr>\n",
       "    <tr>\n",
       "      <th>141Pr_aSMA+160Gd_PDGFRa+</th>\n",
       "      <td>-8.012558</td>\n",
       "      <td>-7.893217</td>\n",
       "      <td>-7.530411</td>\n",
       "      <td>-10.207293</td>\n",
       "      <td>-8.015873</td>\n",
       "      <td>-5.307590</td>\n",
       "      <td>-11.285549</td>\n",
       "    </tr>\n",
       "    <tr>\n",
       "      <th>...</th>\n",
       "      <td>...</td>\n",
       "      <td>...</td>\n",
       "      <td>...</td>\n",
       "      <td>...</td>\n",
       "      <td>...</td>\n",
       "      <td>...</td>\n",
       "      <td>...</td>\n",
       "    </tr>\n",
       "    <tr>\n",
       "      <th>141Pr_aSMA-152Sm_FAP+160Gd_PDGFRa-171Yb_PDGFRb-</th>\n",
       "      <td>-1.171339</td>\n",
       "      <td>0.376770</td>\n",
       "      <td>0.228848</td>\n",
       "      <td>-1.115146</td>\n",
       "      <td>-1.079682</td>\n",
       "      <td>-1.868728</td>\n",
       "      <td>-2.855788</td>\n",
       "    </tr>\n",
       "    <tr>\n",
       "      <th>141Pr_aSMA-152Sm_FAP-160Gd_PDGFRa+171Yb_PDGFRb+</th>\n",
       "      <td>-1.565928</td>\n",
       "      <td>-0.567177</td>\n",
       "      <td>-2.169421</td>\n",
       "      <td>0.804647</td>\n",
       "      <td>2.981454</td>\n",
       "      <td>-2.052950</td>\n",
       "      <td>-4.120367</td>\n",
       "    </tr>\n",
       "    <tr>\n",
       "      <th>141Pr_aSMA-152Sm_FAP-160Gd_PDGFRa+171Yb_PDGFRb-</th>\n",
       "      <td>-1.676273</td>\n",
       "      <td>0.312582</td>\n",
       "      <td>-1.261522</td>\n",
       "      <td>0.026416</td>\n",
       "      <td>-0.575596</td>\n",
       "      <td>-2.617799</td>\n",
       "      <td>-3.727468</td>\n",
       "    </tr>\n",
       "    <tr>\n",
       "      <th>141Pr_aSMA-152Sm_FAP-160Gd_PDGFRa-171Yb_PDGFRb+</th>\n",
       "      <td>-0.027514</td>\n",
       "      <td>-0.263329</td>\n",
       "      <td>0.451982</td>\n",
       "      <td>-1.980337</td>\n",
       "      <td>0.220899</td>\n",
       "      <td>-0.512295</td>\n",
       "      <td>-0.668674</td>\n",
       "    </tr>\n",
       "    <tr>\n",
       "      <th>141Pr_aSMA-152Sm_FAP-160Gd_PDGFRa-171Yb_PDGFRb-</th>\n",
       "      <td>-3.676090</td>\n",
       "      <td>-2.072183</td>\n",
       "      <td>-1.400557</td>\n",
       "      <td>-3.769313</td>\n",
       "      <td>-3.433206</td>\n",
       "      <td>-2.351832</td>\n",
       "      <td>-4.819448</td>\n",
       "    </tr>\n",
       "  </tbody>\n",
       "</table>\n",
       "<p>72 rows × 7 columns</p>\n",
       "</div>"
      ],
      "text/plain": [
       "                                                      CD4  CD4_FoxP3  \\\n",
       "141Pr_aSMA+152Sm_FAP+                           -7.543281  -7.379870   \n",
       "141Pr_aSMA+152Sm_FAP-                           -3.705786  -2.208548   \n",
       "141Pr_aSMA-152Sm_FAP+                           -5.671443  -4.386006   \n",
       "141Pr_aSMA-152Sm_FAP-                           -3.566749  -1.262616   \n",
       "141Pr_aSMA+160Gd_PDGFRa+                        -8.012558  -7.893217   \n",
       "...                                                   ...        ...   \n",
       "141Pr_aSMA-152Sm_FAP+160Gd_PDGFRa-171Yb_PDGFRb- -1.171339   0.376770   \n",
       "141Pr_aSMA-152Sm_FAP-160Gd_PDGFRa+171Yb_PDGFRb+ -1.565928  -0.567177   \n",
       "141Pr_aSMA-152Sm_FAP-160Gd_PDGFRa+171Yb_PDGFRb- -1.676273   0.312582   \n",
       "141Pr_aSMA-152Sm_FAP-160Gd_PDGFRa-171Yb_PDGFRb+ -0.027514  -0.263329   \n",
       "141Pr_aSMA-152Sm_FAP-160Gd_PDGFRa-171Yb_PDGFRb- -3.676090  -2.072183   \n",
       "\n",
       "                                                 CD4_ki67        CD8  \\\n",
       "141Pr_aSMA+152Sm_FAP+                           -6.558058  -9.859119   \n",
       "141Pr_aSMA+152Sm_FAP-                           -3.610945  -2.143013   \n",
       "141Pr_aSMA-152Sm_FAP+                           -5.115402  -5.239172   \n",
       "141Pr_aSMA-152Sm_FAP-                           -2.528565  -1.986087   \n",
       "141Pr_aSMA+160Gd_PDGFRa+                        -7.530411 -10.207293   \n",
       "...                                                   ...        ...   \n",
       "141Pr_aSMA-152Sm_FAP+160Gd_PDGFRa-171Yb_PDGFRb-  0.228848  -1.115146   \n",
       "141Pr_aSMA-152Sm_FAP-160Gd_PDGFRa+171Yb_PDGFRb+ -2.169421   0.804647   \n",
       "141Pr_aSMA-152Sm_FAP-160Gd_PDGFRa+171Yb_PDGFRb- -1.261522   0.026416   \n",
       "141Pr_aSMA-152Sm_FAP-160Gd_PDGFRa-171Yb_PDGFRb+  0.451982  -1.980337   \n",
       "141Pr_aSMA-152Sm_FAP-160Gd_PDGFRa-171Yb_PDGFRb- -1.400557  -3.769313   \n",
       "\n",
       "                                                 CD8_CD4_FoxP3  CD8_ki67  \\\n",
       "141Pr_aSMA+152Sm_FAP+                                -8.401233 -5.039900   \n",
       "141Pr_aSMA+152Sm_FAP-                                -0.530372 -1.322313   \n",
       "141Pr_aSMA-152Sm_FAP+                                -3.828114 -2.711910   \n",
       "141Pr_aSMA-152Sm_FAP-                                -0.184480 -3.835332   \n",
       "141Pr_aSMA+160Gd_PDGFRa+                             -8.015873 -5.307590   \n",
       "...                                                        ...       ...   \n",
       "141Pr_aSMA-152Sm_FAP+160Gd_PDGFRa-171Yb_PDGFRb-      -1.079682 -1.868728   \n",
       "141Pr_aSMA-152Sm_FAP-160Gd_PDGFRa+171Yb_PDGFRb+       2.981454 -2.052950   \n",
       "141Pr_aSMA-152Sm_FAP-160Gd_PDGFRa+171Yb_PDGFRb-      -0.575596 -2.617799   \n",
       "141Pr_aSMA-152Sm_FAP-160Gd_PDGFRa-171Yb_PDGFRb+       0.220899 -0.512295   \n",
       "141Pr_aSMA-152Sm_FAP-160Gd_PDGFRa-171Yb_PDGFRb-      -3.433206 -2.351832   \n",
       "\n",
       "                                                     Undef  \n",
       "141Pr_aSMA+152Sm_FAP+                           -10.658621  \n",
       "141Pr_aSMA+152Sm_FAP-                            -4.889535  \n",
       "141Pr_aSMA-152Sm_FAP+                            -8.950163  \n",
       "141Pr_aSMA-152Sm_FAP-                            -6.963439  \n",
       "141Pr_aSMA+160Gd_PDGFRa+                        -11.285549  \n",
       "...                                                    ...  \n",
       "141Pr_aSMA-152Sm_FAP+160Gd_PDGFRa-171Yb_PDGFRb-  -2.855788  \n",
       "141Pr_aSMA-152Sm_FAP-160Gd_PDGFRa+171Yb_PDGFRb+  -4.120367  \n",
       "141Pr_aSMA-152Sm_FAP-160Gd_PDGFRa+171Yb_PDGFRb-  -3.727468  \n",
       "141Pr_aSMA-152Sm_FAP-160Gd_PDGFRa-171Yb_PDGFRb+  -0.668674  \n",
       "141Pr_aSMA-152Sm_FAP-160Gd_PDGFRa-171Yb_PDGFRb-  -4.819448  \n",
       "\n",
       "[72 rows x 7 columns]"
      ]
     },
     "execution_count": 7,
     "metadata": {},
     "output_type": "execute_result"
    }
   ],
   "source": [
    "zscore_df"
   ]
  },
  {
   "cell_type": "code",
   "execution_count": null,
   "metadata": {},
   "outputs": [],
   "source": []
  },
  {
   "cell_type": "code",
   "execution_count": null,
   "metadata": {},
   "outputs": [],
   "source": []
  },
  {
   "cell_type": "code",
   "execution_count": null,
   "metadata": {},
   "outputs": [],
   "source": []
  },
  {
   "cell_type": "code",
   "execution_count": null,
   "metadata": {},
   "outputs": [],
   "source": []
  }
 ],
 "metadata": {
  "kernelspec": {
   "display_name": "IMCprocess_venv",
   "language": "python",
   "name": "python3"
  },
  "language_info": {
   "codemirror_mode": {
    "name": "ipython",
    "version": 3
   },
   "file_extension": ".py",
   "mimetype": "text/x-python",
   "name": "python",
   "nbconvert_exporter": "python",
   "pygments_lexer": "ipython3",
   "version": "3.8.5"
  },
  "orig_nbformat": 4
 },
 "nbformat": 4,
 "nbformat_minor": 2
}
