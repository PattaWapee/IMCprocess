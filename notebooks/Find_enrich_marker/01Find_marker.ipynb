{
 "cells": [
  {
   "attachments": {},
   "cell_type": "markdown",
   "metadata": {},
   "source": [
    "# Script for finding enrichment of marker combinations"
   ]
  },
  {
   "cell_type": "code",
   "execution_count": 1,
   "metadata": {},
   "outputs": [
    {
     "name": "stdout",
     "output_type": "stream",
     "text": [
      "/Users/pattama/Desktop/UiB/cancer/git_repo/IMCprocess\n"
     ]
    }
   ],
   "source": [
    "import numpy as np\n",
    "import scanpy as sc\n",
    "import pandas as pd\n",
    "from matplotlib import pyplot as plt\n",
    "import os, sys\n",
    "import anndata as ad\n",
    "\n",
    "import itertools\n",
    "import random\n",
    "import string\n",
    "\n",
    "\n",
    "other_dir_path = os.path.abspath(os.path.join(os.getcwd(), '..','..'))\n",
    "sys.path.append(other_dir_path)\n",
    "\n",
    "print(other_dir_path)\n",
    "import IMCprocess.Img_anndata.Img_anndata as ia\n",
    "import IMCprocess.spatial_analysis.spatial_analysis as sa\n",
    "import IMCprocess.spatial_analysis.combi_enrich as ce\n",
    "import IMCprocess.utils.utils as ut\n",
    "\n",
    "# I have to use custom Img_anndata code for input anndata\n",
    "import Img_anndata as utan"
   ]
  },
  {
   "attachments": {},
   "cell_type": "markdown",
   "metadata": {},
   "source": [
    "# import level1 anndata and analyse only 1 image"
   ]
  },
  {
   "cell_type": "code",
   "execution_count": 2,
   "metadata": {},
   "outputs": [],
   "source": [
    "data_dir = '/Users/pattama/Desktop/UiB/cancer/example_share_code/share_with_vladan/mask_analysis_full_pipeline/example_data/'\n",
    "output_dir = 'output'\n",
    "level1_file = data_dir + '00hanna_adata_totalNB_obj_Level1.pkl'\n",
    "myimg_id = 'R2_001'\n",
    "Img_obj_level1 = ut.read_pickle_obj(level1_file)"
   ]
  },
  {
   "cell_type": "code",
   "execution_count": 3,
   "metadata": {},
   "outputs": [],
   "source": [
    "# Get adata level1 for img_id R2_001\n",
    "Img_level1_R2_001 = ut.filter_adata_obs(Img_obj_level1.adata_dict['level1'],\n",
    "                                        'img_id', \n",
    "                                        [myimg_id])\n",
    "# Get Fibro adata\n",
    "Fibro_adata = ut.filter_adata_obs(Img_level1_R2_001,\n",
    "                                'level1_annotated',\n",
    "                                ['Fibro'])\n",
    "# get Im level2 adata\n",
    "Im_lev2_adata = ut.read_pickle_obj(data_dir+\n",
    "                                   '02hanna_adata_totalNB_obj_ImmuneLevel2.pkl').adata_dict['Immune_level2']"
   ]
  },
  {
   "cell_type": "code",
   "execution_count": 4,
   "metadata": {},
   "outputs": [],
   "source": [
    "Fibro_marker_list = ['141Pr_aSMA', \n",
    "                     '152Sm_FAP',\n",
    "                     '160Gd_PDGFRa',\n",
    "                     '171Yb_PDGFRb']"
   ]
  },
  {
   "cell_type": "code",
   "execution_count": 5,
   "metadata": {},
   "outputs": [
    {
     "name": "stdout",
     "output_type": "stream",
     "text": [
      "start testing combination: \n",
      "['141Pr_aSMA', '152Sm_FAP']\n"
     ]
    },
    {
     "name": "stderr",
     "output_type": "stream",
     "text": [
      "/Users/pattama/Desktop/UiB/venv_folder/IMCprocess_venv/lib/python3.8/site-packages/tqdm/auto.py:22: TqdmWarning: IProgress not found. Please update jupyter and ipywidgets. See https://ipywidgets.readthedocs.io/en/stable/user_install.html\n",
      "  from .autonotebook import tqdm as notebook_tqdm\n",
      "100%|██████████| 1000/1000 [00:07<00:00, 134.44/s]\n"
     ]
    },
    {
     "name": "stdout",
     "output_type": "stream",
     "text": [
      "start testing combination: \n",
      "['141Pr_aSMA', '160Gd_PDGFRa']\n"
     ]
    },
    {
     "name": "stderr",
     "output_type": "stream",
     "text": [
      "100%|██████████| 1000/1000 [00:07<00:00, 134.42/s]\n"
     ]
    },
    {
     "name": "stdout",
     "output_type": "stream",
     "text": [
      "start testing combination: \n",
      "['141Pr_aSMA', '171Yb_PDGFRb']\n"
     ]
    },
    {
     "name": "stderr",
     "output_type": "stream",
     "text": [
      "100%|██████████| 1000/1000 [00:07<00:00, 134.32/s]\n"
     ]
    },
    {
     "name": "stdout",
     "output_type": "stream",
     "text": [
      "start testing combination: \n",
      "['152Sm_FAP', '160Gd_PDGFRa']\n"
     ]
    },
    {
     "name": "stderr",
     "output_type": "stream",
     "text": [
      "100%|██████████| 1000/1000 [00:07<00:00, 133.82/s]\n"
     ]
    },
    {
     "name": "stdout",
     "output_type": "stream",
     "text": [
      "start testing combination: \n",
      "['152Sm_FAP', '171Yb_PDGFRb']\n"
     ]
    },
    {
     "name": "stderr",
     "output_type": "stream",
     "text": [
      "100%|██████████| 1000/1000 [00:07<00:00, 129.32/s]\n"
     ]
    },
    {
     "name": "stdout",
     "output_type": "stream",
     "text": [
      "start testing combination: \n",
      "['160Gd_PDGFRa', '171Yb_PDGFRb']\n"
     ]
    },
    {
     "name": "stderr",
     "output_type": "stream",
     "text": [
      "100%|██████████| 1000/1000 [00:07<00:00, 133.39/s]\n"
     ]
    }
   ],
   "source": [
    "zscore_dict = ce.zscore_combinations(Im_lev2_adata,'Immune_level2_annotated',\n",
    "                                     Fibro_adata, Fibro_marker_list, n = 2)"
   ]
  },
  {
   "cell_type": "code",
   "execution_count": 7,
   "metadata": {},
   "outputs": [
    {
     "data": {
      "text/html": [
       "<div>\n",
       "<style scoped>\n",
       "    .dataframe tbody tr th:only-of-type {\n",
       "        vertical-align: middle;\n",
       "    }\n",
       "\n",
       "    .dataframe tbody tr th {\n",
       "        vertical-align: top;\n",
       "    }\n",
       "\n",
       "    .dataframe thead th {\n",
       "        text-align: right;\n",
       "    }\n",
       "</style>\n",
       "<table border=\"1\" class=\"dataframe\">\n",
       "  <thead>\n",
       "    <tr style=\"text-align: right;\">\n",
       "      <th></th>\n",
       "      <th>CD4</th>\n",
       "      <th>CD4_FoxP3</th>\n",
       "      <th>CD4_ki67</th>\n",
       "      <th>CD8</th>\n",
       "      <th>CD8_CD4_FoxP3</th>\n",
       "      <th>CD8_ki67</th>\n",
       "      <th>Undef</th>\n",
       "    </tr>\n",
       "  </thead>\n",
       "  <tbody>\n",
       "    <tr>\n",
       "      <th>++</th>\n",
       "      <td>-7.746099</td>\n",
       "      <td>-7.651697</td>\n",
       "      <td>-6.744410</td>\n",
       "      <td>-10.217088</td>\n",
       "      <td>-8.500926</td>\n",
       "      <td>-5.084539</td>\n",
       "      <td>-10.419725</td>\n",
       "    </tr>\n",
       "    <tr>\n",
       "      <th>+-</th>\n",
       "      <td>-3.720256</td>\n",
       "      <td>-2.113726</td>\n",
       "      <td>-3.513875</td>\n",
       "      <td>-1.997820</td>\n",
       "      <td>-0.454196</td>\n",
       "      <td>-1.350508</td>\n",
       "      <td>-4.572678</td>\n",
       "    </tr>\n",
       "    <tr>\n",
       "      <th>-+</th>\n",
       "      <td>-5.599698</td>\n",
       "      <td>-4.290008</td>\n",
       "      <td>-5.121636</td>\n",
       "      <td>-5.052495</td>\n",
       "      <td>-3.667925</td>\n",
       "      <td>-2.747995</td>\n",
       "      <td>-8.858870</td>\n",
       "    </tr>\n",
       "    <tr>\n",
       "      <th>--</th>\n",
       "      <td>-3.468711</td>\n",
       "      <td>-1.228841</td>\n",
       "      <td>-2.463967</td>\n",
       "      <td>-1.946194</td>\n",
       "      <td>-0.149102</td>\n",
       "      <td>-3.861019</td>\n",
       "      <td>-6.910814</td>\n",
       "    </tr>\n",
       "  </tbody>\n",
       "</table>\n",
       "</div>"
      ],
      "text/plain": [
       "         CD4  CD4_FoxP3  CD4_ki67        CD8  CD8_CD4_FoxP3  CD8_ki67  \\\n",
       "++ -7.746099  -7.651697 -6.744410 -10.217088      -8.500926 -5.084539   \n",
       "+- -3.720256  -2.113726 -3.513875  -1.997820      -0.454196 -1.350508   \n",
       "-+ -5.599698  -4.290008 -5.121636  -5.052495      -3.667925 -2.747995   \n",
       "-- -3.468711  -1.228841 -2.463967  -1.946194      -0.149102 -3.861019   \n",
       "\n",
       "        Undef  \n",
       "++ -10.419725  \n",
       "+-  -4.572678  \n",
       "-+  -8.858870  \n",
       "--  -6.910814  "
      ]
     },
     "execution_count": 7,
     "metadata": {},
     "output_type": "execute_result"
    }
   ],
   "source": [
    "zscore_dict[('141Pr_aSMA','152Sm_FAP')]"
   ]
  },
  {
   "cell_type": "code",
   "execution_count": 8,
   "metadata": {},
   "outputs": [
    {
     "data": {
      "text/plain": [
       "dict_keys([('141Pr_aSMA', '152Sm_FAP'), ('141Pr_aSMA', '160Gd_PDGFRa'), ('141Pr_aSMA', '171Yb_PDGFRb'), ('152Sm_FAP', '160Gd_PDGFRa'), ('152Sm_FAP', '171Yb_PDGFRb'), ('160Gd_PDGFRa', '171Yb_PDGFRb')])"
      ]
     },
     "execution_count": 8,
     "metadata": {},
     "output_type": "execute_result"
    }
   ],
   "source": [
    "zscore_dict.keys()"
   ]
  },
  {
   "cell_type": "code",
   "execution_count": 9,
   "metadata": {},
   "outputs": [
    {
     "name": "stdout",
     "output_type": "stream",
     "text": [
      "start testing combination: \n",
      "['141Pr_aSMA', '152Sm_FAP', '160Gd_PDGFRa']\n"
     ]
    },
    {
     "name": "stderr",
     "output_type": "stream",
     "text": [
      "100%|██████████| 1000/1000 [00:08<00:00, 123.10/s]\n"
     ]
    },
    {
     "name": "stdout",
     "output_type": "stream",
     "text": [
      "start testing combination: \n",
      "['141Pr_aSMA', '152Sm_FAP', '171Yb_PDGFRb']\n"
     ]
    },
    {
     "name": "stderr",
     "output_type": "stream",
     "text": [
      "100%|██████████| 1000/1000 [00:07<00:00, 125.26/s]\n"
     ]
    },
    {
     "name": "stdout",
     "output_type": "stream",
     "text": [
      "start testing combination: \n",
      "['141Pr_aSMA', '160Gd_PDGFRa', '171Yb_PDGFRb']\n"
     ]
    },
    {
     "name": "stderr",
     "output_type": "stream",
     "text": [
      "100%|██████████| 1000/1000 [00:07<00:00, 125.75/s]\n"
     ]
    },
    {
     "name": "stdout",
     "output_type": "stream",
     "text": [
      "start testing combination: \n",
      "['152Sm_FAP', '160Gd_PDGFRa', '171Yb_PDGFRb']\n"
     ]
    },
    {
     "name": "stderr",
     "output_type": "stream",
     "text": [
      "100%|██████████| 1000/1000 [00:08<00:00, 111.83/s]\n"
     ]
    }
   ],
   "source": [
    "\n",
    "zscore_dict3 = ce.zscore_combinations(Im_lev2_adata,'Immune_level2_annotated',\n",
    "                                     Fibro_adata, Fibro_marker_list, n = 3)"
   ]
  },
  {
   "cell_type": "code",
   "execution_count": 10,
   "metadata": {},
   "outputs": [],
   "source": [
    "merged_dict = {**zscore_dict, **zscore_dict3}"
   ]
  },
  {
   "cell_type": "code",
   "execution_count": 12,
   "metadata": {},
   "outputs": [
    {
     "data": {
      "text/plain": [
       "dict_keys([('141Pr_aSMA', '152Sm_FAP'), ('141Pr_aSMA', '160Gd_PDGFRa'), ('141Pr_aSMA', '171Yb_PDGFRb'), ('152Sm_FAP', '160Gd_PDGFRa'), ('152Sm_FAP', '171Yb_PDGFRb'), ('160Gd_PDGFRa', '171Yb_PDGFRb'), ('141Pr_aSMA', '152Sm_FAP', '160Gd_PDGFRa'), ('141Pr_aSMA', '152Sm_FAP', '171Yb_PDGFRb'), ('141Pr_aSMA', '160Gd_PDGFRa', '171Yb_PDGFRb'), ('152Sm_FAP', '160Gd_PDGFRa', '171Yb_PDGFRb')])"
      ]
     },
     "execution_count": 12,
     "metadata": {},
     "output_type": "execute_result"
    }
   ],
   "source": [
    "merged_dict.keys()"
   ]
  },
  {
   "cell_type": "code",
   "execution_count": null,
   "metadata": {},
   "outputs": [],
   "source": []
  }
 ],
 "metadata": {
  "kernelspec": {
   "display_name": "IMCprocess_venv",
   "language": "python",
   "name": "python3"
  },
  "language_info": {
   "codemirror_mode": {
    "name": "ipython",
    "version": 3
   },
   "file_extension": ".py",
   "mimetype": "text/x-python",
   "name": "python",
   "nbconvert_exporter": "python",
   "pygments_lexer": "ipython3",
   "version": "3.8.5"
  },
  "orig_nbformat": 4
 },
 "nbformat": 4,
 "nbformat_minor": 2
}
