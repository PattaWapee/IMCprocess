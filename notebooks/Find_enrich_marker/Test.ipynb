{
 "cells": [
  {
   "attachments": {},
   "cell_type": "markdown",
   "metadata": {},
   "source": [
    "# Script for finding enrichment of marker combinations"
   ]
  },
  {
   "cell_type": "code",
   "execution_count": null,
   "metadata": {},
   "outputs": [],
   "source": [
    "import numpy as np\n",
    "import scanpy as sc\n",
    "import pandas as pd\n",
    "from matplotlib import pyplot as plt\n",
    "import os, sys\n",
    "import anndata as ad\n",
    "\n",
    "import itertools\n",
    "import random\n",
    "import string\n",
    "\n",
    "\n",
    "other_dir_path = os.path.abspath(os.path.join(os.getcwd(), '..'))\n",
    "sys.path.append(other_dir_path)\n",
    "\n",
    "print(other_dir_path)\n",
    "import IMCprocess.Img_anndata.Img_anndata as ia\n",
    "import IMCprocess.spatial_analysis.spatial_analysis as sa\n",
    "import IMCprocess.spatial_analysis.combi_enrich as ce\n",
    "import IMCprocess.utils.utils as ut"
   ]
  },
  {
   "attachments": {},
   "cell_type": "markdown",
   "metadata": {},
   "source": [
    "## Use function from combi enrich"
   ]
  },
  {
   "cell_type": "code",
   "execution_count": null,
   "metadata": {},
   "outputs": [],
   "source": [
    "\n",
    "# Create a random cell1 and cell2 for testing\n",
    "df1 = ce.rand_marker_XY()\n",
    "df2 = ce.rand_marker_XY()\n",
    "df2.index = list(range(1001, 2001))\n",
    "cell1_adata = ia.Img_anndata(dfs=[df1], img_ids=['R1']).adata\n",
    "cell2_adata = ia.Img_anndata(dfs=[df2], img_ids=['R1']).adata"
   ]
  },
  {
   "attachments": {},
   "cell_type": "markdown",
   "metadata": {},
   "source": [
    "## zscore df from n =2 to n = num_col -1\n",
    " label cell1 with cell1 and cell2 with combination markers + and -  and merge two cell types and calculate zscore of neighborhood enrichment"
   ]
  },
  {
   "cell_type": "code",
   "execution_count": null,
   "metadata": {},
   "outputs": [],
   "source": [
    "zscore_ls = []\n",
    "for n in range(2,len(cell2_adata.var)):\n",
    "    zscore = ce.zscore_combinations(cell1_adata, cell2_adata, n=n);\n",
    "    zscore_ls.append(zscore)"
   ]
  },
  {
   "cell_type": "code",
   "execution_count": null,
   "metadata": {},
   "outputs": [],
   "source": [
    "len(zscore_ls)"
   ]
  },
  {
   "cell_type": "code",
   "execution_count": null,
   "metadata": {},
   "outputs": [],
   "source": [
    "zscore_ls[0].head()"
   ]
  },
  {
   "cell_type": "code",
   "execution_count": null,
   "metadata": {},
   "outputs": [],
   "source": [
    "zscore_ls[6].head()"
   ]
  },
  {
   "cell_type": "code",
   "execution_count": null,
   "metadata": {},
   "outputs": [],
   "source": [
    "ut.save_pickle_obj('output/zscore_ls.pkl', zscore_ls)"
   ]
  },
  {
   "cell_type": "code",
   "execution_count": null,
   "metadata": {},
   "outputs": [],
   "source": []
  },
  {
   "cell_type": "code",
   "execution_count": null,
   "metadata": {},
   "outputs": [],
   "source": []
  },
  {
   "cell_type": "code",
   "execution_count": null,
   "metadata": {},
   "outputs": [],
   "source": []
  },
  {
   "cell_type": "code",
   "execution_count": null,
   "metadata": {},
   "outputs": [],
   "source": [
    "# 2. label cell1 with cell1 and cell2 with combination markers + and -\n",
    "#  and merge two cell types and calculate zscore of neighborhood enrichment\n",
    "\n",
    "\n",
    "zscore_n2 = ce.zscore_combinations(cell1_adata, cell2_adata, n=2);\n"
   ]
  },
  {
   "cell_type": "code",
   "execution_count": null,
   "metadata": {},
   "outputs": [],
   "source": [
    "zscore_n2"
   ]
  },
  {
   "cell_type": "code",
   "execution_count": null,
   "metadata": {},
   "outputs": [],
   "source": [
    "pd.concat(zscore_n2, axis=0)"
   ]
  },
  {
   "cell_type": "code",
   "execution_count": null,
   "metadata": {},
   "outputs": [],
   "source": [
    "zscore_n3 = ce.zscore_combinations(cell1_adata, cell2_adata, n=3)"
   ]
  },
  {
   "cell_type": "code",
   "execution_count": null,
   "metadata": {},
   "outputs": [],
   "source": [
    "pd.concat(zscore_n3, axis=0)"
   ]
  },
  {
   "cell_type": "code",
   "execution_count": null,
   "metadata": {},
   "outputs": [],
   "source": []
  },
  {
   "cell_type": "code",
   "execution_count": null,
   "metadata": {},
   "outputs": [],
   "source": []
  },
  {
   "attachments": {},
   "cell_type": "markdown",
   "metadata": {},
   "source": [
    "## Create random anndata for Two cell types\n",
    "* Create anndata cell type 1 to pair with cell type 2 for enrichment analysis\n",
    "* Create anndata of cell type 2 with combination of markers"
   ]
  },
  {
   "cell_type": "code",
   "execution_count": null,
   "metadata": {},
   "outputs": [],
   "source": [
    "def rand_marker_XY(ncol = 9, nrow=1000):\n",
    "    columns_list=[string.ascii_uppercase[i] for i in range(ncol)]\n",
    "    df = pd.DataFrame(np.random.rand(nrow, ncol), columns=columns_list)\n",
    "    df['X_position'] = [random.uniform(0, 256) for _ in range(nrow)]\n",
    "    df['Y_position'] = [random.uniform(0, 256) for _ in range(nrow)]\n",
    "    return(df)\n",
    "\n",
    "def col_combinations(df, n=2):\n",
    "    '''\n",
    "    Return all combinations of columns in a dataframe\n",
    "    '''\n",
    "    combinations = list(itertools.combinations(df.columns, n))\n",
    "    combinations_as_lists = [list(c) for c in combinations]\n",
    "    return(combinations_as_lists)"
   ]
  },
  {
   "cell_type": "code",
   "execution_count": null,
   "metadata": {},
   "outputs": [],
   "source": [
    "df1 = rand_marker_XY()\n",
    "df2 = rand_marker_XY()\n",
    "df2.index = list(range(1001, 2001))"
   ]
  },
  {
   "cell_type": "code",
   "execution_count": null,
   "metadata": {},
   "outputs": [],
   "source": [
    "df2.head()"
   ]
  },
  {
   "cell_type": "code",
   "execution_count": null,
   "metadata": {},
   "outputs": [],
   "source": [
    "Img_cell1 = ia.Img_anndata(dfs=[df1], img_ids=['R1'])\n",
    "Img_cell2 = ia.Img_anndata(dfs=[df2], img_ids=['R1'])"
   ]
  },
  {
   "attachments": {},
   "cell_type": "markdown",
   "metadata": {},
   "source": [
    "## label cell with threshold for each marker for cell type2"
   ]
  },
  {
   "cell_type": "code",
   "execution_count": null,
   "metadata": {},
   "outputs": [],
   "source": [
    "def binary_dataframe(df, threshold=0.5):\n",
    "    '''\n",
    "    Return a DataFrame with binary columns based on a threshold\n",
    "    '''\n",
    "    binary_df = pd.DataFrame()\n",
    "    for col in df.columns:\n",
    "        binary_col = np.where(df[col] > threshold, 1, 0)\n",
    "        binary_df[col] = binary_col\n",
    "    return binary_df"
   ]
  },
  {
   "cell_type": "code",
   "execution_count": null,
   "metadata": {},
   "outputs": [],
   "source": [
    "binary_df = binary_dataframe(Img_cell2.adata.to_df())"
   ]
  },
  {
   "cell_type": "code",
   "execution_count": null,
   "metadata": {},
   "outputs": [],
   "source": [
    "binary_df.head()"
   ]
  },
  {
   "cell_type": "code",
   "execution_count": null,
   "metadata": {},
   "outputs": [],
   "source": [
    "combi = col_combinations(binary_df, n=2)\n",
    "combi[0:3]"
   ]
  },
  {
   "cell_type": "code",
   "execution_count": null,
   "metadata": {},
   "outputs": [],
   "source": [
    "def label_marker(df, marker_list):\n",
    "    df = df[marker_list]\n",
    "    for col in df.columns:\n",
    "        #df.loc[df[col] == 1, col] = col+'+'\n",
    "        #df.loc[df[col] == 0, col] = col+'-'\n",
    "        df.loc[df[col] == 1, col] = '+'\n",
    "        df.loc[df[col] == 0, col] = '-'\n",
    "    df_label = pd.DataFrame(df.apply(lambda row: ''.join(row.astype(str)), axis=1), columns=['label'])\n",
    "    #one_hotdf = pd.get_dummies(df_label['label'])\n",
    "    df_label['label'] = df_label['label'].astype('category')\n",
    "    return df_label"
   ]
  },
  {
   "cell_type": "code",
   "execution_count": null,
   "metadata": {},
   "outputs": [],
   "source": [
    "label_marker(binary_df, ['A', 'B']).head()"
   ]
  },
  {
   "cell_type": "code",
   "execution_count": null,
   "metadata": {},
   "outputs": [],
   "source": [
    "label_df = label_marker(binary_df, ['A', 'B'])"
   ]
  },
  {
   "cell_type": "code",
   "execution_count": null,
   "metadata": {},
   "outputs": [],
   "source": [
    "label_df.index = Img_cell2.adata.obs.index\n",
    "Img_cell2.adata.obs = pd.concat([Img_cell2.adata.obs, label_df], axis=1)"
   ]
  },
  {
   "cell_type": "code",
   "execution_count": null,
   "metadata": {},
   "outputs": [],
   "source": [
    "Img_cell2.adata.obs.head()"
   ]
  },
  {
   "cell_type": "code",
   "execution_count": null,
   "metadata": {},
   "outputs": [],
   "source": [
    "# label cell1 \n",
    "Img_cell1.adata.obs['label'] = 'cell1-AB'\n",
    "Img_cell1.adata.obs.head()"
   ]
  },
  {
   "cell_type": "code",
   "execution_count": null,
   "metadata": {},
   "outputs": [],
   "source": [
    "merged_adata = ad.concat([Img_cell1.adata, Img_cell2.adata], axis=0)\n",
    "merged_adata.obs['label'] = merged_adata.obs['label'].astype('category')"
   ]
  },
  {
   "cell_type": "code",
   "execution_count": null,
   "metadata": {},
   "outputs": [],
   "source": [
    "merged_adata.obs"
   ]
  },
  {
   "cell_type": "code",
   "execution_count": null,
   "metadata": {},
   "outputs": [],
   "source": [
    "sa.run_spatial_nhood(merged_adata, 'label', 15)"
   ]
  },
  {
   "cell_type": "code",
   "execution_count": null,
   "metadata": {},
   "outputs": [],
   "source": [
    "sa.plt_spatial_nhood(merged_adata, 'label', './output/','test', img_size=(2,1))"
   ]
  },
  {
   "cell_type": "code",
   "execution_count": null,
   "metadata": {},
   "outputs": [],
   "source": [
    "zscore = merged_adata.uns['label_nhood_enrichment']['zscore'][-1]\n",
    "label_index = merged_adata.obs['label'].cat.categories"
   ]
  },
  {
   "cell_type": "code",
   "execution_count": null,
   "metadata": {},
   "outputs": [],
   "source": [
    "pd.DataFrame(zscore[:-1], index=label_index[:-1], columns=list(label_index[-1])).T"
   ]
  },
  {
   "cell_type": "code",
   "execution_count": null,
   "metadata": {},
   "outputs": [],
   "source": [
    "merged_adata.obs"
   ]
  },
  {
   "cell_type": "code",
   "execution_count": null,
   "metadata": {},
   "outputs": [],
   "source": [
    "label_index[-1]"
   ]
  },
  {
   "cell_type": "code",
   "execution_count": null,
   "metadata": {},
   "outputs": [],
   "source": []
  }
 ],
 "metadata": {
  "kernelspec": {
   "display_name": "IMCprocess_venv",
   "language": "python",
   "name": "python3"
  },
  "language_info": {
   "codemirror_mode": {
    "name": "ipython",
    "version": 3
   },
   "file_extension": ".py",
   "mimetype": "text/x-python",
   "name": "python",
   "nbconvert_exporter": "python",
   "pygments_lexer": "ipython3",
   "version": "3.8.5"
  },
  "orig_nbformat": 4,
  "vscode": {
   "interpreter": {
    "hash": "ffa5b3377fe2834d7df4a993f0474a8b0a83c750849adf4771c2b84c51f11ae9"
   }
  }
 },
 "nbformat": 4,
 "nbformat_minor": 2
}
