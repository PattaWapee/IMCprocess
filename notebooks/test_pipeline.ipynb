{
 "cells": [
  {
   "cell_type": "markdown",
   "metadata": {},
   "source": [
    "# Test pipeline from IMCprocess"
   ]
  },
  {
   "attachments": {},
   "cell_type": "markdown",
   "metadata": {},
   "source": [
    "## Create Img_adata object from csv input files\n",
    "It is noted that csv file should have columns 'X_position' and 'Y_position'. Since csv output from Imacyte do not have X and Y coordinates, we need to add them from histogram csv output"
   ]
  },
  {
   "cell_type": "code",
   "execution_count": 6,
   "metadata": {},
   "outputs": [],
   "source": [
    "import numpy as np\n",
    "import scanpy as sc\n",
    "import pandas as pd\n",
    "from matplotlib import pyplot as plt\n",
    "import os, sys\n",
    "sys.path.append(os.path.join('..'))\n",
    "\n",
    "import IMCprocess.Img_anndata as utan\n",
    "import IMCprocess.utils as ut"
   ]
  },
  {
   "cell_type": "code",
   "execution_count": 7,
   "metadata": {},
   "outputs": [],
   "source": [
    "def add_XY(histocat_csv, Imacyte_csv):\n",
    "    new_df_ls = []\n",
    "    for raw, new in zip(histocat_csv, Imacyte_csv):\n",
    "        raw_df = pd.read_csv(raw)\n",
    "        new_df = pd.read_csv(new, index_col=0)\n",
    "        new_df['X_position'] = np.array(raw_df['X_position'])\n",
    "        new_df['Y_position'] = np.array(raw_df['Y_position'])\n",
    "        new_df_ls.append(new_df)\n",
    "    return new_df_ls"
   ]
  },
  {
   "cell_type": "code",
   "execution_count": null,
   "metadata": {},
   "outputs": [],
   "source": [
    "histocat_csv = []"
   ]
  }
 ],
 "metadata": {
  "kernelspec": {
   "display_name": "3.8.5",
   "language": "python",
   "name": "python3"
  },
  "language_info": {
   "codemirror_mode": {
    "name": "ipython",
    "version": 3
   },
   "file_extension": ".py",
   "mimetype": "text/x-python",
   "name": "python",
   "nbconvert_exporter": "python",
   "pygments_lexer": "ipython3",
   "version": "3.8.5"
  },
  "orig_nbformat": 4,
  "vscode": {
   "interpreter": {
    "hash": "1c6d32db597b951ba6b2db5ac4727b49820c97ad2d6dfe069cd204729e1c1167"
   }
  }
 },
 "nbformat": 4,
 "nbformat_minor": 2
}
