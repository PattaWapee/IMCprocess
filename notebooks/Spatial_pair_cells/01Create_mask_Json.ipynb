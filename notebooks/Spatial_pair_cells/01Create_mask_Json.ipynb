{
 "cells": [
  {
   "attachments": {},
   "cell_type": "markdown",
   "metadata": {},
   "source": [
    "# Create Json mask file to choose the appropriate threshold"
   ]
  },
  {
   "attachments": {},
   "cell_type": "markdown",
   "metadata": {},
   "source": [
    "Labelled exported as geoJSON:\n",
    "\n",
    "* for QuPath coordinates need to be integers (pixels)\n",
    "* coordinates need to be (x,y) and in form of a list (not nd-array)\n",
    "* export of cells (around 10k cells) will take a while. Import to QuPath fast, as long as * no hierarchy is resolved"
   ]
  },
  {
   "cell_type": "code",
   "execution_count": 18,
   "metadata": {},
   "outputs": [
    {
     "name": "stdout",
     "output_type": "stream",
     "text": [
      "/Users/pattama/Desktop/UiB/cancer/git_repo/IMCprocess\n"
     ]
    }
   ],
   "source": [
    "import numpy as np\n",
    "import pandas as pd\n",
    "import matplotlib.pyplot as plt\n",
    "import json\n",
    "import os, sys\n",
    "\n",
    "other_dir_path = os.path.abspath(os.path.join(os.getcwd(), '..', '..'))\n",
    "sys.path.append(other_dir_path)\n",
    "\n",
    "print(other_dir_path)\n",
    "import IMCprocess.spatial_analysis.spatial_analysis as sa\n",
    "import IMCprocess.spatial_analysis.combi_enrich as ce\n",
    "import IMCprocess.utils.utils as ut\n",
    "\n",
    "# I have to use custom Img_anndata code\n",
    "import Img_anndata as utan"
   ]
  },
  {
   "attachments": {},
   "cell_type": "markdown",
   "metadata": {},
   "source": [
    "## Import mask and level1 annotated object"
   ]
  },
  {
   "cell_type": "code",
   "execution_count": 19,
   "metadata": {},
   "outputs": [],
   "source": [
    "input_mask = 'sample_data/Patient1_001.tiff'\n",
    "output_dir = 'output'\n",
    "level1_file = 'sample_data/00hanna_adata_pilottma1_obj_Level1.pkl'"
   ]
  },
  {
   "cell_type": "code",
   "execution_count": 21,
   "metadata": {},
   "outputs": [],
   "source": [
    "Img_obj_level1 = ut.read_pickle_obj(level1_file)"
   ]
  },
  {
   "attachments": {},
   "cell_type": "markdown",
   "metadata": {},
   "source": [
    "## Create epithelial anndata"
   ]
  },
  {
   "cell_type": "code",
   "execution_count": 27,
   "metadata": {},
   "outputs": [],
   "source": [
    "epi_adata = Img_obj_level1.adata_dict['level1'][Img_obj_level1.adata_dict['level1'].obs['level1_annotated'] == 'Ep']"
   ]
  },
  {
   "cell_type": "code",
   "execution_count": 33,
   "metadata": {},
   "outputs": [
    {
     "data": {
      "text/plain": [
       "Index(['Bi209_pSTAT3_', 'Dy161_pSMAD2_', 'Dy162_CD8_', 'Dy163_ER_',\n",
       "       'Dy164_CD20_', 'Er166_HER2_', 'Er167_GATA3_', 'Er168_Ki67_',\n",
       "       'Er170_CD3_', 'Eu151_CD3134_', 'Eu153_CD44_', 'Gd155_FoxP3_',\n",
       "       'Gd156_CD4_', 'Gd158_Ecad_', 'Gd160_PDGFRa_', 'In113_ADHL1_',\n",
       "       'In115_GammaCat_', 'La139_MCAM_', 'Nd142_CTLA4_', 'Nd143_Vim_',\n",
       "       'Nd144_YAP1_', 'Nd145_CD45_', 'Nd146_CD16_', 'Nd148_PanCk_',\n",
       "       'Nd150_PDL1_', 'Pr141_aSMA_', 'Sm147_CD163_', 'Sm149_CK5_',\n",
       "       'Sm152_FAP_', 'Sm154_CD11c_', 'Tb159_CD68_', 'Tm169_CD24_',\n",
       "       'Yb171_PDGFRb_', 'Yb172_ClCasp3_', 'Yb173_GranzymeB_', 'Yb174_CK818_'],\n",
       "      dtype='object')"
      ]
     },
     "execution_count": 33,
     "metadata": {},
     "output_type": "execute_result"
    }
   ],
   "source": [
    "epi_adata.var_names"
   ]
  },
  {
   "attachments": {},
   "cell_type": "markdown",
   "metadata": {},
   "source": [
    "## label 1, 0 for positive and negative cells from threshold"
   ]
  },
  {
   "cell_type": "code",
   "execution_count": 37,
   "metadata": {},
   "outputs": [],
   "source": [
    "Ki67_df = epi_adata.to_df()[['Er168_Ki67_']]\n",
    "Vim_df = epi_adata.to_df()[['Nd143_Vim_']]"
   ]
  },
  {
   "attachments": {},
   "cell_type": "markdown",
   "metadata": {},
   "source": [
    "### range threshold from 0.2 - 0.5"
   ]
  },
  {
   "cell_type": "code",
   "execution_count": 38,
   "metadata": {},
   "outputs": [
    {
     "data": {
      "text/html": [
       "<div>\n",
       "<style scoped>\n",
       "    .dataframe tbody tr th:only-of-type {\n",
       "        vertical-align: middle;\n",
       "    }\n",
       "\n",
       "    .dataframe tbody tr th {\n",
       "        vertical-align: top;\n",
       "    }\n",
       "\n",
       "    .dataframe thead th {\n",
       "        text-align: right;\n",
       "    }\n",
       "</style>\n",
       "<table border=\"1\" class=\"dataframe\">\n",
       "  <thead>\n",
       "    <tr style=\"text-align: right;\">\n",
       "      <th></th>\n",
       "      <th>Nd143_Vim_</th>\n",
       "    </tr>\n",
       "    <tr>\n",
       "      <th>Cell_id</th>\n",
       "      <th></th>\n",
       "    </tr>\n",
       "  </thead>\n",
       "  <tbody>\n",
       "    <tr>\n",
       "      <th>14777_0</th>\n",
       "      <td>0.166667</td>\n",
       "    </tr>\n",
       "    <tr>\n",
       "      <th>14778_0</th>\n",
       "      <td>0.375000</td>\n",
       "    </tr>\n",
       "    <tr>\n",
       "      <th>14779_0</th>\n",
       "      <td>0.181818</td>\n",
       "    </tr>\n",
       "    <tr>\n",
       "      <th>14780_0</th>\n",
       "      <td>0.354839</td>\n",
       "    </tr>\n",
       "    <tr>\n",
       "      <th>14782_0</th>\n",
       "      <td>0.361111</td>\n",
       "    </tr>\n",
       "    <tr>\n",
       "      <th>...</th>\n",
       "      <td>...</td>\n",
       "    </tr>\n",
       "    <tr>\n",
       "      <th>29067_2</th>\n",
       "      <td>0.000000</td>\n",
       "    </tr>\n",
       "    <tr>\n",
       "      <th>29068_2</th>\n",
       "      <td>0.500000</td>\n",
       "    </tr>\n",
       "    <tr>\n",
       "      <th>29069_2</th>\n",
       "      <td>0.538462</td>\n",
       "    </tr>\n",
       "    <tr>\n",
       "      <th>29070_2</th>\n",
       "      <td>0.000000</td>\n",
       "    </tr>\n",
       "    <tr>\n",
       "      <th>29071_2</th>\n",
       "      <td>0.600000</td>\n",
       "    </tr>\n",
       "  </tbody>\n",
       "</table>\n",
       "<p>5574 rows × 1 columns</p>\n",
       "</div>"
      ],
      "text/plain": [
       "         Nd143_Vim_\n",
       "Cell_id            \n",
       "14777_0    0.166667\n",
       "14778_0    0.375000\n",
       "14779_0    0.181818\n",
       "14780_0    0.354839\n",
       "14782_0    0.361111\n",
       "...             ...\n",
       "29067_2    0.000000\n",
       "29068_2    0.500000\n",
       "29069_2    0.538462\n",
       "29070_2    0.000000\n",
       "29071_2    0.600000\n",
       "\n",
       "[5574 rows x 1 columns]"
      ]
     },
     "execution_count": 38,
     "metadata": {},
     "output_type": "execute_result"
    }
   ],
   "source": []
  },
  {
   "cell_type": "code",
   "execution_count": null,
   "metadata": {},
   "outputs": [],
   "source": []
  }
 ],
 "metadata": {
  "kernelspec": {
   "display_name": "IMCprocess_venv",
   "language": "python",
   "name": "python3"
  },
  "language_info": {
   "codemirror_mode": {
    "name": "ipython",
    "version": 3
   },
   "file_extension": ".py",
   "mimetype": "text/x-python",
   "name": "python",
   "nbconvert_exporter": "python",
   "pygments_lexer": "ipython3",
   "version": "3.8.5"
  },
  "orig_nbformat": 4,
  "vscode": {
   "interpreter": {
    "hash": "ffa5b3377fe2834d7df4a993f0474a8b0a83c750849adf4771c2b84c51f11ae9"
   }
  }
 },
 "nbformat": 4,
 "nbformat_minor": 2
}
