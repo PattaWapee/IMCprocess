{
 "cells": [
  {
   "cell_type": "markdown",
   "metadata": {},
   "source": [
    "# Script for finding enrichment of marker combinations"
   ]
  },
  {
   "cell_type": "code",
   "execution_count": 1,
   "metadata": {},
   "outputs": [],
   "source": [
    "import numpy as np\n",
    "import scanpy as sc\n",
    "import pandas as pd\n",
    "from matplotlib import pyplot as plt\n",
    "import os, sys\n",
    "import anndata as ad\n",
    "\n",
    "import itertools\n",
    "import random\n",
    "import string\n",
    "\n",
    "sys.path.append(os.path.join('..'))\n",
    "from IMCprocess.img_anndata.img_anndata import Img_anndata\n",
    "import IMCprocess.spatial_analysis.spatial_analysis as sa\n",
    "import IMCprocess.spatial_analysis.combi_enrich as ce"
   ]
  },
  {
   "attachments": {},
   "cell_type": "markdown",
   "metadata": {},
   "source": [
    "## Use function from combi enrich"
   ]
  },
  {
   "cell_type": "code",
   "execution_count": 2,
   "metadata": {},
   "outputs": [],
   "source": [
    "\n",
    "# Create a random cell1 and cell2 for testing\n",
    "df1 = ce.rand_marker_XY()\n",
    "df2 = ce.rand_marker_XY()\n",
    "df2.index = list(range(1001, 2001))\n",
    "cell1_adata = Img_anndata(dfs=[df1], img_ids=['R1']).adata\n",
    "cell2_adata = Img_anndata(dfs=[df2], img_ids=['R1']).adata"
   ]
  },
  {
   "cell_type": "code",
   "execution_count": null,
   "metadata": {},
   "outputs": [],
   "source": [
    "# 2. label cell1 with zzcell1 and cell2 with combination markers + and -\n",
    "#  and merge two cell types and calculate zscore of neighborhood enrichment\n",
    "zscore_n2 = ce.zscore_combinations(cell1_adata, cell2_adata, n=2)\n"
   ]
  },
  {
   "cell_type": "code",
   "execution_count": null,
   "metadata": {},
   "outputs": [],
   "source": []
  },
  {
   "cell_type": "code",
   "execution_count": null,
   "metadata": {},
   "outputs": [],
   "source": []
  },
  {
   "attachments": {},
   "cell_type": "markdown",
   "metadata": {},
   "source": [
    "## Create random anndata for Two cell types\n",
    "* Create anndata cell type 1 to pair with cell type 2 for enrichment analysis\n",
    "* Create anndata of cell type 2 with combination of markers"
   ]
  },
  {
   "cell_type": "code",
   "execution_count": 3,
   "metadata": {},
   "outputs": [],
   "source": [
    "def rand_marker_XY(ncol = 9, nrow=1000):\n",
    "    columns_list=[string.ascii_uppercase[i] for i in range(ncol)]\n",
    "    df = pd.DataFrame(np.random.rand(nrow, ncol), columns=columns_list)\n",
    "    df['X_position'] = [random.uniform(0, 256) for _ in range(nrow)]\n",
    "    df['Y_position'] = [random.uniform(0, 256) for _ in range(nrow)]\n",
    "    return(df)\n",
    "\n",
    "def col_combinations(df, n=2):\n",
    "    '''\n",
    "    Return all combinations of columns in a dataframe\n",
    "    '''\n",
    "    combinations = list(itertools.combinations(df.columns, n))\n",
    "    combinations_as_lists = [list(c) for c in combinations]\n",
    "    return(combinations_as_lists)"
   ]
  },
  {
   "cell_type": "code",
   "execution_count": 4,
   "metadata": {},
   "outputs": [],
   "source": [
    "df1 = rand_marker_XY()\n",
    "df2 = rand_marker_XY()\n",
    "df2.index = list(range(1001, 2001))"
   ]
  },
  {
   "cell_type": "code",
   "execution_count": 5,
   "metadata": {},
   "outputs": [
    {
     "data": {
      "text/html": [
       "<div>\n",
       "<style scoped>\n",
       "    .dataframe tbody tr th:only-of-type {\n",
       "        vertical-align: middle;\n",
       "    }\n",
       "\n",
       "    .dataframe tbody tr th {\n",
       "        vertical-align: top;\n",
       "    }\n",
       "\n",
       "    .dataframe thead th {\n",
       "        text-align: right;\n",
       "    }\n",
       "</style>\n",
       "<table border=\"1\" class=\"dataframe\">\n",
       "  <thead>\n",
       "    <tr style=\"text-align: right;\">\n",
       "      <th></th>\n",
       "      <th>A</th>\n",
       "      <th>B</th>\n",
       "      <th>C</th>\n",
       "      <th>D</th>\n",
       "      <th>E</th>\n",
       "      <th>F</th>\n",
       "      <th>G</th>\n",
       "      <th>H</th>\n",
       "      <th>I</th>\n",
       "      <th>X_position</th>\n",
       "      <th>Y_position</th>\n",
       "    </tr>\n",
       "  </thead>\n",
       "  <tbody>\n",
       "    <tr>\n",
       "      <th>1001</th>\n",
       "      <td>0.197511</td>\n",
       "      <td>0.763273</td>\n",
       "      <td>0.088366</td>\n",
       "      <td>0.754450</td>\n",
       "      <td>0.308201</td>\n",
       "      <td>0.964569</td>\n",
       "      <td>0.375335</td>\n",
       "      <td>0.982882</td>\n",
       "      <td>0.581088</td>\n",
       "      <td>91.608871</td>\n",
       "      <td>97.945401</td>\n",
       "    </tr>\n",
       "    <tr>\n",
       "      <th>1002</th>\n",
       "      <td>0.205615</td>\n",
       "      <td>0.032721</td>\n",
       "      <td>0.667574</td>\n",
       "      <td>0.105451</td>\n",
       "      <td>0.932768</td>\n",
       "      <td>0.253630</td>\n",
       "      <td>0.608073</td>\n",
       "      <td>0.731779</td>\n",
       "      <td>0.731461</td>\n",
       "      <td>167.419736</td>\n",
       "      <td>85.031024</td>\n",
       "    </tr>\n",
       "    <tr>\n",
       "      <th>1003</th>\n",
       "      <td>0.980062</td>\n",
       "      <td>0.976713</td>\n",
       "      <td>0.386569</td>\n",
       "      <td>0.425076</td>\n",
       "      <td>0.271137</td>\n",
       "      <td>0.814718</td>\n",
       "      <td>0.120907</td>\n",
       "      <td>0.648760</td>\n",
       "      <td>0.837415</td>\n",
       "      <td>36.690249</td>\n",
       "      <td>92.674356</td>\n",
       "    </tr>\n",
       "    <tr>\n",
       "      <th>1004</th>\n",
       "      <td>0.797435</td>\n",
       "      <td>0.650032</td>\n",
       "      <td>0.924948</td>\n",
       "      <td>0.337442</td>\n",
       "      <td>0.087943</td>\n",
       "      <td>0.695036</td>\n",
       "      <td>0.375378</td>\n",
       "      <td>0.817558</td>\n",
       "      <td>0.414541</td>\n",
       "      <td>96.167805</td>\n",
       "      <td>121.102073</td>\n",
       "    </tr>\n",
       "    <tr>\n",
       "      <th>1005</th>\n",
       "      <td>0.604231</td>\n",
       "      <td>0.239951</td>\n",
       "      <td>0.457226</td>\n",
       "      <td>0.235479</td>\n",
       "      <td>0.034287</td>\n",
       "      <td>0.596062</td>\n",
       "      <td>0.318978</td>\n",
       "      <td>0.665198</td>\n",
       "      <td>0.279427</td>\n",
       "      <td>237.602911</td>\n",
       "      <td>32.750087</td>\n",
       "    </tr>\n",
       "  </tbody>\n",
       "</table>\n",
       "</div>"
      ],
      "text/plain": [
       "             A         B         C         D         E         F         G  \\\n",
       "1001  0.197511  0.763273  0.088366  0.754450  0.308201  0.964569  0.375335   \n",
       "1002  0.205615  0.032721  0.667574  0.105451  0.932768  0.253630  0.608073   \n",
       "1003  0.980062  0.976713  0.386569  0.425076  0.271137  0.814718  0.120907   \n",
       "1004  0.797435  0.650032  0.924948  0.337442  0.087943  0.695036  0.375378   \n",
       "1005  0.604231  0.239951  0.457226  0.235479  0.034287  0.596062  0.318978   \n",
       "\n",
       "             H         I  X_position  Y_position  \n",
       "1001  0.982882  0.581088   91.608871   97.945401  \n",
       "1002  0.731779  0.731461  167.419736   85.031024  \n",
       "1003  0.648760  0.837415   36.690249   92.674356  \n",
       "1004  0.817558  0.414541   96.167805  121.102073  \n",
       "1005  0.665198  0.279427  237.602911   32.750087  "
      ]
     },
     "execution_count": 5,
     "metadata": {},
     "output_type": "execute_result"
    }
   ],
   "source": [
    "df2.head()"
   ]
  },
  {
   "cell_type": "code",
   "execution_count": 6,
   "metadata": {},
   "outputs": [],
   "source": [
    "Img_cell1 = Img_anndata(dfs=[df1], img_ids=['R1'])\n",
    "Img_cell2 = Img_anndata(dfs=[df2], img_ids=['R1'])"
   ]
  },
  {
   "attachments": {},
   "cell_type": "markdown",
   "metadata": {},
   "source": [
    "## label cell with threshold for each marker for cell type2"
   ]
  },
  {
   "cell_type": "code",
   "execution_count": 7,
   "metadata": {},
   "outputs": [],
   "source": [
    "def binary_dataframe(df, threshold=0.5):\n",
    "    '''\n",
    "    Return a DataFrame with binary columns based on a threshold\n",
    "    '''\n",
    "    binary_df = pd.DataFrame()\n",
    "    for col in df.columns:\n",
    "        binary_col = np.where(df[col] > threshold, 1, 0)\n",
    "        binary_df[col] = binary_col\n",
    "    return binary_df"
   ]
  },
  {
   "cell_type": "code",
   "execution_count": 8,
   "metadata": {},
   "outputs": [],
   "source": [
    "binary_df = binary_dataframe(Img_cell2.adata.to_df())"
   ]
  },
  {
   "cell_type": "code",
   "execution_count": 9,
   "metadata": {},
   "outputs": [
    {
     "data": {
      "text/html": [
       "<div>\n",
       "<style scoped>\n",
       "    .dataframe tbody tr th:only-of-type {\n",
       "        vertical-align: middle;\n",
       "    }\n",
       "\n",
       "    .dataframe tbody tr th {\n",
       "        vertical-align: top;\n",
       "    }\n",
       "\n",
       "    .dataframe thead th {\n",
       "        text-align: right;\n",
       "    }\n",
       "</style>\n",
       "<table border=\"1\" class=\"dataframe\">\n",
       "  <thead>\n",
       "    <tr style=\"text-align: right;\">\n",
       "      <th></th>\n",
       "      <th>A</th>\n",
       "      <th>B</th>\n",
       "      <th>C</th>\n",
       "      <th>D</th>\n",
       "      <th>E</th>\n",
       "      <th>F</th>\n",
       "      <th>G</th>\n",
       "      <th>H</th>\n",
       "      <th>I</th>\n",
       "    </tr>\n",
       "  </thead>\n",
       "  <tbody>\n",
       "    <tr>\n",
       "      <th>0</th>\n",
       "      <td>0</td>\n",
       "      <td>1</td>\n",
       "      <td>0</td>\n",
       "      <td>1</td>\n",
       "      <td>0</td>\n",
       "      <td>1</td>\n",
       "      <td>0</td>\n",
       "      <td>1</td>\n",
       "      <td>1</td>\n",
       "    </tr>\n",
       "    <tr>\n",
       "      <th>1</th>\n",
       "      <td>0</td>\n",
       "      <td>0</td>\n",
       "      <td>1</td>\n",
       "      <td>0</td>\n",
       "      <td>1</td>\n",
       "      <td>0</td>\n",
       "      <td>1</td>\n",
       "      <td>1</td>\n",
       "      <td>1</td>\n",
       "    </tr>\n",
       "    <tr>\n",
       "      <th>2</th>\n",
       "      <td>1</td>\n",
       "      <td>1</td>\n",
       "      <td>0</td>\n",
       "      <td>0</td>\n",
       "      <td>0</td>\n",
       "      <td>1</td>\n",
       "      <td>0</td>\n",
       "      <td>1</td>\n",
       "      <td>1</td>\n",
       "    </tr>\n",
       "    <tr>\n",
       "      <th>3</th>\n",
       "      <td>1</td>\n",
       "      <td>1</td>\n",
       "      <td>1</td>\n",
       "      <td>0</td>\n",
       "      <td>0</td>\n",
       "      <td>1</td>\n",
       "      <td>0</td>\n",
       "      <td>1</td>\n",
       "      <td>0</td>\n",
       "    </tr>\n",
       "    <tr>\n",
       "      <th>4</th>\n",
       "      <td>1</td>\n",
       "      <td>0</td>\n",
       "      <td>0</td>\n",
       "      <td>0</td>\n",
       "      <td>0</td>\n",
       "      <td>1</td>\n",
       "      <td>0</td>\n",
       "      <td>1</td>\n",
       "      <td>0</td>\n",
       "    </tr>\n",
       "  </tbody>\n",
       "</table>\n",
       "</div>"
      ],
      "text/plain": [
       "   A  B  C  D  E  F  G  H  I\n",
       "0  0  1  0  1  0  1  0  1  1\n",
       "1  0  0  1  0  1  0  1  1  1\n",
       "2  1  1  0  0  0  1  0  1  1\n",
       "3  1  1  1  0  0  1  0  1  0\n",
       "4  1  0  0  0  0  1  0  1  0"
      ]
     },
     "execution_count": 9,
     "metadata": {},
     "output_type": "execute_result"
    }
   ],
   "source": [
    "binary_df.head()"
   ]
  },
  {
   "cell_type": "code",
   "execution_count": 10,
   "metadata": {},
   "outputs": [
    {
     "data": {
      "text/plain": [
       "[['A', 'B'], ['A', 'C'], ['A', 'D']]"
      ]
     },
     "execution_count": 10,
     "metadata": {},
     "output_type": "execute_result"
    }
   ],
   "source": [
    "combi = col_combinations(binary_df, n=2)\n",
    "combi[0:3]"
   ]
  },
  {
   "cell_type": "code",
   "execution_count": 11,
   "metadata": {},
   "outputs": [],
   "source": [
    "def label_marker(df, marker_list):\n",
    "    df = df[marker_list]\n",
    "    for col in df.columns:\n",
    "        df.loc[df[col] == 1, col] = col+'+'\n",
    "        df.loc[df[col] == 0, col] = col+'-'\n",
    "    df_label = pd.DataFrame(df.apply(lambda row: ''.join(row.astype(str)), axis=1), columns=['label'])\n",
    "    #one_hotdf = pd.get_dummies(df_label['label'])\n",
    "    df_label['label'] = df_label['label'].astype('category')\n",
    "    return df_label"
   ]
  },
  {
   "cell_type": "code",
   "execution_count": 12,
   "metadata": {},
   "outputs": [
    {
     "data": {
      "text/html": [
       "<div>\n",
       "<style scoped>\n",
       "    .dataframe tbody tr th:only-of-type {\n",
       "        vertical-align: middle;\n",
       "    }\n",
       "\n",
       "    .dataframe tbody tr th {\n",
       "        vertical-align: top;\n",
       "    }\n",
       "\n",
       "    .dataframe thead th {\n",
       "        text-align: right;\n",
       "    }\n",
       "</style>\n",
       "<table border=\"1\" class=\"dataframe\">\n",
       "  <thead>\n",
       "    <tr style=\"text-align: right;\">\n",
       "      <th></th>\n",
       "      <th>label</th>\n",
       "    </tr>\n",
       "  </thead>\n",
       "  <tbody>\n",
       "    <tr>\n",
       "      <th>0</th>\n",
       "      <td>A-B+</td>\n",
       "    </tr>\n",
       "    <tr>\n",
       "      <th>1</th>\n",
       "      <td>A-B-</td>\n",
       "    </tr>\n",
       "    <tr>\n",
       "      <th>2</th>\n",
       "      <td>A+B+</td>\n",
       "    </tr>\n",
       "    <tr>\n",
       "      <th>3</th>\n",
       "      <td>A+B+</td>\n",
       "    </tr>\n",
       "    <tr>\n",
       "      <th>4</th>\n",
       "      <td>A+B-</td>\n",
       "    </tr>\n",
       "  </tbody>\n",
       "</table>\n",
       "</div>"
      ],
      "text/plain": [
       "  label\n",
       "0  A-B+\n",
       "1  A-B-\n",
       "2  A+B+\n",
       "3  A+B+\n",
       "4  A+B-"
      ]
     },
     "execution_count": 12,
     "metadata": {},
     "output_type": "execute_result"
    }
   ],
   "source": [
    "label_marker(binary_df, ['A', 'B']).head()"
   ]
  },
  {
   "cell_type": "code",
   "execution_count": 13,
   "metadata": {},
   "outputs": [],
   "source": [
    "label_df = label_marker(binary_df, ['A', 'B'])"
   ]
  },
  {
   "cell_type": "code",
   "execution_count": 14,
   "metadata": {},
   "outputs": [],
   "source": [
    "label_df.index = Img_cell2.adata.obs.index\n",
    "Img_cell2.adata.obs = pd.concat([Img_cell2.adata.obs, label_df], axis=1)"
   ]
  },
  {
   "cell_type": "code",
   "execution_count": 15,
   "metadata": {},
   "outputs": [
    {
     "data": {
      "text/html": [
       "<div>\n",
       "<style scoped>\n",
       "    .dataframe tbody tr th:only-of-type {\n",
       "        vertical-align: middle;\n",
       "    }\n",
       "\n",
       "    .dataframe tbody tr th {\n",
       "        vertical-align: top;\n",
       "    }\n",
       "\n",
       "    .dataframe thead th {\n",
       "        text-align: right;\n",
       "    }\n",
       "</style>\n",
       "<table border=\"1\" class=\"dataframe\">\n",
       "  <thead>\n",
       "    <tr style=\"text-align: right;\">\n",
       "      <th></th>\n",
       "      <th>img_id</th>\n",
       "      <th>label</th>\n",
       "    </tr>\n",
       "  </thead>\n",
       "  <tbody>\n",
       "    <tr>\n",
       "      <th>0_0</th>\n",
       "      <td>R1</td>\n",
       "      <td>A-B+</td>\n",
       "    </tr>\n",
       "    <tr>\n",
       "      <th>1_0</th>\n",
       "      <td>R1</td>\n",
       "      <td>A-B-</td>\n",
       "    </tr>\n",
       "    <tr>\n",
       "      <th>2_0</th>\n",
       "      <td>R1</td>\n",
       "      <td>A+B+</td>\n",
       "    </tr>\n",
       "    <tr>\n",
       "      <th>3_0</th>\n",
       "      <td>R1</td>\n",
       "      <td>A+B+</td>\n",
       "    </tr>\n",
       "    <tr>\n",
       "      <th>4_0</th>\n",
       "      <td>R1</td>\n",
       "      <td>A+B-</td>\n",
       "    </tr>\n",
       "  </tbody>\n",
       "</table>\n",
       "</div>"
      ],
      "text/plain": [
       "    img_id label\n",
       "0_0     R1  A-B+\n",
       "1_0     R1  A-B-\n",
       "2_0     R1  A+B+\n",
       "3_0     R1  A+B+\n",
       "4_0     R1  A+B-"
      ]
     },
     "execution_count": 15,
     "metadata": {},
     "output_type": "execute_result"
    }
   ],
   "source": [
    "Img_cell2.adata.obs.head()"
   ]
  },
  {
   "cell_type": "code",
   "execution_count": 16,
   "metadata": {},
   "outputs": [
    {
     "data": {
      "text/html": [
       "<div>\n",
       "<style scoped>\n",
       "    .dataframe tbody tr th:only-of-type {\n",
       "        vertical-align: middle;\n",
       "    }\n",
       "\n",
       "    .dataframe tbody tr th {\n",
       "        vertical-align: top;\n",
       "    }\n",
       "\n",
       "    .dataframe thead th {\n",
       "        text-align: right;\n",
       "    }\n",
       "</style>\n",
       "<table border=\"1\" class=\"dataframe\">\n",
       "  <thead>\n",
       "    <tr style=\"text-align: right;\">\n",
       "      <th></th>\n",
       "      <th>img_id</th>\n",
       "      <th>label</th>\n",
       "    </tr>\n",
       "  </thead>\n",
       "  <tbody>\n",
       "    <tr>\n",
       "      <th>0_0</th>\n",
       "      <td>R1</td>\n",
       "      <td>ZZcell1</td>\n",
       "    </tr>\n",
       "    <tr>\n",
       "      <th>1_0</th>\n",
       "      <td>R1</td>\n",
       "      <td>ZZcell1</td>\n",
       "    </tr>\n",
       "    <tr>\n",
       "      <th>2_0</th>\n",
       "      <td>R1</td>\n",
       "      <td>ZZcell1</td>\n",
       "    </tr>\n",
       "    <tr>\n",
       "      <th>3_0</th>\n",
       "      <td>R1</td>\n",
       "      <td>ZZcell1</td>\n",
       "    </tr>\n",
       "    <tr>\n",
       "      <th>4_0</th>\n",
       "      <td>R1</td>\n",
       "      <td>ZZcell1</td>\n",
       "    </tr>\n",
       "  </tbody>\n",
       "</table>\n",
       "</div>"
      ],
      "text/plain": [
       "    img_id    label\n",
       "0_0     R1  ZZcell1\n",
       "1_0     R1  ZZcell1\n",
       "2_0     R1  ZZcell1\n",
       "3_0     R1  ZZcell1\n",
       "4_0     R1  ZZcell1"
      ]
     },
     "execution_count": 16,
     "metadata": {},
     "output_type": "execute_result"
    }
   ],
   "source": [
    "# label cell1 \n",
    "Img_cell1.adata.obs['label'] = 'ZZcell1'\n",
    "Img_cell1.adata.obs.head()"
   ]
  },
  {
   "cell_type": "code",
   "execution_count": 17,
   "metadata": {},
   "outputs": [
    {
     "name": "stderr",
     "output_type": "stream",
     "text": [
      "/Users/pattama/Desktop/UiB/venv_folder/IMCprocess_venv/lib/python3.8/site-packages/anndata/_core/anndata.py:1828: UserWarning: Observation names are not unique. To make them unique, call `.obs_names_make_unique`.\n",
      "  utils.warn_names_duplicates(\"obs\")\n"
     ]
    }
   ],
   "source": [
    "merged_adata = ad.concat([Img_cell1.adata, Img_cell2.adata], axis=0)\n",
    "merged_adata.obs['label'] = merged_adata.obs['label'].astype('category')"
   ]
  },
  {
   "cell_type": "code",
   "execution_count": 18,
   "metadata": {},
   "outputs": [
    {
     "data": {
      "text/html": [
       "<div>\n",
       "<style scoped>\n",
       "    .dataframe tbody tr th:only-of-type {\n",
       "        vertical-align: middle;\n",
       "    }\n",
       "\n",
       "    .dataframe tbody tr th {\n",
       "        vertical-align: top;\n",
       "    }\n",
       "\n",
       "    .dataframe thead th {\n",
       "        text-align: right;\n",
       "    }\n",
       "</style>\n",
       "<table border=\"1\" class=\"dataframe\">\n",
       "  <thead>\n",
       "    <tr style=\"text-align: right;\">\n",
       "      <th></th>\n",
       "      <th>img_id</th>\n",
       "      <th>label</th>\n",
       "    </tr>\n",
       "  </thead>\n",
       "  <tbody>\n",
       "    <tr>\n",
       "      <th>0_0</th>\n",
       "      <td>R1</td>\n",
       "      <td>ZZcell1</td>\n",
       "    </tr>\n",
       "    <tr>\n",
       "      <th>1_0</th>\n",
       "      <td>R1</td>\n",
       "      <td>ZZcell1</td>\n",
       "    </tr>\n",
       "    <tr>\n",
       "      <th>2_0</th>\n",
       "      <td>R1</td>\n",
       "      <td>ZZcell1</td>\n",
       "    </tr>\n",
       "    <tr>\n",
       "      <th>3_0</th>\n",
       "      <td>R1</td>\n",
       "      <td>ZZcell1</td>\n",
       "    </tr>\n",
       "    <tr>\n",
       "      <th>4_0</th>\n",
       "      <td>R1</td>\n",
       "      <td>ZZcell1</td>\n",
       "    </tr>\n",
       "    <tr>\n",
       "      <th>...</th>\n",
       "      <td>...</td>\n",
       "      <td>...</td>\n",
       "    </tr>\n",
       "    <tr>\n",
       "      <th>995_0</th>\n",
       "      <td>R1</td>\n",
       "      <td>A+B-</td>\n",
       "    </tr>\n",
       "    <tr>\n",
       "      <th>996_0</th>\n",
       "      <td>R1</td>\n",
       "      <td>A+B+</td>\n",
       "    </tr>\n",
       "    <tr>\n",
       "      <th>997_0</th>\n",
       "      <td>R1</td>\n",
       "      <td>A+B+</td>\n",
       "    </tr>\n",
       "    <tr>\n",
       "      <th>998_0</th>\n",
       "      <td>R1</td>\n",
       "      <td>A-B+</td>\n",
       "    </tr>\n",
       "    <tr>\n",
       "      <th>999_0</th>\n",
       "      <td>R1</td>\n",
       "      <td>A+B+</td>\n",
       "    </tr>\n",
       "  </tbody>\n",
       "</table>\n",
       "<p>2000 rows × 2 columns</p>\n",
       "</div>"
      ],
      "text/plain": [
       "      img_id    label\n",
       "0_0       R1  ZZcell1\n",
       "1_0       R1  ZZcell1\n",
       "2_0       R1  ZZcell1\n",
       "3_0       R1  ZZcell1\n",
       "4_0       R1  ZZcell1\n",
       "...      ...      ...\n",
       "995_0     R1     A+B-\n",
       "996_0     R1     A+B+\n",
       "997_0     R1     A+B+\n",
       "998_0     R1     A-B+\n",
       "999_0     R1     A+B+\n",
       "\n",
       "[2000 rows x 2 columns]"
      ]
     },
     "execution_count": 18,
     "metadata": {},
     "output_type": "execute_result"
    }
   ],
   "source": [
    "merged_adata.obs"
   ]
  },
  {
   "cell_type": "code",
   "execution_count": 19,
   "metadata": {},
   "outputs": [
    {
     "name": "stderr",
     "output_type": "stream",
     "text": [
      "/Users/pattama/Desktop/UiB/venv_folder/IMCprocess_venv/lib/python3.8/site-packages/tqdm/auto.py:22: TqdmWarning: IProgress not found. Please update jupyter and ipywidgets. See https://ipywidgets.readthedocs.io/en/stable/user_install.html\n",
      "  from .autonotebook import tqdm as notebook_tqdm\n",
      "100%|██████████| 1000/1000 [00:05<00:00, 169.65/s]\n"
     ]
    }
   ],
   "source": [
    "sa.run_spatial_nhood(merged_adata, 'label', 15)"
   ]
  },
  {
   "cell_type": "code",
   "execution_count": 18,
   "metadata": {},
   "outputs": [
    {
     "data": {
      "text/plain": [
       "<Figure size 200x100 with 0 Axes>"
      ]
     },
     "metadata": {},
     "output_type": "display_data"
    },
    {
     "data": {
      "image/png": "[encoded data removed]",
      "text/plain": [
       "<Figure size 900x900 with 4 Axes>"
      ]
     },
     "metadata": {},
     "output_type": "display_data"
    }
   ],
   "source": [
    "sa.plt_spatial_nhood(merged_adata, 'label', './output/','test', img_size=(2,1))"
   ]
  },
  {
   "cell_type": "code",
   "execution_count": 21,
   "metadata": {},
   "outputs": [],
   "source": [
    "zscore = merged_adata.uns['label_nhood_enrichment']['zscore'][-1]\n",
    "label_index = merged_adata.obs['label'].cat.categories"
   ]
  },
  {
   "cell_type": "code",
   "execution_count": 31,
   "metadata": {},
   "outputs": [
    {
     "data": {
      "text/html": [
       "<div>\n",
       "<style scoped>\n",
       "    .dataframe tbody tr th:only-of-type {\n",
       "        vertical-align: middle;\n",
       "    }\n",
       "\n",
       "    .dataframe tbody tr th {\n",
       "        vertical-align: top;\n",
       "    }\n",
       "\n",
       "    .dataframe thead th {\n",
       "        text-align: right;\n",
       "    }\n",
       "</style>\n",
       "<table border=\"1\" class=\"dataframe\">\n",
       "  <thead>\n",
       "    <tr style=\"text-align: right;\">\n",
       "      <th></th>\n",
       "      <th>A+B+</th>\n",
       "      <th>A+B-</th>\n",
       "      <th>A-B+</th>\n",
       "      <th>A-B-</th>\n",
       "    </tr>\n",
       "  </thead>\n",
       "  <tbody>\n",
       "    <tr>\n",
       "      <th>ZZcell1</th>\n",
       "      <td>0.657366</td>\n",
       "      <td>0.260711</td>\n",
       "      <td>0.032793</td>\n",
       "      <td>0.177848</td>\n",
       "    </tr>\n",
       "  </tbody>\n",
       "</table>\n",
       "</div>"
      ],
      "text/plain": [
       "             A+B+      A+B-      A-B+      A-B-\n",
       "ZZcell1  0.657366  0.260711  0.032793  0.177848"
      ]
     },
     "execution_count": 31,
     "metadata": {},
     "output_type": "execute_result"
    }
   ],
   "source": [
    "pd.DataFrame(zscore[:-1], index=label_index[:-1], columns=['ZZcell1']).T"
   ]
  },
  {
   "cell_type": "code",
   "execution_count": null,
   "metadata": {},
   "outputs": [],
   "source": []
  }
 ],
 "metadata": {
  "kernelspec": {
   "display_name": "IMCprocess_venv",
   "language": "python",
   "name": "python3"
  },
  "language_info": {
   "codemirror_mode": {
    "name": "ipython",
    "version": 3
   },
   "file_extension": ".py",
   "mimetype": "text/x-python",
   "name": "python",
   "nbconvert_exporter": "python",
   "pygments_lexer": "ipython3",
   "version": "3.8.5"
  },
  "orig_nbformat": 4,
  "vscode": {
   "interpreter": {
    "hash": "ffa5b3377fe2834d7df4a993f0474a8b0a83c750849adf4771c2b84c51f11ae9"
   }
  }
 },
 "nbformat": 4,
 "nbformat_minor": 2
}
