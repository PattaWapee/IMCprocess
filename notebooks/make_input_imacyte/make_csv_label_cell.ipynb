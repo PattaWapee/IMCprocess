{
 "cells": [
  {
   "attachments": {},
   "cell_type": "markdown",
   "metadata": {},
   "source": [
    "# Make csv of label cells"
   ]
  },
  {
   "cell_type": "code",
   "execution_count": 1,
   "metadata": {},
   "outputs": [],
   "source": [
    "import numpy as np\n",
    "import scanpy as sc\n",
    "import pandas as pd\n",
    "from matplotlib import pyplot as plt\n",
    "import os, sys\n",
    "\n",
    "sys.path.append(os.path.join('..', '..'))\n",
    "\n",
    "import IMCprocess.img_anndata as ia\n",
    "from IMCprocess.img_anndata.img_anndata import Img_anndata\n",
    "from IMCprocess.utils import utils as ut\n",
    "from IMCprocess.clustifier import clustifier as cl\n",
    "\n",
    "# I have to use custom Img_anndata code\n",
    "import Img_anndata as utan"
   ]
  },
  {
   "attachments": {},
   "cell_type": "markdown",
   "metadata": {},
   "source": [
    "## import data"
   ]
  },
  {
   "cell_type": "code",
   "execution_count": 2,
   "metadata": {},
   "outputs": [],
   "source": [
    "Ep2 = ut.read_pickle_obj('sample_data/02hanna_adata_Lum_obj_EpLevel2.pkl')\n",
    "Im2 = ut.read_pickle_obj('sample_data/02hanna_adata_Lum_obj_ImmuneLevel2.pkl')\n",
    "Fi2 = ut.read_pickle_obj('sample_data/02hanna_adata_Lum_obj_Level2.pkl')\n",
    "obj1 = ut.read_pickle_obj('sample_data/00hanna_adata_Lum_obj_Level1.pkl')"
   ]
  },
  {
   "cell_type": "code",
   "execution_count": 3,
   "metadata": {},
   "outputs": [],
   "source": [
    "obj_label = obj1.adata_dict['level1'].obs"
   ]
  },
  {
   "cell_type": "code",
   "execution_count": 4,
   "metadata": {},
   "outputs": [],
   "source": [
    "def merge_col_label(df, col_list):\n",
    "    # only want to merge two columns\n",
    "    df_merge = pd.DataFrame(df.apply(\n",
    "        lambda row: row[col_list[0]] +\n",
    "        '_' +row[col_list[1]], axis=1), columns=['label'])\n",
    "    return df_merge\n",
    "    "
   ]
  },
  {
   "cell_type": "code",
   "execution_count": 5,
   "metadata": {},
   "outputs": [],
   "source": [
    "Ep_label = merge_col_label(Ep2.adata_dict['Ep_level2'].obs,\n",
    "                           ['level1_annotated','Ep_level2_annotated'])"
   ]
  },
  {
   "cell_type": "code",
   "execution_count": 6,
   "metadata": {},
   "outputs": [],
   "source": [
    "Im_label = merge_col_label(Im2.adata_dict['Immune_level2'].obs,\n",
    "                           ['level1_annotated',\t'Immune_level2_annotated'])"
   ]
  },
  {
   "cell_type": "code",
   "execution_count": 7,
   "metadata": {},
   "outputs": [],
   "source": [
    "Fi_label = merge_col_label(Fi2.adata_dict['Fibro_level2'].obs,\n",
    "                           ['level1_annotated',\t'Fibro_level2_annotated'])"
   ]
  },
  {
   "cell_type": "code",
   "execution_count": 8,
   "metadata": {},
   "outputs": [],
   "source": [
    "def merge_label(obj_label1, Ep_label, Im_label, Fi_label):\n",
    "    level2 = pd.concat([Ep_label, Im_label, Fi_label], axis=0)\n",
    "    label_all = pd.concat([obj_label, level2], axis = 1)\n",
    "    label_all['label'] = label_all['label'].fillna(label_all['level1_annotated'])\n",
    "    return label_all"
   ]
  },
  {
   "cell_type": "code",
   "execution_count": 11,
   "metadata": {},
   "outputs": [],
   "source": [
    "label_all = merge_label(obj_label, Ep_label, Im_label, Fi_label)"
   ]
  },
  {
   "cell_type": "code",
   "execution_count": 12,
   "metadata": {},
   "outputs": [
    {
     "data": {
      "text/html": [
       "<div>\n",
       "<style scoped>\n",
       "    .dataframe tbody tr th:only-of-type {\n",
       "        vertical-align: middle;\n",
       "    }\n",
       "\n",
       "    .dataframe tbody tr th {\n",
       "        vertical-align: top;\n",
       "    }\n",
       "\n",
       "    .dataframe thead th {\n",
       "        text-align: right;\n",
       "    }\n",
       "</style>\n",
       "<table border=\"1\" class=\"dataframe\">\n",
       "  <thead>\n",
       "    <tr style=\"text-align: right;\">\n",
       "      <th></th>\n",
       "      <th>img_id</th>\n",
       "      <th>PhenoGraph_clusters</th>\n",
       "      <th>level1_annotated</th>\n",
       "      <th>label</th>\n",
       "    </tr>\n",
       "    <tr>\n",
       "      <th>Cell_id</th>\n",
       "      <th></th>\n",
       "      <th></th>\n",
       "      <th></th>\n",
       "      <th></th>\n",
       "    </tr>\n",
       "  </thead>\n",
       "  <tbody>\n",
       "    <tr>\n",
       "      <th>14773_0</th>\n",
       "      <td>R1_001</td>\n",
       "      <td>1</td>\n",
       "      <td>Ep</td>\n",
       "      <td>Ep_Ca_nonstem</td>\n",
       "    </tr>\n",
       "    <tr>\n",
       "      <th>14774_0</th>\n",
       "      <td>R1_001</td>\n",
       "      <td>26</td>\n",
       "      <td>Fibro</td>\n",
       "      <td>Fibro_PDGFRalow</td>\n",
       "    </tr>\n",
       "    <tr>\n",
       "      <th>14775_0</th>\n",
       "      <td>R1_001</td>\n",
       "      <td>0</td>\n",
       "      <td>Fibro</td>\n",
       "      <td>Fibro_PDGFRa+</td>\n",
       "    </tr>\n",
       "    <tr>\n",
       "      <th>14776_0</th>\n",
       "      <td>R1_001</td>\n",
       "      <td>23</td>\n",
       "      <td>Fibro</td>\n",
       "      <td>Fibro_PDGFRalow</td>\n",
       "    </tr>\n",
       "    <tr>\n",
       "      <th>14777_0</th>\n",
       "      <td>R1_001</td>\n",
       "      <td>15</td>\n",
       "      <td>Ep</td>\n",
       "      <td>Ep_Ca_nonstem</td>\n",
       "    </tr>\n",
       "  </tbody>\n",
       "</table>\n",
       "</div>"
      ],
      "text/plain": [
       "         img_id PhenoGraph_clusters level1_annotated            label\n",
       "Cell_id                                                              \n",
       "14773_0  R1_001                   1               Ep    Ep_Ca_nonstem\n",
       "14774_0  R1_001                  26            Fibro  Fibro_PDGFRalow\n",
       "14775_0  R1_001                   0            Fibro    Fibro_PDGFRa+\n",
       "14776_0  R1_001                  23            Fibro  Fibro_PDGFRalow\n",
       "14777_0  R1_001                  15               Ep    Ep_Ca_nonstem"
      ]
     },
     "execution_count": 12,
     "metadata": {},
     "output_type": "execute_result"
    }
   ],
   "source": [
    "label_all.head()"
   ]
  },
  {
   "attachments": {},
   "cell_type": "markdown",
   "metadata": {},
   "source": [
    "## export level2 annotate to csv"
   ]
  },
  {
   "cell_type": "code",
   "execution_count": 17,
   "metadata": {},
   "outputs": [],
   "source": [
    "label_all[['label']].to_csv(index=False,header=False, path_or_buf='output/label_cell.csv')"
   ]
  },
  {
   "cell_type": "code",
   "execution_count": null,
   "metadata": {},
   "outputs": [],
   "source": []
  }
 ],
 "metadata": {
  "kernelspec": {
   "display_name": "IMCprocess_venv",
   "language": "python",
   "name": "python3"
  },
  "language_info": {
   "codemirror_mode": {
    "name": "ipython",
    "version": 3
   },
   "file_extension": ".py",
   "mimetype": "text/x-python",
   "name": "python",
   "nbconvert_exporter": "python",
   "pygments_lexer": "ipython3",
   "version": "3.8.5"
  },
  "orig_nbformat": 4,
  "vscode": {
   "interpreter": {
    "hash": "ffa5b3377fe2834d7df4a993f0474a8b0a83c750849adf4771c2b84c51f11ae9"
   }
  }
 },
 "nbformat": 4,
 "nbformat_minor": 2
}
