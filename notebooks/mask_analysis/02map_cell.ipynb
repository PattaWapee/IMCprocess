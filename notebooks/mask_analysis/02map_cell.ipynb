{
 "cells": [
  {
   "attachments": {},
   "cell_type": "markdown",
   "metadata": {},
   "source": [
    "# Map label cell to cell in cancer or stroma"
   ]
  },
  {
   "cell_type": "code",
   "execution_count": 1,
   "metadata": {},
   "outputs": [],
   "source": [
    "import pandas as pd\n",
    "import numpy as np\n",
    "import matplotlib.pyplot as plt\n",
    "from scipy import stats\n",
    "import sys, os\n",
    "#from cellpose import io\n",
    "from skimage import io\n",
    "from skimage.measure import label, regionprops\n",
    "\n",
    "other_dir_path = os.path.abspath(os.path.join(os.getcwd(), '..', '..'))\n",
    "sys.path.append(other_dir_path)\n",
    "\n",
    "import IMCprocess.spatial_analysis.mask_utils as mu\n",
    "import IMCprocess.utils.utils as ut"
   ]
  },
  {
   "attachments": {},
   "cell_type": "markdown",
   "metadata": {},
   "source": [
    "## import cell data from mask"
   ]
  },
  {
   "cell_type": "code",
   "execution_count": 2,
   "metadata": {},
   "outputs": [],
   "source": [
    "cell_in_reg = ut.read_pickle_obj('output_obj/01cell_data.pkl')"
   ]
  },
  {
   "cell_type": "code",
   "execution_count": 3,
   "metadata": {},
   "outputs": [
    {
     "data": {
      "text/html": [
       "<div>\n",
       "<style scoped>\n",
       "    .dataframe tbody tr th:only-of-type {\n",
       "        vertical-align: middle;\n",
       "    }\n",
       "\n",
       "    .dataframe tbody tr th {\n",
       "        vertical-align: top;\n",
       "    }\n",
       "\n",
       "    .dataframe thead th {\n",
       "        text-align: right;\n",
       "    }\n",
       "</style>\n",
       "<table border=\"1\" class=\"dataframe\">\n",
       "  <thead>\n",
       "    <tr style=\"text-align: right;\">\n",
       "      <th></th>\n",
       "      <th>cells_in_stroma</th>\n",
       "      <th>cells_in_cancer</th>\n",
       "      <th>cells_in_cancer&amp;tissue</th>\n",
       "      <th>num_cells_in_stroma</th>\n",
       "      <th>num_cells_in_cancer</th>\n",
       "      <th>num_cells_in_cancer&amp;tissue</th>\n",
       "    </tr>\n",
       "  </thead>\n",
       "  <tbody>\n",
       "    <tr>\n",
       "      <th>0</th>\n",
       "      <td>[1, 3, 4, 5, 9, 10, 12, 15, 18, 19, 23, 26, 27...</td>\n",
       "      <td>{1: [2, 8, 14, 21, 22, 25, 29, 30, 31, 32, 38,...</td>\n",
       "      <td>[2, 6, 7, 8, 11, 13, 14, 16, 17, 20, 21, 22, 2...</td>\n",
       "      <td>2114</td>\n",
       "      <td>29</td>\n",
       "      <td>2463</td>\n",
       "    </tr>\n",
       "  </tbody>\n",
       "</table>\n",
       "</div>"
      ],
      "text/plain": [
       "                                     cells_in_stroma  \\\n",
       "0  [1, 3, 4, 5, 9, 10, 12, 15, 18, 19, 23, 26, 27...   \n",
       "\n",
       "                                     cells_in_cancer  \\\n",
       "0  {1: [2, 8, 14, 21, 22, 25, 29, 30, 31, 32, 38,...   \n",
       "\n",
       "                              cells_in_cancer&tissue  num_cells_in_stroma  \\\n",
       "0  [2, 6, 7, 8, 11, 13, 14, 16, 17, 20, 21, 22, 2...                 2114   \n",
       "\n",
       "   num_cells_in_cancer  num_cells_in_cancer&tissue  \n",
       "0                   29                        2463  "
      ]
     },
     "execution_count": 3,
     "metadata": {},
     "output_type": "execute_result"
    }
   ],
   "source": [
    "cell_in_reg"
   ]
  },
  {
   "attachments": {},
   "cell_type": "markdown",
   "metadata": {},
   "source": [
    "## import label object (level1)"
   ]
  },
  {
   "cell_type": "code",
   "execution_count": 4,
   "metadata": {},
   "outputs": [],
   "source": [
    "data_path = '/Users/pattama/Desktop/UiB/cancer/example_share_code/share_with_vladan/mask_analysis/example_data/'\n",
    "data_level1 = ut.read_pickle_obj(data_path+'00hanna_adata_totalNB_obj_Level1.pkl')"
   ]
  },
  {
   "cell_type": "code",
   "execution_count": 5,
   "metadata": {},
   "outputs": [],
   "source": [
    "# Get only the object for image R2_002\n",
    "# You can change image name to get other images\n",
    "obj_level1 = data_level1.adata_dict['level1']\n",
    "obj_R2_002_lev1 = obj_level1[obj_level1.obs['img_id'] == 'R2_002']"
   ]
  },
  {
   "cell_type": "code",
   "execution_count": 6,
   "metadata": {},
   "outputs": [
    {
     "data": {
      "text/plain": [
       "Immune    1977\n",
       "Ep        1363\n",
       "Undef      482\n",
       "Fibro      450\n",
       "Ves        171\n",
       "Amb        134\n",
       "Name: level1_annotated, dtype: int64"
      ]
     },
     "execution_count": 6,
     "metadata": {},
     "output_type": "execute_result"
    }
   ],
   "source": [
    "# Check how many cell in each cell types in this image\n",
    "obj_R2_002_lev1.obs.level1_annotated.value_counts()"
   ]
  },
  {
   "attachments": {},
   "cell_type": "markdown",
   "metadata": {},
   "source": [
    "## Map level1 cells in stroma, cancer"
   ]
  },
  {
   "cell_type": "code",
   "execution_count": 27,
   "metadata": {},
   "outputs": [],
   "source": [
    "def get_celltype_fraction(obs_object, col_label, cell_in_reg_df, col_cell_type):\n",
    "    obs_df = obs_object.copy()\n",
    "    cellid = cell_in_reg_df.loc[0, col_cell_type]\n",
    "    if isinstance(cellid, dict):\n",
    "        cellid_list = []  # The target list to merge all the values into\n",
    "\n",
    "        # Iterate through the values of the dictionary\n",
    "        for lst in cellid.values():\n",
    "            cellid_list.extend(lst)\n",
    "    else:\n",
    "        cellid_list = cellid\n",
    "\n",
    "    # add label column to obs for mapping with cell_data\n",
    "    obs_df['label'] = np.array(range(1, len(obs_df)+1))\n",
    "    #How many cells for each cell types in stroma?\n",
    "    obs_df[obs_df['label'].isin(cellid_list)][col_label].value_counts()\n",
    "\n",
    "    fraction_df = pd.DataFrame(obs_df[obs_df.label.isin(\n",
    "        cellid_list)].level1_annotated.value_counts(\n",
    "            normalize=True)).rename(columns={'level1_annotated':'fraction_'+ col_cell_type})\n",
    "    return fraction_df\n",
    "\n",
    "def plt_fraction_df(fraction_df, output_file):\n",
    "    fraction_df.plot(kind='bar')\n",
    "    # Add labels to the bars\n",
    "    for i in range(len(fraction_df)):\n",
    "        label = round(fraction_df.iloc[:,0][i], 2)  # Round value to one decimal place\n",
    "        plt.text(i, fraction_df.iloc[:,0][i] + 0.01, label, ha='center')\n",
    "    plt.savefig(output_file, dpi=300, bbox_inches='tight')\n"
   ]
  },
  {
   "cell_type": "code",
   "execution_count": 28,
   "metadata": {},
   "outputs": [
    {
     "data": {
      "text/html": [
       "<div>\n",
       "<style scoped>\n",
       "    .dataframe tbody tr th:only-of-type {\n",
       "        vertical-align: middle;\n",
       "    }\n",
       "\n",
       "    .dataframe tbody tr th {\n",
       "        vertical-align: top;\n",
       "    }\n",
       "\n",
       "    .dataframe thead th {\n",
       "        text-align: right;\n",
       "    }\n",
       "</style>\n",
       "<table border=\"1\" class=\"dataframe\">\n",
       "  <thead>\n",
       "    <tr style=\"text-align: right;\">\n",
       "      <th></th>\n",
       "      <th>fraction_cells_in_stroma</th>\n",
       "    </tr>\n",
       "  </thead>\n",
       "  <tbody>\n",
       "    <tr>\n",
       "      <th>Immune</th>\n",
       "      <td>0.675024</td>\n",
       "    </tr>\n",
       "    <tr>\n",
       "      <th>Fibro</th>\n",
       "      <td>0.151845</td>\n",
       "    </tr>\n",
       "    <tr>\n",
       "      <th>Undef</th>\n",
       "      <td>0.075686</td>\n",
       "    </tr>\n",
       "    <tr>\n",
       "      <th>Ves</th>\n",
       "      <td>0.059130</td>\n",
       "    </tr>\n",
       "    <tr>\n",
       "      <th>Amb</th>\n",
       "      <td>0.035005</td>\n",
       "    </tr>\n",
       "    <tr>\n",
       "      <th>Ep</th>\n",
       "      <td>0.003311</td>\n",
       "    </tr>\n",
       "  </tbody>\n",
       "</table>\n",
       "</div>"
      ],
      "text/plain": [
       "        fraction_cells_in_stroma\n",
       "Immune                  0.675024\n",
       "Fibro                   0.151845\n",
       "Undef                   0.075686\n",
       "Ves                     0.059130\n",
       "Amb                     0.035005\n",
       "Ep                      0.003311"
      ]
     },
     "execution_count": 28,
     "metadata": {},
     "output_type": "execute_result"
    }
   ],
   "source": [
    "\n",
    "fraction_stroma = get_celltype_fraction(obj_R2_002_lev1.obs, 'level1_annotated', cell_in_reg, 'cells_in_stroma')\n",
    "fraction_stroma"
   ]
  },
  {
   "cell_type": "code",
   "execution_count": 30,
   "metadata": {},
   "outputs": [
    {
     "data": {
      "image/png": "[encoded data removed]",
      "text/plain": [
       "<Figure size 640x480 with 1 Axes>"
      ]
     },
     "metadata": {},
     "output_type": "display_data"
    }
   ],
   "source": [
    "plt_fraction_df(fraction_stroma, 'output/02fraction_cells_in_stroma.png')"
   ]
  },
  {
   "cell_type": "code",
   "execution_count": 16,
   "metadata": {},
   "outputs": [
    {
     "name": "stdout",
     "output_type": "stream",
     "text": [
      "The object is a dictionary (dict).\n"
     ]
    },
    {
     "data": {
      "text/html": [
       "<div>\n",
       "<style scoped>\n",
       "    .dataframe tbody tr th:only-of-type {\n",
       "        vertical-align: middle;\n",
       "    }\n",
       "\n",
       "    .dataframe tbody tr th {\n",
       "        vertical-align: top;\n",
       "    }\n",
       "\n",
       "    .dataframe thead th {\n",
       "        text-align: right;\n",
       "    }\n",
       "</style>\n",
       "<table border=\"1\" class=\"dataframe\">\n",
       "  <thead>\n",
       "    <tr style=\"text-align: right;\">\n",
       "      <th></th>\n",
       "      <th>fraction_cells_in_cancer</th>\n",
       "    </tr>\n",
       "  </thead>\n",
       "  <tbody>\n",
       "    <tr>\n",
       "      <th>Ep</th>\n",
       "      <td>0.550548</td>\n",
       "    </tr>\n",
       "    <tr>\n",
       "      <th>Immune</th>\n",
       "      <td>0.223305</td>\n",
       "    </tr>\n",
       "    <tr>\n",
       "      <th>Undef</th>\n",
       "      <td>0.130735</td>\n",
       "    </tr>\n",
       "    <tr>\n",
       "      <th>Fibro</th>\n",
       "      <td>0.052375</td>\n",
       "    </tr>\n",
       "    <tr>\n",
       "      <th>Amb</th>\n",
       "      <td>0.024361</td>\n",
       "    </tr>\n",
       "    <tr>\n",
       "      <th>Ves</th>\n",
       "      <td>0.018676</td>\n",
       "    </tr>\n",
       "  </tbody>\n",
       "</table>\n",
       "</div>"
      ],
      "text/plain": [
       "        fraction_cells_in_cancer\n",
       "Ep                      0.550548\n",
       "Immune                  0.223305\n",
       "Undef                   0.130735\n",
       "Fibro                   0.052375\n",
       "Amb                     0.024361\n",
       "Ves                     0.018676"
      ]
     },
     "execution_count": 16,
     "metadata": {},
     "output_type": "execute_result"
    }
   ],
   "source": [
    "fraction_cancer = get_celltype_fraction(obj_R2_002_lev1.obs, 'level1_annotated', cell_in_reg, 'cells_in_cancer')\n",
    "fraction_cancer"
   ]
  },
  {
   "cell_type": "code",
   "execution_count": 31,
   "metadata": {},
   "outputs": [
    {
     "data": {
      "image/png": "[encoded data removed]",
      "text/plain": [
       "<Figure size 640x480 with 1 Axes>"
      ]
     },
     "metadata": {},
     "output_type": "display_data"
    }
   ],
   "source": [
    "plt_fraction_df(fraction_cancer, 'output/02fraction_cells_in_cancer.png')"
   ]
  },
  {
   "cell_type": "code",
   "execution_count": null,
   "metadata": {},
   "outputs": [],
   "source": []
  }
 ],
 "metadata": {
  "kernelspec": {
   "display_name": "IMCprocess_venv",
   "language": "python",
   "name": "python3"
  },
  "language_info": {
   "codemirror_mode": {
    "name": "ipython",
    "version": 3
   },
   "file_extension": ".py",
   "mimetype": "text/x-python",
   "name": "python",
   "nbconvert_exporter": "python",
   "pygments_lexer": "ipython3",
   "version": "3.8.5"
  },
  "orig_nbformat": 4
 },
 "nbformat": 4,
 "nbformat_minor": 2
}
