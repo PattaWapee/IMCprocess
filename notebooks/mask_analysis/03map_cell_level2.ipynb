{
 "cells": [
  {
   "attachments": {},
   "cell_type": "markdown",
   "metadata": {},
   "source": [
    "# Map label cell (level2) to cell in cancer or stroma"
   ]
  },
  {
   "cell_type": "code",
   "execution_count": 1,
   "metadata": {},
   "outputs": [],
   "source": [
    "import pandas as pd\n",
    "import numpy as np\n",
    "import matplotlib.pyplot as plt\n",
    "from scipy import stats\n",
    "import sys, os\n",
    "#from cellpose import io\n",
    "from skimage import io\n",
    "from skimage.measure import label, regionprops\n",
    "\n",
    "other_dir_path = os.path.abspath(os.path.join(os.getcwd(), '..', '..'))\n",
    "sys.path.append(other_dir_path)\n",
    "\n",
    "import IMCprocess.spatial_analysis.mask_utils as mu\n",
    "import IMCprocess.utils.utils as ut"
   ]
  },
  {
   "cell_type": "markdown",
   "metadata": {},
   "source": [
    "## import cell data from mask"
   ]
  },
  {
   "cell_type": "code",
   "execution_count": 2,
   "metadata": {},
   "outputs": [],
   "source": [
    "cell_in_reg = ut.read_pickle_obj('output_obj/01cell_data.pkl')"
   ]
  },
  {
   "cell_type": "code",
   "execution_count": 3,
   "metadata": {},
   "outputs": [
    {
     "data": {
      "text/html": [
       "<div>\n",
       "<style scoped>\n",
       "    .dataframe tbody tr th:only-of-type {\n",
       "        vertical-align: middle;\n",
       "    }\n",
       "\n",
       "    .dataframe tbody tr th {\n",
       "        vertical-align: top;\n",
       "    }\n",
       "\n",
       "    .dataframe thead th {\n",
       "        text-align: right;\n",
       "    }\n",
       "</style>\n",
       "<table border=\"1\" class=\"dataframe\">\n",
       "  <thead>\n",
       "    <tr style=\"text-align: right;\">\n",
       "      <th></th>\n",
       "      <th>cells_in_stroma</th>\n",
       "      <th>cells_in_cancer</th>\n",
       "      <th>cells_in_cancer&amp;tissue</th>\n",
       "      <th>num_cells_in_stroma</th>\n",
       "      <th>num_cells_in_cancer</th>\n",
       "      <th>num_cells_in_cancer&amp;tissue</th>\n",
       "    </tr>\n",
       "  </thead>\n",
       "  <tbody>\n",
       "    <tr>\n",
       "      <th>0</th>\n",
       "      <td>[1, 3, 4, 5, 9, 10, 12, 15, 18, 19, 23, 26, 27...</td>\n",
       "      <td>{1: [2, 8, 14, 21, 22, 25, 29, 30, 31, 32, 38,...</td>\n",
       "      <td>[2, 6, 7, 8, 11, 13, 14, 16, 17, 20, 21, 22, 2...</td>\n",
       "      <td>2114</td>\n",
       "      <td>29</td>\n",
       "      <td>2463</td>\n",
       "    </tr>\n",
       "  </tbody>\n",
       "</table>\n",
       "</div>"
      ],
      "text/plain": [
       "                                     cells_in_stroma  \\\n",
       "0  [1, 3, 4, 5, 9, 10, 12, 15, 18, 19, 23, 26, 27...   \n",
       "\n",
       "                                     cells_in_cancer  \\\n",
       "0  {1: [2, 8, 14, 21, 22, 25, 29, 30, 31, 32, 38,...   \n",
       "\n",
       "                              cells_in_cancer&tissue  num_cells_in_stroma  \\\n",
       "0  [2, 6, 7, 8, 11, 13, 14, 16, 17, 20, 21, 22, 2...                 2114   \n",
       "\n",
       "   num_cells_in_cancer  num_cells_in_cancer&tissue  \n",
       "0                   29                        2463  "
      ]
     },
     "execution_count": 3,
     "metadata": {},
     "output_type": "execute_result"
    }
   ],
   "source": [
    "cell_in_reg"
   ]
  },
  {
   "attachments": {},
   "cell_type": "markdown",
   "metadata": {},
   "source": [
    "## import label object (Immune level2)"
   ]
  },
  {
   "cell_type": "code",
   "execution_count": 4,
   "metadata": {},
   "outputs": [],
   "source": [
    "data_path = '/Users/pattama/Desktop/UiB/cancer/example_share_code/share_with_vladan/mask_analysis/example_data/'\n",
    "data_level2 = ut.read_pickle_obj(data_path+'02hanna_adata_totalNB_obj_ImmuneLevel2.pkl')"
   ]
  },
  {
   "cell_type": "code",
   "execution_count": 5,
   "metadata": {},
   "outputs": [
    {
     "data": {
      "text/plain": [
       "{'level1': AnnData object with n_obs × n_vars = 132951 × 51\n",
       "     obs: 'img_id', 'PhenoGraph_clusters', 'level1_annotated'\n",
       "     uns: 'pca', 'PhenoGraph_Q', 'PhenoGraph_k', 'neighbors', 'umap', 'PCs', 'dendrogram_PhenoGraph_clusters', 'PhenoGraph_clusters_colors', 'level1_annotated_colors'\n",
       "     obsm: 'spatial', 'X_pca', 'X_umap'\n",
       "     obsp: 'distances', 'connectivities',\n",
       " 'Immune_level2': AnnData object with n_obs × n_vars = 29445 × 51\n",
       "     obs: 'img_id', 'PhenoGraph_clusters', 'level1_annotated', 'Immune_level2_annotated'\n",
       "     uns: 'pca', 'PhenoGraph_Q', 'PhenoGraph_k', 'neighbors', 'umap', 'PCs', 'dendrogram_PhenoGraph_clusters', 'PhenoGraph_clusters_colors', 'level1_annotated_colors', 'Immune_level2_annotated_colors'\n",
       "     obsm: 'spatial', 'X_pca', 'X_umap'\n",
       "     obsp: 'distances', 'connectivities'}"
      ]
     },
     "execution_count": 5,
     "metadata": {},
     "output_type": "execute_result"
    }
   ],
   "source": [
    "# Check adata dict to get a keyword for creating level2 object\n",
    "# In this object, there are 2 keys: 'level1' and 'Immune_level2'\n",
    "# we want to use 'Immune_level2' for calculating the number of cells in each region\n",
    "data_level2.adata_dict"
   ]
  },
  {
   "cell_type": "code",
   "execution_count": 6,
   "metadata": {},
   "outputs": [],
   "source": [
    "# Create level2 object and check for obs data\n",
    "obj_level2 = data_level2.adata_dict['Immune_level2']"
   ]
  },
  {
   "cell_type": "code",
   "execution_count": 7,
   "metadata": {},
   "outputs": [
    {
     "data": {
      "text/html": [
       "<div>\n",
       "<style scoped>\n",
       "    .dataframe tbody tr th:only-of-type {\n",
       "        vertical-align: middle;\n",
       "    }\n",
       "\n",
       "    .dataframe tbody tr th {\n",
       "        vertical-align: top;\n",
       "    }\n",
       "\n",
       "    .dataframe thead th {\n",
       "        text-align: right;\n",
       "    }\n",
       "</style>\n",
       "<table border=\"1\" class=\"dataframe\">\n",
       "  <thead>\n",
       "    <tr style=\"text-align: right;\">\n",
       "      <th></th>\n",
       "      <th>img_id</th>\n",
       "      <th>PhenoGraph_clusters</th>\n",
       "      <th>level1_annotated</th>\n",
       "      <th>Immune_level2_annotated</th>\n",
       "    </tr>\n",
       "    <tr>\n",
       "      <th>Cell_id</th>\n",
       "      <th></th>\n",
       "      <th></th>\n",
       "      <th></th>\n",
       "      <th></th>\n",
       "    </tr>\n",
       "  </thead>\n",
       "  <tbody>\n",
       "    <tr>\n",
       "      <th>2_0</th>\n",
       "      <td>R1_001</td>\n",
       "      <td>8</td>\n",
       "      <td>Immune</td>\n",
       "      <td>CD8</td>\n",
       "    </tr>\n",
       "    <tr>\n",
       "      <th>19_0</th>\n",
       "      <td>R1_001</td>\n",
       "      <td>10</td>\n",
       "      <td>Immune</td>\n",
       "      <td>Undef</td>\n",
       "    </tr>\n",
       "    <tr>\n",
       "      <th>129_0</th>\n",
       "      <td>R1_001</td>\n",
       "      <td>27</td>\n",
       "      <td>Immune</td>\n",
       "      <td>CD8</td>\n",
       "    </tr>\n",
       "    <tr>\n",
       "      <th>155_0</th>\n",
       "      <td>R1_001</td>\n",
       "      <td>13</td>\n",
       "      <td>Immune</td>\n",
       "      <td>CD8</td>\n",
       "    </tr>\n",
       "    <tr>\n",
       "      <th>162_0</th>\n",
       "      <td>R1_001</td>\n",
       "      <td>16</td>\n",
       "      <td>Immune</td>\n",
       "      <td>CD8_CD4_FoxP3</td>\n",
       "    </tr>\n",
       "    <tr>\n",
       "      <th>...</th>\n",
       "      <td>...</td>\n",
       "      <td>...</td>\n",
       "      <td>...</td>\n",
       "      <td>...</td>\n",
       "    </tr>\n",
       "    <tr>\n",
       "      <th>130683_29</th>\n",
       "      <td>R10_003</td>\n",
       "      <td>14</td>\n",
       "      <td>Immune</td>\n",
       "      <td>CD8_CD4_FoxP3</td>\n",
       "    </tr>\n",
       "    <tr>\n",
       "      <th>130686_29</th>\n",
       "      <td>R10_003</td>\n",
       "      <td>1</td>\n",
       "      <td>Immune</td>\n",
       "      <td>Undef</td>\n",
       "    </tr>\n",
       "    <tr>\n",
       "      <th>130693_29</th>\n",
       "      <td>R10_003</td>\n",
       "      <td>20</td>\n",
       "      <td>Immune</td>\n",
       "      <td>CD4</td>\n",
       "    </tr>\n",
       "    <tr>\n",
       "      <th>130699_29</th>\n",
       "      <td>R10_003</td>\n",
       "      <td>19</td>\n",
       "      <td>Immune</td>\n",
       "      <td>CD8</td>\n",
       "    </tr>\n",
       "    <tr>\n",
       "      <th>130700_29</th>\n",
       "      <td>R10_003</td>\n",
       "      <td>21</td>\n",
       "      <td>Immune</td>\n",
       "      <td>Undef</td>\n",
       "    </tr>\n",
       "  </tbody>\n",
       "</table>\n",
       "<p>29445 rows × 4 columns</p>\n",
       "</div>"
      ],
      "text/plain": [
       "            img_id PhenoGraph_clusters level1_annotated  \\\n",
       "Cell_id                                                   \n",
       "2_0         R1_001                   8           Immune   \n",
       "19_0        R1_001                  10           Immune   \n",
       "129_0       R1_001                  27           Immune   \n",
       "155_0       R1_001                  13           Immune   \n",
       "162_0       R1_001                  16           Immune   \n",
       "...            ...                 ...              ...   \n",
       "130683_29  R10_003                  14           Immune   \n",
       "130686_29  R10_003                   1           Immune   \n",
       "130693_29  R10_003                  20           Immune   \n",
       "130699_29  R10_003                  19           Immune   \n",
       "130700_29  R10_003                  21           Immune   \n",
       "\n",
       "          Immune_level2_annotated  \n",
       "Cell_id                            \n",
       "2_0                           CD8  \n",
       "19_0                        Undef  \n",
       "129_0                         CD8  \n",
       "155_0                         CD8  \n",
       "162_0               CD8_CD4_FoxP3  \n",
       "...                           ...  \n",
       "130683_29           CD8_CD4_FoxP3  \n",
       "130686_29                   Undef  \n",
       "130693_29                     CD4  \n",
       "130699_29                     CD8  \n",
       "130700_29                   Undef  \n",
       "\n",
       "[29445 rows x 4 columns]"
      ]
     },
     "execution_count": 7,
     "metadata": {},
     "output_type": "execute_result"
    }
   ],
   "source": [
    "# There are mulitple image in the object so we need to select only one for analysis\n",
    "obj_level2.obs"
   ]
  },
  {
   "cell_type": "code",
   "execution_count": 8,
   "metadata": {},
   "outputs": [],
   "source": [
    "# Create level2 object only for img_id = R2_002\n",
    "obj_R2_002_lev2 = obj_level2[obj_level2.obs['img_id'] == 'R2_002']"
   ]
  },
  {
   "cell_type": "code",
   "execution_count": 16,
   "metadata": {},
   "outputs": [
    {
     "data": {
      "text/plain": [
       "CD8              523\n",
       "CD4              485\n",
       "Undef            376\n",
       "CD8_CD4_FoxP3    260\n",
       "CD4_FoxP3        220\n",
       "CD8_ki67          64\n",
       "CD4_ki67          49\n",
       "Name: Immune_level2_annotated, dtype: int64"
      ]
     },
     "execution_count": 16,
     "metadata": {},
     "output_type": "execute_result"
    }
   ],
   "source": [
    "# Check how many Immune cell in each cell types level2 in this image\n",
    "obj_R2_002_lev2.obs.Immune_level2_annotated.value_counts()"
   ]
  },
  {
   "attachments": {},
   "cell_type": "markdown",
   "metadata": {},
   "source": [
    "## Map level2 immune cells in stroma, cancer"
   ]
  },
  {
   "cell_type": "code",
   "execution_count": 1,
   "metadata": {},
   "outputs": [],
   "source": [
    "## plot the number of cells in each region"
   ]
  },
  {
   "cell_type": "code",
   "execution_count": 9,
   "metadata": {},
   "outputs": [
    {
     "data": {
      "text/html": [
       "<div>\n",
       "<style scoped>\n",
       "    .dataframe tbody tr th:only-of-type {\n",
       "        vertical-align: middle;\n",
       "    }\n",
       "\n",
       "    .dataframe tbody tr th {\n",
       "        vertical-align: top;\n",
       "    }\n",
       "\n",
       "    .dataframe thead th {\n",
       "        text-align: right;\n",
       "    }\n",
       "</style>\n",
       "<table border=\"1\" class=\"dataframe\">\n",
       "  <thead>\n",
       "    <tr style=\"text-align: right;\">\n",
       "      <th></th>\n",
       "      <th>fraction_cells_in_stroma</th>\n",
       "    </tr>\n",
       "  </thead>\n",
       "  <tbody>\n",
       "    <tr>\n",
       "      <th>CD8</th>\n",
       "      <td>0.281592</td>\n",
       "    </tr>\n",
       "    <tr>\n",
       "      <th>CD4</th>\n",
       "      <td>0.235821</td>\n",
       "    </tr>\n",
       "    <tr>\n",
       "      <th>Undef</th>\n",
       "      <td>0.204975</td>\n",
       "    </tr>\n",
       "    <tr>\n",
       "      <th>CD8_CD4_FoxP3</th>\n",
       "      <td>0.111443</td>\n",
       "    </tr>\n",
       "    <tr>\n",
       "      <th>CD4_FoxP3</th>\n",
       "      <td>0.092537</td>\n",
       "    </tr>\n",
       "    <tr>\n",
       "      <th>CD8_ki67</th>\n",
       "      <td>0.045771</td>\n",
       "    </tr>\n",
       "    <tr>\n",
       "      <th>CD4_ki67</th>\n",
       "      <td>0.027861</td>\n",
       "    </tr>\n",
       "  </tbody>\n",
       "</table>\n",
       "</div>"
      ],
      "text/plain": [
       "               fraction_cells_in_stroma\n",
       "CD8                            0.281592\n",
       "CD4                            0.235821\n",
       "Undef                          0.204975\n",
       "CD8_CD4_FoxP3                  0.111443\n",
       "CD4_FoxP3                      0.092537\n",
       "CD8_ki67                       0.045771\n",
       "CD4_ki67                       0.027861"
      ]
     },
     "execution_count": 9,
     "metadata": {},
     "output_type": "execute_result"
    }
   ],
   "source": [
    "fraction_stroma = mu.get_celltype_fraction(obj_R2_002_lev2.obs, 'Immune_level2_annotated', cell_in_reg, 'cells_in_stroma')\n",
    "fraction_stroma"
   ]
  },
  {
   "cell_type": "code",
   "execution_count": 10,
   "metadata": {},
   "outputs": [
    {
     "data": {
      "image/png": "[encoded data removed]",
      "text/plain": [
       "<Figure size 640x480 with 1 Axes>"
      ]
     },
     "metadata": {},
     "output_type": "display_data"
    }
   ],
   "source": [
    "mu.plt_fraction_df(fraction_stroma, 'output/02fraction_Immunecells_in_stroma_level2.png')"
   ]
  },
  {
   "cell_type": "code",
   "execution_count": 17,
   "metadata": {},
   "outputs": [
    {
     "data": {
      "text/html": [
       "<div>\n",
       "<style scoped>\n",
       "    .dataframe tbody tr th:only-of-type {\n",
       "        vertical-align: middle;\n",
       "    }\n",
       "\n",
       "    .dataframe tbody tr th {\n",
       "        vertical-align: top;\n",
       "    }\n",
       "\n",
       "    .dataframe thead th {\n",
       "        text-align: right;\n",
       "    }\n",
       "</style>\n",
       "<table border=\"1\" class=\"dataframe\">\n",
       "  <thead>\n",
       "    <tr style=\"text-align: right;\">\n",
       "      <th></th>\n",
       "      <th>fraction_cells_in_cancer</th>\n",
       "    </tr>\n",
       "  </thead>\n",
       "  <tbody>\n",
       "    <tr>\n",
       "      <th>CD4</th>\n",
       "      <td>0.255144</td>\n",
       "    </tr>\n",
       "    <tr>\n",
       "      <th>CD8</th>\n",
       "      <td>0.246914</td>\n",
       "    </tr>\n",
       "    <tr>\n",
       "      <th>Undef</th>\n",
       "      <td>0.174897</td>\n",
       "    </tr>\n",
       "    <tr>\n",
       "      <th>CD8_CD4_FoxP3</th>\n",
       "      <td>0.152263</td>\n",
       "    </tr>\n",
       "    <tr>\n",
       "      <th>CD4_FoxP3</th>\n",
       "      <td>0.130658</td>\n",
       "    </tr>\n",
       "    <tr>\n",
       "      <th>CD4_ki67</th>\n",
       "      <td>0.021605</td>\n",
       "    </tr>\n",
       "    <tr>\n",
       "      <th>CD8_ki67</th>\n",
       "      <td>0.018519</td>\n",
       "    </tr>\n",
       "  </tbody>\n",
       "</table>\n",
       "</div>"
      ],
      "text/plain": [
       "               fraction_cells_in_cancer\n",
       "CD4                            0.255144\n",
       "CD8                            0.246914\n",
       "Undef                          0.174897\n",
       "CD8_CD4_FoxP3                  0.152263\n",
       "CD4_FoxP3                      0.130658\n",
       "CD4_ki67                       0.021605\n",
       "CD8_ki67                       0.018519"
      ]
     },
     "execution_count": 17,
     "metadata": {},
     "output_type": "execute_result"
    }
   ],
   "source": [
    "fraction_cancer = mu.get_celltype_fraction(obj_R2_002_lev2.obs, 'Immune_level2_annotated', cell_in_reg, 'cells_in_cancer')\n",
    "fraction_cancer"
   ]
  },
  {
   "cell_type": "code",
   "execution_count": 18,
   "metadata": {},
   "outputs": [
    {
     "data": {
      "image/png": "[encoded data removed]",
      "text/plain": [
       "<Figure size 640x480 with 1 Axes>"
      ]
     },
     "metadata": {},
     "output_type": "display_data"
    }
   ],
   "source": [
    "mu.plt_fraction_df(fraction_cancer, 'output/02fraction_Immunecells_in_cancer_level2.png')"
   ]
  },
  {
   "cell_type": "code",
   "execution_count": null,
   "metadata": {},
   "outputs": [],
   "source": []
  }
 ],
 "metadata": {
  "kernelspec": {
   "display_name": "IMCprocess_venv",
   "language": "python",
   "name": "python3"
  },
  "language_info": {
   "codemirror_mode": {
    "name": "ipython",
    "version": 3
   },
   "file_extension": ".py",
   "mimetype": "text/x-python",
   "name": "python",
   "nbconvert_exporter": "python",
   "pygments_lexer": "ipython3",
   "version": "3.8.5"
  },
  "orig_nbformat": 4
 },
 "nbformat": 4,
 "nbformat_minor": 2
}
