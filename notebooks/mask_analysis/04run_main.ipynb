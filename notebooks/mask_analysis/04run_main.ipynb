{
 "cells": [
  {
   "attachments": {},
   "cell_type": "markdown",
   "metadata": {},
   "source": [
    "# Merge the analysis from 01,02,03 mask analysis notebook"
   ]
  },
  {
   "cell_type": "code",
   "execution_count": 1,
   "metadata": {},
   "outputs": [
    {
     "ename": "ImportError",
     "evalue": "cannot import name 'Img' from partially initialized module 'IMCprocess' (most likely due to a circular import) (/Users/pattama/Desktop/UiB/cancer/git_repo/IMCprocess/IMCprocess/__init__.py)",
     "output_type": "error",
     "traceback": [
      "\u001b[0;31m---------------------------------------------------------------------------\u001b[0m",
      "\u001b[0;31mImportError\u001b[0m                               Traceback (most recent call last)",
      "Cell \u001b[0;32mIn[1], line 13\u001b[0m\n\u001b[1;32m     10\u001b[0m other_dir_path \u001b[39m=\u001b[39m os\u001b[39m.\u001b[39mpath\u001b[39m.\u001b[39mabspath(os\u001b[39m.\u001b[39mpath\u001b[39m.\u001b[39mjoin(os\u001b[39m.\u001b[39mgetcwd(), \u001b[39m'\u001b[39m\u001b[39m..\u001b[39m\u001b[39m'\u001b[39m, \u001b[39m'\u001b[39m\u001b[39m..\u001b[39m\u001b[39m'\u001b[39m))\n\u001b[1;32m     11\u001b[0m sys\u001b[39m.\u001b[39mpath\u001b[39m.\u001b[39mappend(other_dir_path)\n\u001b[0;32m---> 13\u001b[0m \u001b[39mimport\u001b[39;00m \u001b[39mIMCprocess\u001b[39;00m\u001b[39m.\u001b[39;00m\u001b[39mspatial_analysis\u001b[39;00m\u001b[39m.\u001b[39;00m\u001b[39mmask_utils\u001b[39;00m \u001b[39mas\u001b[39;00m \u001b[39mmu\u001b[39;00m\n\u001b[1;32m     14\u001b[0m \u001b[39mimport\u001b[39;00m \u001b[39mIMCprocess\u001b[39;00m\u001b[39m.\u001b[39;00m\u001b[39mspatial_analysis\u001b[39;00m\u001b[39m.\u001b[39;00m\u001b[39mImg\u001b[39;00m \u001b[39mas\u001b[39;00m \u001b[39mImg\u001b[39;00m\n\u001b[1;32m     15\u001b[0m \u001b[39mimport\u001b[39;00m \u001b[39mIMCprocess\u001b[39;00m\u001b[39m.\u001b[39;00m\u001b[39mutils\u001b[39;00m\u001b[39m.\u001b[39;00m\u001b[39mutils\u001b[39;00m \u001b[39mas\u001b[39;00m \u001b[39mut\u001b[39;00m\n",
      "File \u001b[0;32m~/Desktop/UiB/cancer/git_repo/IMCprocess/IMCprocess/__init__.py:1\u001b[0m\n\u001b[0;32m----> 1\u001b[0m \u001b[39mfrom\u001b[39;00m \u001b[39mIMCprocess\u001b[39;00m \u001b[39mimport\u001b[39;00m clustifier, spatial_analysis, utils, Img_anndata\n",
      "File \u001b[0;32m~/Desktop/UiB/cancer/git_repo/IMCprocess/IMCprocess/spatial_analysis/__init__.py:1\u001b[0m\n\u001b[0;32m----> 1\u001b[0m \u001b[39mfrom\u001b[39;00m \u001b[39mIMCprocess\u001b[39;00m \u001b[39mimport\u001b[39;00m clustifier, spatial_analysis, utils, Img_anndata, Img, mask_utils\n",
      "\u001b[0;31mImportError\u001b[0m: cannot import name 'Img' from partially initialized module 'IMCprocess' (most likely due to a circular import) (/Users/pattama/Desktop/UiB/cancer/git_repo/IMCprocess/IMCprocess/__init__.py)"
     ]
    }
   ],
   "source": [
    "import pandas as pd\n",
    "import numpy as np\n",
    "import matplotlib.pyplot as plt\n",
    "from scipy import stats\n",
    "import sys, os\n",
    "#from cellpose import io\n",
    "from skimage import io\n",
    "from skimage.measure import label, regionprops\n",
    "\n",
    "other_dir_path = os.path.abspath(os.path.join(os.getcwd(), '..', '..'))\n",
    "sys.path.append(other_dir_path)\n",
    "\n",
    "import IMCprocess.spatial_analysis.mask_utils as mu\n",
    "import IMCprocess.spatial_analysis.Img as Img\n",
    "import IMCprocess.utils.utils as ut"
   ]
  },
  {
   "attachments": {},
   "cell_type": "markdown",
   "metadata": {},
   "source": [
    "# T"
   ]
  },
  {
   "cell_type": "code",
   "execution_count": null,
   "metadata": {},
   "outputs": [],
   "source": []
  }
 ],
 "metadata": {
  "kernelspec": {
   "display_name": "IMCprocess_venv",
   "language": "python",
   "name": "python3"
  },
  "language_info": {
   "codemirror_mode": {
    "name": "ipython",
    "version": 3
   },
   "file_extension": ".py",
   "mimetype": "text/x-python",
   "name": "python",
   "nbconvert_exporter": "python",
   "pygments_lexer": "ipython3",
   "version": "3.8.5"
  },
  "orig_nbformat": 4
 },
 "nbformat": 4,
 "nbformat_minor": 2
}
