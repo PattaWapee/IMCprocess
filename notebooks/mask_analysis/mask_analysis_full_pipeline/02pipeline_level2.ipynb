{
 "cells": [
  {
   "attachments": {},
   "cell_type": "markdown",
   "metadata": {},
   "source": [
    "# Mask analysis full pipeline for level2"
   ]
  },
  {
   "cell_type": "code",
   "execution_count": 2,
   "metadata": {},
   "outputs": [],
   "source": [
    "import pandas as pd\n",
    "import numpy as np\n",
    "import matplotlib.pyplot as plt\n",
    "from scipy import stats\n",
    "import sys, os\n",
    "#from cellpose import io\n",
    "from skimage import io\n",
    "from skimage.measure import label, regionprops\n",
    "import itertools\n",
    "\n",
    "other_dir_path = os.path.abspath(os.path.join(os.getcwd(), '..', '..','..'))\n",
    "sys.path.append(other_dir_path)\n",
    "\n",
    "import IMCprocess.spatial_analysis.mask_utils as mu\n",
    "import IMCprocess.utils.utils as ut"
   ]
  },
  {
   "attachments": {},
   "cell_type": "markdown",
   "metadata": {},
   "source": [
    "## Merge label for level2 in level1 object"
   ]
  },
  {
   "cell_type": "code",
   "execution_count": 32,
   "metadata": {},
   "outputs": [],
   "source": [
    "data_path = '/Users/pattama/Desktop/UiB/cancer/example_share_code/share_with_vladan/mask_analysis/example_data/'\n",
    "data_lev1 = ut.read_pickle_obj(data_path+'00hanna_adata_totalNB_obj_Level1.pkl')\n",
    "Ep_lev2 = ut.read_pickle_obj(data_path+'02hanna_adata_totalNB_obj_EpLevel2.pkl')\n",
    "Im_lev2 = ut.read_pickle_obj(data_path+'02hanna_adata_totalNB_obj_ImmuneLevel2.pkl')\n",
    "Fi_lev2 = ut.read_pickle_obj(data_path+'02hanna_adata_totalNB_obj_Level2.pkl')"
   ]
  },
  {
   "cell_type": "code",
   "execution_count": 33,
   "metadata": {},
   "outputs": [],
   "source": [
    "# get anndata for level1, epithelial level2, immune level2, fibroblast level2\n",
    "level1_adata = data_lev1.adata_dict['level1']\n",
    "Ep_adata = Ep_lev2.adata_dict['Ep_level2']\n",
    "Im_adata = Im_lev2.adata_dict['Immune_level2']\n",
    "Fi_adata = Fi_lev2.adata_dict['Fibro_level2']"
   ]
  },
  {
   "cell_type": "code",
   "execution_count": null,
   "metadata": {},
   "outputs": [],
   "source": [
    "def add_level2_to_level1_obs(level1_adata, level2_adata_list):\n",
    "    '''\n",
    "    Add level2 annotation to level1 adata object\n",
    "    '''\n",
    "    level1_adata.obs['level2'] = level1_adata['level1_annotated'].astype(str)\n",
    "    for lev2_adata in level2_adata_list:\n",
    "        lev2_col = lev2_adata.obs.columns[lev2_adata.obs.columns.str.contains('level2')][0]\n",
    "        lev2_adata.obs['level2'] = lev2_adata.obs[\n",
    "            'level1_annotated'].astype('str') + '_' + lev2_adata.obs[lev2_col].astype('str')\n",
    "        level1_adata.obs.loc[lev2_adata.obs.level2.index, 'level2'] = lev2_adata.obs.level2\n",
    "    return level1_adata"
   ]
  },
  {
   "cell_type": "code",
   "execution_count": 47,
   "metadata": {},
   "outputs": [
    {
     "data": {
      "text/plain": [
       "'Ep_level2_annotated'"
      ]
     },
     "execution_count": 47,
     "metadata": {},
     "output_type": "execute_result"
    }
   ],
   "source": [
    "#Ep_adata.obs.columns.to_list().contains('level2')\n",
    "Ep_adata.obs.columns[Ep_adata.obs.columns.str.contains('level2')][0]"
   ]
  },
  {
   "cell_type": "code",
   "execution_count": 4,
   "metadata": {},
   "outputs": [
    {
     "data": {
      "text/plain": [
       "{'level1': AnnData object with n_obs × n_vars = 132951 × 51\n",
       "     obs: 'img_id', 'PhenoGraph_clusters', 'level1_annotated'\n",
       "     uns: 'pca', 'PhenoGraph_Q', 'PhenoGraph_k', 'neighbors', 'umap', 'PCs', 'dendrogram_PhenoGraph_clusters', 'PhenoGraph_clusters_colors', 'level1_annotated_colors'\n",
       "     obsm: 'spatial', 'X_pca', 'X_umap'\n",
       "     obsp: 'distances', 'connectivities'}"
      ]
     },
     "execution_count": 4,
     "metadata": {},
     "output_type": "execute_result"
    }
   ],
   "source": [
    "data_lev1.adata_dict"
   ]
  },
  {
   "cell_type": "code",
   "execution_count": 5,
   "metadata": {},
   "outputs": [
    {
     "data": {
      "text/plain": [
       "{'level1': AnnData object with n_obs × n_vars = 132951 × 51\n",
       "     obs: 'img_id', 'PhenoGraph_clusters', 'level1_annotated'\n",
       "     uns: 'pca', 'PhenoGraph_Q', 'PhenoGraph_k', 'neighbors', 'umap', 'PCs', 'dendrogram_PhenoGraph_clusters', 'PhenoGraph_clusters_colors', 'level1_annotated_colors'\n",
       "     obsm: 'spatial', 'X_pca', 'X_umap'\n",
       "     obsp: 'distances', 'connectivities',\n",
       " 'Ep_level2': AnnData object with n_obs × n_vars = 64874 × 51\n",
       "     obs: 'img_id', 'PhenoGraph_clusters', 'level1_annotated', 'Ep_level2_annotated'\n",
       "     uns: 'pca', 'PhenoGraph_Q', 'PhenoGraph_k', 'neighbors', 'umap', 'PCs', 'dendrogram_PhenoGraph_clusters', 'PhenoGraph_clusters_colors', 'level1_annotated_colors', 'Ep_level2_annotated_colors'\n",
       "     obsm: 'spatial', 'X_pca', 'X_umap'\n",
       "     obsp: 'distances', 'connectivities'}"
      ]
     },
     "execution_count": 5,
     "metadata": {},
     "output_type": "execute_result"
    }
   ],
   "source": [
    "Ep_lev2.adata_dict"
   ]
  },
  {
   "cell_type": "code",
   "execution_count": 6,
   "metadata": {},
   "outputs": [
    {
     "data": {
      "text/plain": [
       "{'level1': AnnData object with n_obs × n_vars = 132951 × 51\n",
       "     obs: 'img_id', 'PhenoGraph_clusters', 'level1_annotated'\n",
       "     uns: 'pca', 'PhenoGraph_Q', 'PhenoGraph_k', 'neighbors', 'umap', 'PCs', 'dendrogram_PhenoGraph_clusters', 'PhenoGraph_clusters_colors', 'level1_annotated_colors'\n",
       "     obsm: 'spatial', 'X_pca', 'X_umap'\n",
       "     obsp: 'distances', 'connectivities',\n",
       " 'Immune_level2': AnnData object with n_obs × n_vars = 29445 × 51\n",
       "     obs: 'img_id', 'PhenoGraph_clusters', 'level1_annotated', 'Immune_level2_annotated'\n",
       "     uns: 'pca', 'PhenoGraph_Q', 'PhenoGraph_k', 'neighbors', 'umap', 'PCs', 'dendrogram_PhenoGraph_clusters', 'PhenoGraph_clusters_colors', 'level1_annotated_colors', 'Immune_level2_annotated_colors'\n",
       "     obsm: 'spatial', 'X_pca', 'X_umap'\n",
       "     obsp: 'distances', 'connectivities'}"
      ]
     },
     "execution_count": 6,
     "metadata": {},
     "output_type": "execute_result"
    }
   ],
   "source": [
    "Im_lev2.adata_dict"
   ]
  },
  {
   "cell_type": "code",
   "execution_count": 7,
   "metadata": {},
   "outputs": [
    {
     "data": {
      "text/plain": [
       "{'level1': AnnData object with n_obs × n_vars = 132951 × 51\n",
       "     obs: 'img_id', 'PhenoGraph_clusters', 'level1_annotated'\n",
       "     uns: 'pca', 'PhenoGraph_Q', 'PhenoGraph_k', 'neighbors', 'umap', 'PCs', 'dendrogram_PhenoGraph_clusters', 'PhenoGraph_clusters_colors', 'level1_annotated_colors'\n",
       "     obsm: 'spatial', 'X_pca', 'X_umap'\n",
       "     obsp: 'distances', 'connectivities',\n",
       " 'Fibro_level2': AnnData object with n_obs × n_vars = 17129 × 51\n",
       "     obs: 'img_id', 'PhenoGraph_clusters', 'level1_annotated', 'Fibro_level2_annotated'\n",
       "     uns: 'pca', 'PhenoGraph_Q', 'PhenoGraph_k', 'neighbors', 'umap', 'PCs', 'dendrogram_PhenoGraph_clusters', 'PhenoGraph_clusters_colors', 'level1_annotated_colors', 'Fibro_level2_annotated_colors'\n",
       "     obsm: 'spatial', 'X_pca', 'X_umap'\n",
       "     obsp: 'distances', 'connectivities'}"
      ]
     },
     "execution_count": 7,
     "metadata": {},
     "output_type": "execute_result"
    }
   ],
   "source": [
    "Fi_lev2.adata_dict"
   ]
  },
  {
   "cell_type": "code",
   "execution_count": 12,
   "metadata": {},
   "outputs": [],
   "source": [
    "lev1 = data_lev1.adata_dict['level1'].obs"
   ]
  },
  {
   "cell_type": "code",
   "execution_count": 15,
   "metadata": {},
   "outputs": [
    {
     "data": {
      "text/html": [
       "<div>\n",
       "<style scoped>\n",
       "    .dataframe tbody tr th:only-of-type {\n",
       "        vertical-align: middle;\n",
       "    }\n",
       "\n",
       "    .dataframe tbody tr th {\n",
       "        vertical-align: top;\n",
       "    }\n",
       "\n",
       "    .dataframe thead th {\n",
       "        text-align: right;\n",
       "    }\n",
       "</style>\n",
       "<table border=\"1\" class=\"dataframe\">\n",
       "  <thead>\n",
       "    <tr style=\"text-align: right;\">\n",
       "      <th></th>\n",
       "      <th>img_id</th>\n",
       "      <th>PhenoGraph_clusters</th>\n",
       "      <th>level1_annotated</th>\n",
       "    </tr>\n",
       "    <tr>\n",
       "      <th>Cell_id</th>\n",
       "      <th></th>\n",
       "      <th></th>\n",
       "      <th></th>\n",
       "    </tr>\n",
       "  </thead>\n",
       "  <tbody>\n",
       "    <tr>\n",
       "      <th>1_0</th>\n",
       "      <td>R1_001</td>\n",
       "      <td>45</td>\n",
       "      <td>Ep</td>\n",
       "    </tr>\n",
       "    <tr>\n",
       "      <th>2_0</th>\n",
       "      <td>R1_001</td>\n",
       "      <td>12</td>\n",
       "      <td>Immune</td>\n",
       "    </tr>\n",
       "    <tr>\n",
       "      <th>3_0</th>\n",
       "      <td>R1_001</td>\n",
       "      <td>34</td>\n",
       "      <td>Ves</td>\n",
       "    </tr>\n",
       "    <tr>\n",
       "      <th>4_0</th>\n",
       "      <td>R1_001</td>\n",
       "      <td>0</td>\n",
       "      <td>Fibro</td>\n",
       "    </tr>\n",
       "    <tr>\n",
       "      <th>5_0</th>\n",
       "      <td>R1_001</td>\n",
       "      <td>45</td>\n",
       "      <td>Ep</td>\n",
       "    </tr>\n",
       "    <tr>\n",
       "      <th>...</th>\n",
       "      <td>...</td>\n",
       "      <td>...</td>\n",
       "      <td>...</td>\n",
       "    </tr>\n",
       "    <tr>\n",
       "      <th>130701_29</th>\n",
       "      <td>R10_003</td>\n",
       "      <td>13</td>\n",
       "      <td>Ep</td>\n",
       "    </tr>\n",
       "    <tr>\n",
       "      <th>130702_29</th>\n",
       "      <td>R10_003</td>\n",
       "      <td>28</td>\n",
       "      <td>Ep</td>\n",
       "    </tr>\n",
       "    <tr>\n",
       "      <th>130703_29</th>\n",
       "      <td>R10_003</td>\n",
       "      <td>1</td>\n",
       "      <td>Ep</td>\n",
       "    </tr>\n",
       "    <tr>\n",
       "      <th>130704_29</th>\n",
       "      <td>R10_003</td>\n",
       "      <td>20</td>\n",
       "      <td>Ep</td>\n",
       "    </tr>\n",
       "    <tr>\n",
       "      <th>130705_29</th>\n",
       "      <td>R10_003</td>\n",
       "      <td>7</td>\n",
       "      <td>Undef</td>\n",
       "    </tr>\n",
       "  </tbody>\n",
       "</table>\n",
       "<p>132951 rows × 3 columns</p>\n",
       "</div>"
      ],
      "text/plain": [
       "            img_id PhenoGraph_clusters level1_annotated\n",
       "Cell_id                                                \n",
       "1_0         R1_001                  45               Ep\n",
       "2_0         R1_001                  12           Immune\n",
       "3_0         R1_001                  34              Ves\n",
       "4_0         R1_001                   0            Fibro\n",
       "5_0         R1_001                  45               Ep\n",
       "...            ...                 ...              ...\n",
       "130701_29  R10_003                  13               Ep\n",
       "130702_29  R10_003                  28               Ep\n",
       "130703_29  R10_003                   1               Ep\n",
       "130704_29  R10_003                  20               Ep\n",
       "130705_29  R10_003                   7            Undef\n",
       "\n",
       "[132951 rows x 3 columns]"
      ]
     },
     "execution_count": 15,
     "metadata": {},
     "output_type": "execute_result"
    }
   ],
   "source": [
    "lev1"
   ]
  },
  {
   "cell_type": "code",
   "execution_count": 13,
   "metadata": {},
   "outputs": [],
   "source": [
    "ep = Ep_lev2.adata_dict['Ep_level2'].obs"
   ]
  },
  {
   "cell_type": "code",
   "execution_count": 26,
   "metadata": {},
   "outputs": [],
   "source": [
    "lev1['level2'] = lev1['level1_annotated'].astype(str)"
   ]
  },
  {
   "cell_type": "code",
   "execution_count": 18,
   "metadata": {},
   "outputs": [
    {
     "data": {
      "text/plain": [
       "'Ep'"
      ]
     },
     "execution_count": 18,
     "metadata": {},
     "output_type": "execute_result"
    }
   ],
   "source": [
    "lev1.loc['1_0', 'level2']='"
   ]
  },
  {
   "cell_type": "code",
   "execution_count": 22,
   "metadata": {},
   "outputs": [
    {
     "data": {
      "text/html": [
       "<div>\n",
       "<style scoped>\n",
       "    .dataframe tbody tr th:only-of-type {\n",
       "        vertical-align: middle;\n",
       "    }\n",
       "\n",
       "    .dataframe tbody tr th {\n",
       "        vertical-align: top;\n",
       "    }\n",
       "\n",
       "    .dataframe thead th {\n",
       "        text-align: right;\n",
       "    }\n",
       "</style>\n",
       "<table border=\"1\" class=\"dataframe\">\n",
       "  <thead>\n",
       "    <tr style=\"text-align: right;\">\n",
       "      <th></th>\n",
       "      <th>img_id</th>\n",
       "      <th>PhenoGraph_clusters</th>\n",
       "      <th>level1_annotated</th>\n",
       "      <th>Ep_level2_annotated</th>\n",
       "      <th>level2</th>\n",
       "    </tr>\n",
       "    <tr>\n",
       "      <th>Cell_id</th>\n",
       "      <th></th>\n",
       "      <th></th>\n",
       "      <th></th>\n",
       "      <th></th>\n",
       "      <th></th>\n",
       "    </tr>\n",
       "  </thead>\n",
       "  <tbody>\n",
       "    <tr>\n",
       "      <th>1_0</th>\n",
       "      <td>R1_001</td>\n",
       "      <td>19</td>\n",
       "      <td>Ep</td>\n",
       "      <td>Ca_nonstem</td>\n",
       "      <td>Ep_Ca_nonstem</td>\n",
       "    </tr>\n",
       "    <tr>\n",
       "      <th>5_0</th>\n",
       "      <td>R1_001</td>\n",
       "      <td>19</td>\n",
       "      <td>Ep</td>\n",
       "      <td>Ca_nonstem</td>\n",
       "      <td>Ep_Ca_nonstem</td>\n",
       "    </tr>\n",
       "    <tr>\n",
       "      <th>6_0</th>\n",
       "      <td>R1_001</td>\n",
       "      <td>11</td>\n",
       "      <td>Ep</td>\n",
       "      <td>Ca_nonstem</td>\n",
       "      <td>Ep_Ca_nonstem</td>\n",
       "    </tr>\n",
       "    <tr>\n",
       "      <th>7_0</th>\n",
       "      <td>R1_001</td>\n",
       "      <td>35</td>\n",
       "      <td>Ep</td>\n",
       "      <td>Ca_nonstem</td>\n",
       "      <td>Ep_Ca_nonstem</td>\n",
       "    </tr>\n",
       "    <tr>\n",
       "      <th>8_0</th>\n",
       "      <td>R1_001</td>\n",
       "      <td>30</td>\n",
       "      <td>Ep</td>\n",
       "      <td>Ca_nonstem</td>\n",
       "      <td>Ep_Ca_nonstem</td>\n",
       "    </tr>\n",
       "  </tbody>\n",
       "</table>\n",
       "</div>"
      ],
      "text/plain": [
       "         img_id PhenoGraph_clusters level1_annotated Ep_level2_annotated  \\\n",
       "Cell_id                                                                    \n",
       "1_0      R1_001                  19               Ep          Ca_nonstem   \n",
       "5_0      R1_001                  19               Ep          Ca_nonstem   \n",
       "6_0      R1_001                  11               Ep          Ca_nonstem   \n",
       "7_0      R1_001                  35               Ep          Ca_nonstem   \n",
       "8_0      R1_001                  30               Ep          Ca_nonstem   \n",
       "\n",
       "                level2  \n",
       "Cell_id                 \n",
       "1_0      Ep_Ca_nonstem  \n",
       "5_0      Ep_Ca_nonstem  \n",
       "6_0      Ep_Ca_nonstem  \n",
       "7_0      Ep_Ca_nonstem  \n",
       "8_0      Ep_Ca_nonstem  "
      ]
     },
     "execution_count": 22,
     "metadata": {},
     "output_type": "execute_result"
    }
   ],
   "source": [
    "ep['level2'] = ep['level1_annotated'].astype('str') + '_' + ep['Ep_level2_annotated'].astype('str')\n",
    "ep.head()"
   ]
  },
  {
   "cell_type": "code",
   "execution_count": 23,
   "metadata": {},
   "outputs": [
    {
     "data": {
      "text/plain": [
       "Cell_id\n",
       "1_0          Ep_Ca_nonstem\n",
       "5_0          Ep_Ca_nonstem\n",
       "6_0          Ep_Ca_nonstem\n",
       "7_0          Ep_Ca_nonstem\n",
       "8_0          Ep_Ca_nonstem\n",
       "                 ...      \n",
       "130698_29    Ep_Ca_nonstem\n",
       "130701_29    Ep_Ca_nonstem\n",
       "130702_29    Ep_Ca_nonstem\n",
       "130703_29    Ep_Ca_nonstem\n",
       "130704_29    Ep_Ca_nonstem\n",
       "Name: level2, Length: 64874, dtype: object"
      ]
     },
     "execution_count": 23,
     "metadata": {},
     "output_type": "execute_result"
    }
   ],
   "source": [
    "ep.level2"
   ]
  },
  {
   "cell_type": "code",
   "execution_count": 27,
   "metadata": {},
   "outputs": [],
   "source": [
    "lev1.loc[ep.level2.index, 'level2'] = ep.level2"
   ]
  },
  {
   "cell_type": "code",
   "execution_count": 28,
   "metadata": {},
   "outputs": [
    {
     "data": {
      "text/html": [
       "<div>\n",
       "<style scoped>\n",
       "    .dataframe tbody tr th:only-of-type {\n",
       "        vertical-align: middle;\n",
       "    }\n",
       "\n",
       "    .dataframe tbody tr th {\n",
       "        vertical-align: top;\n",
       "    }\n",
       "\n",
       "    .dataframe thead th {\n",
       "        text-align: right;\n",
       "    }\n",
       "</style>\n",
       "<table border=\"1\" class=\"dataframe\">\n",
       "  <thead>\n",
       "    <tr style=\"text-align: right;\">\n",
       "      <th></th>\n",
       "      <th>img_id</th>\n",
       "      <th>PhenoGraph_clusters</th>\n",
       "      <th>level1_annotated</th>\n",
       "      <th>level2</th>\n",
       "    </tr>\n",
       "    <tr>\n",
       "      <th>Cell_id</th>\n",
       "      <th></th>\n",
       "      <th></th>\n",
       "      <th></th>\n",
       "      <th></th>\n",
       "    </tr>\n",
       "  </thead>\n",
       "  <tbody>\n",
       "    <tr>\n",
       "      <th>1_0</th>\n",
       "      <td>R1_001</td>\n",
       "      <td>45</td>\n",
       "      <td>Ep</td>\n",
       "      <td>Ep_Ca_nonstem</td>\n",
       "    </tr>\n",
       "    <tr>\n",
       "      <th>2_0</th>\n",
       "      <td>R1_001</td>\n",
       "      <td>12</td>\n",
       "      <td>Immune</td>\n",
       "      <td>Immune</td>\n",
       "    </tr>\n",
       "    <tr>\n",
       "      <th>3_0</th>\n",
       "      <td>R1_001</td>\n",
       "      <td>34</td>\n",
       "      <td>Ves</td>\n",
       "      <td>Ves</td>\n",
       "    </tr>\n",
       "    <tr>\n",
       "      <th>4_0</th>\n",
       "      <td>R1_001</td>\n",
       "      <td>0</td>\n",
       "      <td>Fibro</td>\n",
       "      <td>Fibro</td>\n",
       "    </tr>\n",
       "    <tr>\n",
       "      <th>5_0</th>\n",
       "      <td>R1_001</td>\n",
       "      <td>45</td>\n",
       "      <td>Ep</td>\n",
       "      <td>Ep_Ca_nonstem</td>\n",
       "    </tr>\n",
       "  </tbody>\n",
       "</table>\n",
       "</div>"
      ],
      "text/plain": [
       "         img_id PhenoGraph_clusters level1_annotated         level2\n",
       "Cell_id                                                            \n",
       "1_0      R1_001                  45               Ep  Ep_Ca_nonstem\n",
       "2_0      R1_001                  12           Immune         Immune\n",
       "3_0      R1_001                  34              Ves            Ves\n",
       "4_0      R1_001                   0            Fibro          Fibro\n",
       "5_0      R1_001                  45               Ep  Ep_Ca_nonstem"
      ]
     },
     "execution_count": 28,
     "metadata": {},
     "output_type": "execute_result"
    }
   ],
   "source": [
    "lev1.head()"
   ]
  },
  {
   "cell_type": "code",
   "execution_count": null,
   "metadata": {},
   "outputs": [],
   "source": []
  }
 ],
 "metadata": {
  "kernelspec": {
   "display_name": "IMCprocess_venv",
   "language": "python",
   "name": "python3"
  },
  "language_info": {
   "codemirror_mode": {
    "name": "ipython",
    "version": 3
   },
   "file_extension": ".py",
   "mimetype": "text/x-python",
   "name": "python",
   "nbconvert_exporter": "python",
   "pygments_lexer": "ipython3",
   "version": "3.8.5"
  },
  "orig_nbformat": 4
 },
 "nbformat": 4,
 "nbformat_minor": 2
}
