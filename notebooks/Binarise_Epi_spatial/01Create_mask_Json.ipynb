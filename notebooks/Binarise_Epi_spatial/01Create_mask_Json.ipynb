{
 "cells": [
  {
   "attachments": {},
   "cell_type": "markdown",
   "metadata": {},
   "source": [
    "# Create Json mask file to choose the appropriate threshold"
   ]
  },
  {
   "attachments": {},
   "cell_type": "markdown",
   "metadata": {},
   "source": [
    "Labelled exported as geoJSON:\n",
    "\n",
    "* for QuPath coordinates need to be integers (pixels)\n",
    "* coordinates need to be (x,y) and in form of a list (not nd-array)\n",
    "* export of cells (around 10k cells) will take a while. Import to QuPath fast, as long as * no hierarchy is resolved"
   ]
  },
  {
   "cell_type": "code",
   "execution_count": 1,
   "metadata": {},
   "outputs": [
    {
     "name": "stdout",
     "output_type": "stream",
     "text": [
      "/Users/pattama/Desktop/UiB/cancer/git_repo/IMCprocess\n"
     ]
    }
   ],
   "source": [
    "import numpy as np\n",
    "import pandas as pd\n",
    "import matplotlib.pyplot as plt\n",
    "import json\n",
    "import os, sys\n",
    "\n",
    "other_dir_path = os.path.abspath(os.path.join(os.getcwd(), '..', '..'))\n",
    "sys.path.append(other_dir_path)\n",
    "\n",
    "print(other_dir_path)\n",
    "import IMCprocess.spatial_analysis.spatial_analysis as sa\n",
    "import IMCprocess.spatial_analysis.combi_enrich as ce\n",
    "import IMCprocess.utils.utils as ut\n",
    "\n",
    "# I have to use custom Img_anndata code\n",
    "import Img_anndata as utan"
   ]
  },
  {
   "attachments": {},
   "cell_type": "markdown",
   "metadata": {},
   "source": [
    "## Import mask and level1 annotated object"
   ]
  },
  {
   "cell_type": "code",
   "execution_count": 2,
   "metadata": {},
   "outputs": [],
   "source": [
    "input_mask = 'sample_data/Patient1_001.tiff'\n",
    "output_dir = 'output'\n",
    "level1_file = 'sample_data/00hanna_adata_pilottma1_obj_Level1.pkl'"
   ]
  },
  {
   "cell_type": "code",
   "execution_count": 3,
   "metadata": {},
   "outputs": [],
   "source": [
    "Img_obj_level1 = ut.read_pickle_obj(level1_file)"
   ]
  },
  {
   "cell_type": "code",
   "execution_count": 4,
   "metadata": {},
   "outputs": [
    {
     "data": {
      "text/plain": [
       "{'level1': AnnData object with n_obs × n_vars = 14300 × 36\n",
       "     obs: 'img_id', 'PhenoGraph_clusters', 'level1_annotated'\n",
       "     uns: 'pca', 'PhenoGraph_Q', 'PhenoGraph_k', 'neighbors', 'umap', 'PCs', 'dendrogram_PhenoGraph_clusters', 'PhenoGraph_clusters_colors', 'level1_annotated_colors'\n",
       "     obsm: 'spatial', 'X_pca', 'X_umap'\n",
       "     obsp: 'distances', 'connectivities'}"
      ]
     },
     "execution_count": 4,
     "metadata": {},
     "output_type": "execute_result"
    }
   ],
   "source": [
    "Img_obj_level1.adata_dict"
   ]
  },
  {
   "attachments": {},
   "cell_type": "markdown",
   "metadata": {},
   "source": [
    "## Create epithelial anndata"
   ]
  },
  {
   "cell_type": "code",
   "execution_count": 5,
   "metadata": {},
   "outputs": [],
   "source": [
    "epi_adata = Img_obj_level1.adata_dict['level1'][\n",
    "    Img_obj_level1.adata_dict[\n",
    "        'level1'].obs['level1_annotated'] == 'Ep']"
   ]
  },
  {
   "cell_type": "code",
   "execution_count": 7,
   "metadata": {},
   "outputs": [
    {
     "data": {
      "text/plain": [
       "Index(['Bi209_pSTAT3_', 'Dy161_pSMAD2_', 'Dy162_CD8_', 'Dy163_ER_',\n",
       "       'Dy164_CD20_', 'Er166_HER2_', 'Er167_GATA3_', 'Er168_Ki67_',\n",
       "       'Er170_CD3_', 'Eu151_CD3134_', 'Eu153_CD44_', 'Gd155_FoxP3_',\n",
       "       'Gd156_CD4_', 'Gd158_Ecad_', 'Gd160_PDGFRa_', 'In113_ADHL1_',\n",
       "       'In115_GammaCat_', 'La139_MCAM_', 'Nd142_CTLA4_', 'Nd143_Vim_',\n",
       "       'Nd144_YAP1_', 'Nd145_CD45_', 'Nd146_CD16_', 'Nd148_PanCk_',\n",
       "       'Nd150_PDL1_', 'Pr141_aSMA_', 'Sm147_CD163_', 'Sm149_CK5_',\n",
       "       'Sm152_FAP_', 'Sm154_CD11c_', 'Tb159_CD68_', 'Tm169_CD24_',\n",
       "       'Yb171_PDGFRb_', 'Yb172_ClCasp3_', 'Yb173_GranzymeB_', 'Yb174_CK818_'],\n",
       "      dtype='object')"
      ]
     },
     "execution_count": 7,
     "metadata": {},
     "output_type": "execute_result"
    }
   ],
   "source": [
    "# Check marker column name\n",
    "epi_adata.var_names"
   ]
  },
  {
   "attachments": {},
   "cell_type": "markdown",
   "metadata": {},
   "source": [
    "## label 1, 0 for positive and negative cells from threshold"
   ]
  },
  {
   "cell_type": "code",
   "execution_count": 8,
   "metadata": {},
   "outputs": [],
   "source": [
    "Ki67_df = epi_adata.to_df()[['Er168_Ki67_']]\n",
    "Vim_df = epi_adata.to_df()[['Nd143_Vim_']]"
   ]
  },
  {
   "attachments": {},
   "cell_type": "markdown",
   "metadata": {},
   "source": [
    "### range threshold from 0.2 - 0.5"
   ]
  },
  {
   "cell_type": "code",
   "execution_count": 10,
   "metadata": {},
   "outputs": [],
   "source": [
    "def binary_df(df, threshold):\n",
    "    df_binary = df.applymap(lambda x: 1 if x >= threshold else 0)\n",
    "    df_binary.columns = [col + '_'+ str(round(threshold,2)) for col in df.columns]\n",
    "    return(df_binary)"
   ]
  },
  {
   "cell_type": "code",
   "execution_count": 11,
   "metadata": {},
   "outputs": [],
   "source": [
    "Ki67_bi_ls = [binary_df(Ki67_df, i) for i in np.arange(0.2, 0.51, 0.05)]\n",
    "Vim_bi_ls = [binary_df(Vim_df, i) for i in np.arange(0.2, 0.51, 0.05)]"
   ]
  },
  {
   "cell_type": "code",
   "execution_count": 16,
   "metadata": {},
   "outputs": [],
   "source": [
    "Vim_bi_concat = pd.concat(Vim_bi_ls, axis=1).reset_index()\n",
    "Ki67_bi_concat = pd.concat(Ki67_bi_ls, axis=1).reset_index()"
   ]
  },
  {
   "cell_type": "code",
   "execution_count": 17,
   "metadata": {},
   "outputs": [
    {
     "data": {
      "text/html": [
       "<div>\n",
       "<style scoped>\n",
       "    .dataframe tbody tr th:only-of-type {\n",
       "        vertical-align: middle;\n",
       "    }\n",
       "\n",
       "    .dataframe tbody tr th {\n",
       "        vertical-align: top;\n",
       "    }\n",
       "\n",
       "    .dataframe thead th {\n",
       "        text-align: right;\n",
       "    }\n",
       "</style>\n",
       "<table border=\"1\" class=\"dataframe\">\n",
       "  <thead>\n",
       "    <tr style=\"text-align: right;\">\n",
       "      <th></th>\n",
       "      <th>Cell_id</th>\n",
       "      <th>Nd143_Vim__0.2</th>\n",
       "      <th>Nd143_Vim__0.25</th>\n",
       "      <th>Nd143_Vim__0.3</th>\n",
       "      <th>Nd143_Vim__0.35</th>\n",
       "      <th>Nd143_Vim__0.4</th>\n",
       "      <th>Nd143_Vim__0.45</th>\n",
       "      <th>Nd143_Vim__0.5</th>\n",
       "    </tr>\n",
       "  </thead>\n",
       "  <tbody>\n",
       "    <tr>\n",
       "      <th>0</th>\n",
       "      <td>14777_0</td>\n",
       "      <td>0</td>\n",
       "      <td>0</td>\n",
       "      <td>0</td>\n",
       "      <td>0</td>\n",
       "      <td>0</td>\n",
       "      <td>0</td>\n",
       "      <td>0</td>\n",
       "    </tr>\n",
       "    <tr>\n",
       "      <th>1</th>\n",
       "      <td>14778_0</td>\n",
       "      <td>1</td>\n",
       "      <td>1</td>\n",
       "      <td>1</td>\n",
       "      <td>1</td>\n",
       "      <td>0</td>\n",
       "      <td>0</td>\n",
       "      <td>0</td>\n",
       "    </tr>\n",
       "    <tr>\n",
       "      <th>2</th>\n",
       "      <td>14779_0</td>\n",
       "      <td>0</td>\n",
       "      <td>0</td>\n",
       "      <td>0</td>\n",
       "      <td>0</td>\n",
       "      <td>0</td>\n",
       "      <td>0</td>\n",
       "      <td>0</td>\n",
       "    </tr>\n",
       "    <tr>\n",
       "      <th>3</th>\n",
       "      <td>14780_0</td>\n",
       "      <td>1</td>\n",
       "      <td>1</td>\n",
       "      <td>1</td>\n",
       "      <td>1</td>\n",
       "      <td>0</td>\n",
       "      <td>0</td>\n",
       "      <td>0</td>\n",
       "    </tr>\n",
       "    <tr>\n",
       "      <th>4</th>\n",
       "      <td>14782_0</td>\n",
       "      <td>1</td>\n",
       "      <td>1</td>\n",
       "      <td>1</td>\n",
       "      <td>1</td>\n",
       "      <td>0</td>\n",
       "      <td>0</td>\n",
       "      <td>0</td>\n",
       "    </tr>\n",
       "  </tbody>\n",
       "</table>\n",
       "</div>"
      ],
      "text/plain": [
       "   Cell_id  Nd143_Vim__0.2  Nd143_Vim__0.25  Nd143_Vim__0.3  Nd143_Vim__0.35  \\\n",
       "0  14777_0               0                0               0                0   \n",
       "1  14778_0               1                1               1                1   \n",
       "2  14779_0               0                0               0                0   \n",
       "3  14780_0               1                1               1                1   \n",
       "4  14782_0               1                1               1                1   \n",
       "\n",
       "   Nd143_Vim__0.4  Nd143_Vim__0.45  Nd143_Vim__0.5  \n",
       "0               0                0               0  \n",
       "1               0                0               0  \n",
       "2               0                0               0  \n",
       "3               0                0               0  \n",
       "4               0                0               0  "
      ]
     },
     "execution_count": 17,
     "metadata": {},
     "output_type": "execute_result"
    }
   ],
   "source": [
    "Vim_bi_concat.head()"
   ]
  },
  {
   "cell_type": "code",
   "execution_count": 24,
   "metadata": {},
   "outputs": [],
   "source": [
    "def cell_neg_pos_dict(df, col):\n",
    "    cell_neg_ind = np.array(df[df[col] == 0].index) + 1\n",
    "    cell_pos_ind = np.array(df[df[col] == 1].index) + 1\n",
    "    label_dict = {('neg_'+col): cell_neg_ind,\n",
    "                  ('pos_'+col): cell_pos_ind}\n",
    "    return(label_dict)"
   ]
  },
  {
   "cell_type": "code",
   "execution_count": null,
   "metadata": {},
   "outputs": [],
   "source": [
    "label_dict = {('neg_'+col): cell_neg_ind,\n",
    "              ('pos_'+col): cell_pos_ind}\n",
    "        "
   ]
  }
 ],
 "metadata": {
  "kernelspec": {
   "display_name": "IMCprocess_venv",
   "language": "python",
   "name": "python3"
  },
  "language_info": {
   "codemirror_mode": {
    "name": "ipython",
    "version": 3
   },
   "file_extension": ".py",
   "mimetype": "text/x-python",
   "name": "python",
   "nbconvert_exporter": "python",
   "pygments_lexer": "ipython3",
   "version": "3.8.5"
  },
  "orig_nbformat": 4,
  "vscode": {
   "interpreter": {
    "hash": "ffa5b3377fe2834d7df4a993f0474a8b0a83c750849adf4771c2b84c51f11ae9"
   }
  }
 },
 "nbformat": 4,
 "nbformat_minor": 2
}
