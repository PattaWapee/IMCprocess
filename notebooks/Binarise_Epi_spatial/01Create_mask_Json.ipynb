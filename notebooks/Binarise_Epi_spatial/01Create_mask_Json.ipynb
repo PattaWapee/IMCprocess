{
 "cells": [
  {
   "attachments": {},
   "cell_type": "markdown",
   "metadata": {},
   "source": [
    "# Create Json mask file to choose the appropriate threshold"
   ]
  },
  {
   "attachments": {},
   "cell_type": "markdown",
   "metadata": {},
   "source": [
    "Labelled exported as geoJSON:\n",
    "\n",
    "* for QuPath coordinates need to be integers (pixels)\n",
    "* coordinates need to be (x,y) and in form of a list (not nd-array)\n",
    "* export of cells (around 10k cells) will take a while. Import to QuPath fast, as long as * no hierarchy is resolved"
   ]
  },
  {
   "cell_type": "code",
   "execution_count": 1,
   "metadata": {},
   "outputs": [
    {
     "name": "stdout",
     "output_type": "stream",
     "text": [
      "/Users/pattama/Desktop/UiB/cancer/git_repo/IMCprocess\n"
     ]
    }
   ],
   "source": [
    "import numpy as np\n",
    "import pandas as pd\n",
    "import matplotlib.pyplot as plt\n",
    "import json\n",
    "import os, sys\n",
    "\n",
    "other_dir_path = os.path.abspath(os.path.join(os.getcwd(), '..', '..'))\n",
    "sys.path.append(other_dir_path)\n",
    "\n",
    "print(other_dir_path)\n",
    "import IMCprocess.spatial_analysis.spatial_analysis as sa\n",
    "import IMCprocess.spatial_analysis.combi_enrich as ce\n",
    "import IMCprocess.utils.utils as ut\n",
    "\n",
    "# I have to use custom Img_anndata code\n",
    "import Img_anndata as utan"
   ]
  },
  {
   "attachments": {},
   "cell_type": "markdown",
   "metadata": {},
   "source": [
    "## Import mask and level1 annotated object"
   ]
  },
  {
   "cell_type": "code",
   "execution_count": 2,
   "metadata": {},
   "outputs": [],
   "source": [
    "input_mask = 'sample_data/Patient1_001.tiff'\n",
    "output_dir = 'output'\n",
    "level1_file = 'sample_data/00hanna_adata_pilottma1_obj_Level1.pkl'\n",
    "img_id = 'R1_001'"
   ]
  },
  {
   "cell_type": "code",
   "execution_count": 3,
   "metadata": {},
   "outputs": [],
   "source": [
    "Img_obj_level1 = ut.read_pickle_obj(level1_file)\n",
    "# Get adata level1 for img_id R1_001\n",
    "Img_level1_R1_001 = ut.filter_adata_obs(Img_obj_level1.adata_dict['level1'],\n",
    "                                        'img_id', \n",
    "                                        ['R1_001'])\n",
    "# Get Epi adata\n",
    "Epi_adata = ut.filter_adata_obs(Img_level1_R1_001,\n",
    "                                'level1_annotated',\n",
    "                                ['Ep'])"
   ]
  },
  {
   "cell_type": "code",
   "execution_count": 4,
   "metadata": {},
   "outputs": [
    {
     "data": {
      "text/html": [
       "<div>\n",
       "<style scoped>\n",
       "    .dataframe tbody tr th:only-of-type {\n",
       "        vertical-align: middle;\n",
       "    }\n",
       "\n",
       "    .dataframe tbody tr th {\n",
       "        vertical-align: top;\n",
       "    }\n",
       "\n",
       "    .dataframe thead th {\n",
       "        text-align: right;\n",
       "    }\n",
       "</style>\n",
       "<table border=\"1\" class=\"dataframe\">\n",
       "  <thead>\n",
       "    <tr style=\"text-align: right;\">\n",
       "      <th></th>\n",
       "      <th>img_id</th>\n",
       "      <th>PhenoGraph_clusters</th>\n",
       "      <th>level1_annotated</th>\n",
       "    </tr>\n",
       "    <tr>\n",
       "      <th>Cell_id</th>\n",
       "      <th></th>\n",
       "      <th></th>\n",
       "      <th></th>\n",
       "    </tr>\n",
       "  </thead>\n",
       "  <tbody>\n",
       "    <tr>\n",
       "      <th>14777_0</th>\n",
       "      <td>R1_001</td>\n",
       "      <td>16</td>\n",
       "      <td>Ep</td>\n",
       "    </tr>\n",
       "    <tr>\n",
       "      <th>14778_0</th>\n",
       "      <td>R1_001</td>\n",
       "      <td>1</td>\n",
       "      <td>Ep</td>\n",
       "    </tr>\n",
       "    <tr>\n",
       "      <th>14779_0</th>\n",
       "      <td>R1_001</td>\n",
       "      <td>1</td>\n",
       "      <td>Ep</td>\n",
       "    </tr>\n",
       "    <tr>\n",
       "      <th>14780_0</th>\n",
       "      <td>R1_001</td>\n",
       "      <td>1</td>\n",
       "      <td>Ep</td>\n",
       "    </tr>\n",
       "    <tr>\n",
       "      <th>14782_0</th>\n",
       "      <td>R1_001</td>\n",
       "      <td>1</td>\n",
       "      <td>Ep</td>\n",
       "    </tr>\n",
       "    <tr>\n",
       "      <th>...</th>\n",
       "      <td>...</td>\n",
       "      <td>...</td>\n",
       "      <td>...</td>\n",
       "    </tr>\n",
       "    <tr>\n",
       "      <th>18985_0</th>\n",
       "      <td>R1_001</td>\n",
       "      <td>1</td>\n",
       "      <td>Ep</td>\n",
       "    </tr>\n",
       "    <tr>\n",
       "      <th>18987_0</th>\n",
       "      <td>R1_001</td>\n",
       "      <td>7</td>\n",
       "      <td>Ep</td>\n",
       "    </tr>\n",
       "    <tr>\n",
       "      <th>18988_0</th>\n",
       "      <td>R1_001</td>\n",
       "      <td>6</td>\n",
       "      <td>Ep</td>\n",
       "    </tr>\n",
       "    <tr>\n",
       "      <th>18990_0</th>\n",
       "      <td>R1_001</td>\n",
       "      <td>5</td>\n",
       "      <td>Ep</td>\n",
       "    </tr>\n",
       "    <tr>\n",
       "      <th>18995_0</th>\n",
       "      <td>R1_001</td>\n",
       "      <td>1</td>\n",
       "      <td>Ep</td>\n",
       "    </tr>\n",
       "  </tbody>\n",
       "</table>\n",
       "<p>2075 rows × 3 columns</p>\n",
       "</div>"
      ],
      "text/plain": [
       "         img_id PhenoGraph_clusters level1_annotated\n",
       "Cell_id                                             \n",
       "14777_0  R1_001                  16               Ep\n",
       "14778_0  R1_001                   1               Ep\n",
       "14779_0  R1_001                   1               Ep\n",
       "14780_0  R1_001                   1               Ep\n",
       "14782_0  R1_001                   1               Ep\n",
       "...         ...                 ...              ...\n",
       "18985_0  R1_001                   1               Ep\n",
       "18987_0  R1_001                   7               Ep\n",
       "18988_0  R1_001                   6               Ep\n",
       "18990_0  R1_001                   5               Ep\n",
       "18995_0  R1_001                   1               Ep\n",
       "\n",
       "[2075 rows x 3 columns]"
      ]
     },
     "execution_count": 4,
     "metadata": {},
     "output_type": "execute_result"
    }
   ],
   "source": [
    "Epi_adata.obs"
   ]
  },
  {
   "cell_type": "code",
   "execution_count": 6,
   "metadata": {},
   "outputs": [
    {
     "data": {
      "text/plain": [
       "Index(['Bi209_pSTAT3_', 'Dy161_pSMAD2_', 'Dy162_CD8_', 'Dy163_ER_',\n",
       "       'Dy164_CD20_', 'Er166_HER2_', 'Er167_GATA3_', 'Er168_Ki67_',\n",
       "       'Er170_CD3_', 'Eu151_CD3134_', 'Eu153_CD44_', 'Gd155_FoxP3_',\n",
       "       'Gd156_CD4_', 'Gd158_Ecad_', 'Gd160_PDGFRa_', 'In113_ADHL1_',\n",
       "       'In115_GammaCat_', 'La139_MCAM_', 'Nd142_CTLA4_', 'Nd143_Vim_',\n",
       "       'Nd144_YAP1_', 'Nd145_CD45_', 'Nd146_CD16_', 'Nd148_PanCk_',\n",
       "       'Nd150_PDL1_', 'Pr141_aSMA_', 'Sm147_CD163_', 'Sm149_CK5_',\n",
       "       'Sm152_FAP_', 'Sm154_CD11c_', 'Tb159_CD68_', 'Tm169_CD24_',\n",
       "       'Yb171_PDGFRb_', 'Yb172_ClCasp3_', 'Yb173_GranzymeB_', 'Yb174_CK818_'],\n",
       "      dtype='object')"
      ]
     },
     "execution_count": 6,
     "metadata": {},
     "output_type": "execute_result"
    }
   ],
   "source": [
    "# Check marker column name\n",
    "Epi_adata.var_names"
   ]
  },
  {
   "attachments": {},
   "cell_type": "markdown",
   "metadata": {},
   "source": [
    "## label 1, 0 for positive and negative cells from threshold"
   ]
  },
  {
   "cell_type": "code",
   "execution_count": 21,
   "metadata": {},
   "outputs": [],
   "source": [
    "# User provide input marker column and \n",
    "# range of threshold for each marker\n",
    "marker_threshold_dict = {'Er168_Ki67_': [0.2, 0.3, 0.4, 0.5],\n",
    "                         'Nd143_Vim_': [0.2, 0.3, 0.4, 0.5],\n",
    "                         'Tm169_CD24_': [0.2, 0.3, 0.4, 0.5]\n",
    "}"
   ]
  },
  {
   "cell_type": "code",
   "execution_count": null,
   "metadata": {},
   "outputs": [],
   "source": [
    "def binary_df(df, threshold):\n",
    "    df_binary = df.applymap(lambda x: 1 if x >= threshold else 0)\n",
    "    df_binary.columns = [col + '_'+ str(round(threshold,2)) for col in df.columns]\n",
    "    return(df_binary)\n",
    "\n",
    "def cell_neg_pos_dict(df, col):\n",
    "    cell_neg_ind = np.array(df[df[col] == 0].index) + 1\n",
    "    cell_pos_ind = np.array(df[df[col] == 1].index) + 1\n",
    "    label_dict = {('neg_'+col): cell_neg_ind,\n",
    "                  ('pos_'+col): cell_pos_ind}\n",
    "    return(label_dict)"
   ]
  },
  {
   "cell_type": "code",
   "execution_count": 39,
   "metadata": {},
   "outputs": [],
   "source": [
    "def create_json_marker(input_mask, input_adata, marker_col, \n",
    "                       threshold, output_dir):\n",
    "    '''\n",
    "    Create json file for specific marker and threshold\n",
    "    '''\n",
    "    # 1. get marker expression df\n",
    "    marker_df = input_adata.to_df()[[marker_col]]\n",
    "    # 2. get binary df\n",
    "    bi_df = binary_df(marker_df, threshold).reset_index()\n",
    "    # 3. get cell label dict\n",
    "    cell_label_dict = cell_neg_pos_dict(bi_df, \n",
    "                                        marker_col + '_'+ str(round(threshold,2)))\n",
    "    # 4. Check if output dir exist and crate mask\n",
    "    if not os.path.exists(output_dir+ marker_col):\n",
    "        os.makedirs(output_dir+ marker_col)\n",
    "        print(f\"{output_dir+marker_col} created successfully!\")\n",
    "\n",
    "    ut.export_labelmask_geoJson(input_mask, \n",
    "                                output_dir+ '/'+ marker_col + '/' + \n",
    "                                str(round(threshold,2)).replace('.','_') + '.json',\n",
    "                                cell_label_dict,\n",
    "                                [-1, -8245601]\n",
    "                                )"
   ]
  },
  {
   "cell_type": "code",
   "execution_count": 40,
   "metadata": {},
   "outputs": [
    {
     "name": "stdout",
     "output_type": "stream",
     "text": [
      "output/Json_mask/Er168_Ki67_ created successfully!\n"
     ]
    }
   ],
   "source": [
    "\n",
    "create_json_marker(input_mask, \n",
    "                   Epi_adata, \n",
    "                   'Er168_Ki67_', \n",
    "                   0.2, output_dir+ '/Json_mask/')"
   ]
  },
  {
   "cell_type": "code",
   "execution_count": 41,
   "metadata": {},
   "outputs": [
    {
     "data": {
      "text/plain": [
       "{'Er168_Ki67_': [0.2, 0.3, 0.4, 0.5],\n",
       " 'Nd143_Vim_': [0.2, 0.3, 0.4, 0.5],\n",
       " 'Tm169_CD24_': [0.2, 0.3, 0.4, 0.5]}"
      ]
     },
     "execution_count": 41,
     "metadata": {},
     "output_type": "execute_result"
    }
   ],
   "source": [
    "marker_threshold_dict"
   ]
  },
  {
   "cell_type": "code",
   "execution_count": 43,
   "metadata": {},
   "outputs": [
    {
     "name": "stdout",
     "output_type": "stream",
     "text": [
      "create mask for Er168_Ki67_ with threshold [0.2, 0.3, 0.4, 0.5]\n",
      "create mask for Nd143_Vim_ with threshold [0.2, 0.3, 0.4, 0.5]\n",
      "create mask for Tm169_CD24_ with threshold [0.2, 0.3, 0.4, 0.5]\n"
     ]
    }
   ],
   "source": [
    "for marker, threshold_list in marker_threshold_dict.items():\n",
    "    print('create mask for ' + marker + \n",
    "          ' with threshold ' + str(threshold_list))\n",
    "    for threshold in threshold_list:\n",
    "        create_json_marker(input_mask, \n",
    "                           Epi_adata, \n",
    "                           marker, \n",
    "                           threshold, output_dir+ '/Json_mask/')"
   ]
  }
 ],
 "metadata": {
  "kernelspec": {
   "display_name": "IMCprocess_venv",
   "language": "python",
   "name": "python3"
  },
  "language_info": {
   "codemirror_mode": {
    "name": "ipython",
    "version": 3
   },
   "file_extension": ".py",
   "mimetype": "text/x-python",
   "name": "python",
   "nbconvert_exporter": "python",
   "pygments_lexer": "ipython3",
   "version": "3.8.5"
  },
  "orig_nbformat": 4,
  "vscode": {
   "interpreter": {
    "hash": "ffa5b3377fe2834d7df4a993f0474a8b0a83c750849adf4771c2b84c51f11ae9"
   }
  }
 },
 "nbformat": 4,
 "nbformat_minor": 2
}
