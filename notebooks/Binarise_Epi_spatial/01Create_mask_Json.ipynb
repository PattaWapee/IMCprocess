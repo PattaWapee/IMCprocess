{
 "cells": [
  {
   "attachments": {},
   "cell_type": "markdown",
   "metadata": {},
   "source": [
    "# Create Json mask file to choose the appropriate threshold"
   ]
  },
  {
   "cell_type": "code",
   "execution_count": 1,
   "metadata": {},
   "outputs": [
    {
     "name": "stdout",
     "output_type": "stream",
     "text": [
      "/Users/pattama/Desktop/UiB/cancer/git_repo/IMCprocess\n"
     ]
    }
   ],
   "source": [
    "import numpy as np\n",
    "import pandas as pd\n",
    "import matplotlib.pyplot as plt\n",
    "import json\n",
    "import os, sys\n",
    "\n",
    "other_dir_path = os.path.abspath(os.path.join(os.getcwd(), '..', '..'))\n",
    "sys.path.append(other_dir_path)\n",
    "\n",
    "print(other_dir_path)\n",
    "import IMCprocess.spatial_analysis.spatial_analysis as sa\n",
    "import IMCprocess.spatial_analysis.combi_enrich as ce\n",
    "import IMCprocess.utils.utils as ut\n",
    "\n",
    "# I have to use custom Img_anndata code\n",
    "import Img_anndata as utan"
   ]
  },
  {
   "attachments": {},
   "cell_type": "markdown",
   "metadata": {},
   "source": [
    "## Import mask and level1 annotated object and create epithelial object"
   ]
  },
  {
   "cell_type": "code",
   "execution_count": 2,
   "metadata": {},
   "outputs": [],
   "source": [
    "data_dir = '/Users/pattama/Desktop/UiB/cancer/example_share_code/share_with_vladan/mask_analysis_full_pipeline/example_data/'\n",
    "input_mask = data_dir + 'Patient2_001.tiff'\n",
    "output_dir = 'output'\n",
    "level1_file = data_dir + '00hanna_adata_totalNB_obj_Level1.pkl'\n",
    "myimg_id = 'R2_001'\n",
    "Img_obj_level1 = ut.read_pickle_obj(level1_file)\n",
    "# Get adata level1 for img_id R1_001\n",
    "Img_level1_R2_001 = ut.filter_adata_obs(Img_obj_level1.adata_dict['level1'],\n",
    "                                        'img_id', \n",
    "                                        [myimg_id])\n",
    "# Get Epi adata\n",
    "Epi_adata = ut.filter_adata_obs(Img_level1_R2_001,\n",
    "                                'level1_annotated',\n",
    "                                ['Ep'])"
   ]
  },
  {
   "cell_type": "code",
   "execution_count": 3,
   "metadata": {},
   "outputs": [
    {
     "data": {
      "text/plain": [
       "Index(['79Br', '80ArAr', '81Br', '89Y', '113In_ADHL1', '115In_GammaCat',\n",
       "       '127I', '131Xe', '138Ba', '139La_MCAM', '141Pr_aSMA', '142Nd_CTLA4',\n",
       "       '143Nd_Vimentin', '144Nd_YAP1', '145Nd_CD45', '146Nd_CD16',\n",
       "       '147Sm_CD163', '148Nd_PanKeratin', '149Sm_CK5_6', '150Nd_PDL1',\n",
       "       '151Eu_CD31_CD34', '152Sm_FAP', '153Eu_CD44', '154Sm_CD11c',\n",
       "       '155Gd_FOXP3', '156Gd_CD4', '158Gd_E_Cad', '159Tb_CD68', '160Gd_PDGFRa',\n",
       "       '161Dy_pSMAD2', '162Dy_CD8', '163Dy_ER', '164Dy_CD20', '165Ho_PD1',\n",
       "       '166Er_HER2', '167Er_GATA3', '168Er_Ki67', '169Tm_CD24', '170Er_CD3',\n",
       "       '171Yb_PDGFRb', '172Yb_CC3', '173Yb_GranzymeB', '174Yb_CK8_18',\n",
       "       '175Lu_PanActin', '176Yb_HisH3', '191Ir_DNA', '193Ir_DNA', '195Pt_mem1',\n",
       "       '196Pt_mem2', '198Pt_mem3', '209Bi_pSTAT3'],\n",
       "      dtype='object')"
      ]
     },
     "execution_count": 3,
     "metadata": {},
     "output_type": "execute_result"
    }
   ],
   "source": [
    "# Check marker column name\n",
    "Epi_adata.var_names"
   ]
  },
  {
   "attachments": {},
   "cell_type": "markdown",
   "metadata": {},
   "source": [
    "## label 1, 0 for positive and negative cells from threshold"
   ]
  },
  {
   "cell_type": "code",
   "execution_count": 4,
   "metadata": {},
   "outputs": [],
   "source": [
    "# User provide input marker column and \n",
    "# range of threshold for each marker\n",
    "marker_threshold_dict = {'168Er_Ki67': [0.2, 0.3, 0.4, 0.5],\n",
    "                         '143Nd_Vimentin': [0.2, 0.3, 0.4, 0.5],\n",
    "                         '169Tm_CD24': [0.2, 0.3, 0.4, 0.5]\n",
    "}"
   ]
  },
  {
   "cell_type": "code",
   "execution_count": 5,
   "metadata": {},
   "outputs": [],
   "source": [
    "def binary_df(df, threshold):\n",
    "    df_binary = df.applymap(lambda x: 1 if x >= threshold else 0)\n",
    "    df_binary.columns = [col + '_'+ str(round(threshold,2)) for col in df.columns]\n",
    "    return(df_binary)\n",
    "\n",
    "def cell_neg_pos_dict(df, col):\n",
    "    cell_neg_ind = np.array(df[df[col] == 0].index) + 1\n",
    "    cell_pos_ind = np.array(df[df[col] == 1].index) + 1\n",
    "    label_dict = {('neg_'+col): cell_neg_ind,\n",
    "                  ('pos_'+col): cell_pos_ind}\n",
    "    return(label_dict)"
   ]
  },
  {
   "cell_type": "code",
   "execution_count": 6,
   "metadata": {},
   "outputs": [],
   "source": [
    "def create_json_marker(input_mask, input_adata, marker_col, \n",
    "                       threshold, output_dir):\n",
    "    '''\n",
    "    Create json file for specific marker and threshold\n",
    "    '''\n",
    "    # 1. get marker expression df\n",
    "    marker_df = input_adata.to_df()[[marker_col]]\n",
    "    # 2. get binary df\n",
    "    bi_df = binary_df(marker_df, threshold).reset_index()\n",
    "    # 3. get cell label dict\n",
    "    cell_label_dict = cell_neg_pos_dict(bi_df, \n",
    "                                        marker_col + '_'+ str(round(threshold,2)))\n",
    "    # 4. Check if output dir exist and crate mask\n",
    "    if not os.path.exists(output_dir+ marker_col):\n",
    "        os.makedirs(output_dir+ marker_col)\n",
    "        print(f\"{output_dir+marker_col} created successfully!\")\n",
    "\n",
    "    ut.export_labelmask_geoJson(input_mask, \n",
    "                                output_dir+ '/'+ marker_col + '/' + \n",
    "                                str(round(threshold,2)).replace('.','_') + '.json',\n",
    "                                cell_label_dict,\n",
    "                                [-1, -8245601]\n",
    "                                )"
   ]
  },
  {
   "cell_type": "code",
   "execution_count": 7,
   "metadata": {},
   "outputs": [
    {
     "name": "stdout",
     "output_type": "stream",
     "text": [
      "create mask for 168Er_Ki67 with threshold [0.2, 0.3, 0.4, 0.5]\n",
      "create mask for 143Nd_Vimentin with threshold [0.2, 0.3, 0.4, 0.5]\n",
      "output/Json_mask/143Nd_Vimentin created successfully!\n",
      "create mask for 169Tm_CD24 with threshold [0.2, 0.3, 0.4, 0.5]\n",
      "output/Json_mask/169Tm_CD24 created successfully!\n"
     ]
    }
   ],
   "source": [
    "for marker, threshold_list in marker_threshold_dict.items():\n",
    "    print('create mask for ' + marker + \n",
    "          ' with threshold ' + str(threshold_list))\n",
    "    for threshold in threshold_list:\n",
    "        create_json_marker(input_mask, \n",
    "                           Epi_adata, \n",
    "                           marker, \n",
    "                           threshold, output_dir+ '/Json_mask/')"
   ]
  },
  {
   "cell_type": "code",
   "execution_count": null,
   "metadata": {},
   "outputs": [],
   "source": []
  }
 ],
 "metadata": {
  "kernelspec": {
   "display_name": "IMCprocess_venv",
   "language": "python",
   "name": "python3"
  },
  "language_info": {
   "codemirror_mode": {
    "name": "ipython",
    "version": 3
   },
   "file_extension": ".py",
   "mimetype": "text/x-python",
   "name": "python",
   "nbconvert_exporter": "python",
   "pygments_lexer": "ipython3",
   "version": "3.8.5"
  },
  "orig_nbformat": 4,
  "vscode": {
   "interpreter": {
    "hash": "ffa5b3377fe2834d7df4a993f0474a8b0a83c750849adf4771c2b84c51f11ae9"
   }
  }
 },
 "nbformat": 4,
 "nbformat_minor": 2
}
