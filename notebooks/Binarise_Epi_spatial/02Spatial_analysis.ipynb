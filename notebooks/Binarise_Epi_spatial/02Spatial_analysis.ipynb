{
 "cells": [
  {
   "attachments": {},
   "cell_type": "markdown",
   "metadata": {},
   "source": [
    "# Spatial analysis of Epithelial (binarised marker) vs Fibroblast"
   ]
  },
  {
   "cell_type": "code",
   "execution_count": 1,
   "metadata": {},
   "outputs": [
    {
     "name": "stdout",
     "output_type": "stream",
     "text": [
      "/Users/pattama/Desktop/UiB/cancer/git_repo/IMCprocess\n"
     ]
    }
   ],
   "source": [
    "import numpy as np\n",
    "import pandas as pd\n",
    "import matplotlib.pyplot as plt\n",
    "import json\n",
    "import os, sys\n",
    "\n",
    "other_dir_path = os.path.abspath(os.path.join(os.getcwd(), '..', '..'))\n",
    "sys.path.append(other_dir_path)\n",
    "\n",
    "print(other_dir_path)\n",
    "import IMCprocess.spatial_analysis.spatial_analysis as sa\n",
    "import IMCprocess.spatial_analysis.combi_enrich as ce\n",
    "import IMCprocess.utils.utils as ut\n",
    "\n",
    "# I have to use custom Img_anndata code\n",
    "import Img_anndata as utan"
   ]
  },
  {
   "attachments": {},
   "cell_type": "markdown",
   "metadata": {},
   "source": [
    "## Import mask and level1 annotated object and create epithelial object"
   ]
  },
  {
   "cell_type": "code",
   "execution_count": 2,
   "metadata": {},
   "outputs": [],
   "source": [
    "data_dir = '/Users/pattama/Desktop/UiB/cancer/example_share_code/share_with_vladan/mask_analysis_full_pipeline/example_data/'\n",
    "input_mask = data_dir + 'Patient2_001.tiff'\n",
    "output_dir = 'output'\n",
    "level1_file = data_dir + '00hanna_adata_totalNB_obj_Level1.pkl'\n",
    "myimg_id = 'R2_001'\n",
    "Img_obj_level1 = ut.read_pickle_obj(level1_file)\n",
    "# Get adata level1 for img_id R2_001\n",
    "Img_level1_R2_001 = ut.filter_adata_obs(Img_obj_level1.adata_dict['level1'],\n",
    "                                        'img_id', \n",
    "                                        [myimg_id])\n",
    "# Get Epi adata\n",
    "Epi_adata = ut.filter_adata_obs(Img_level1_R2_001,\n",
    "                                'level1_annotated',\n",
    "                                ['Ep'])"
   ]
  },
  {
   "attachments": {},
   "cell_type": "markdown",
   "metadata": {},
   "source": [
    "## Label cells for neg or pos cells from chosen threshold and add to obs in object"
   ]
  },
  {
   "cell_type": "code",
   "execution_count": 3,
   "metadata": {},
   "outputs": [],
   "source": [
    "def binary_df(df, threshold):\n",
    "    df_binary = df.applymap(lambda x: 'pos' if x >= threshold else 'neg')\n",
    "    df_binary.columns = [col + '_'+ str(round(threshold,2)) for col in df.columns]\n",
    "    return(df_binary)"
   ]
  },
  {
   "cell_type": "code",
   "execution_count": 4,
   "metadata": {},
   "outputs": [],
   "source": [
    "# User provide input marker column and \n",
    "# selected threshold for each marker \n",
    "# (User can choose more than one threshold \n",
    "# for the same marker to compare)\n",
    "marker_threshold_dict = {'168Er_Ki67': [0.2],\n",
    "                         '143Nd_Vimentin': [0.2, 0.3],\n",
    "                         '169Tm_CD24': [0.4]\n",
    "}"
   ]
  },
  {
   "cell_type": "code",
   "execution_count": 5,
   "metadata": {},
   "outputs": [],
   "source": [
    "binary_df_ls = []\n",
    "for marker, threshold_list in marker_threshold_dict.items():\n",
    "    marker_bi_ls = [binary_df(Epi_adata.to_df()[[marker]], threshold) \n",
    "                    for threshold in threshold_list]\n",
    "    marker_bi_df = pd.concat(marker_bi_ls, axis=1)\n",
    "    binary_df_ls.append(marker_bi_df)\n",
    "binary_all_marker = pd.concat(binary_df_ls, axis=1)"
   ]
  },
  {
   "cell_type": "code",
   "execution_count": 6,
   "metadata": {},
   "outputs": [
    {
     "data": {
      "text/html": [
       "<div>\n",
       "<style scoped>\n",
       "    .dataframe tbody tr th:only-of-type {\n",
       "        vertical-align: middle;\n",
       "    }\n",
       "\n",
       "    .dataframe tbody tr th {\n",
       "        vertical-align: top;\n",
       "    }\n",
       "\n",
       "    .dataframe thead th {\n",
       "        text-align: right;\n",
       "    }\n",
       "</style>\n",
       "<table border=\"1\" class=\"dataframe\">\n",
       "  <thead>\n",
       "    <tr style=\"text-align: right;\">\n",
       "      <th></th>\n",
       "      <th>168Er_Ki67_0.2</th>\n",
       "      <th>143Nd_Vimentin_0.2</th>\n",
       "      <th>143Nd_Vimentin_0.3</th>\n",
       "      <th>169Tm_CD24_0.4</th>\n",
       "    </tr>\n",
       "    <tr>\n",
       "      <th>Cell_id</th>\n",
       "      <th></th>\n",
       "      <th></th>\n",
       "      <th></th>\n",
       "      <th></th>\n",
       "    </tr>\n",
       "  </thead>\n",
       "  <tbody>\n",
       "    <tr>\n",
       "      <th>14301_3</th>\n",
       "      <td>pos</td>\n",
       "      <td>pos</td>\n",
       "      <td>pos</td>\n",
       "      <td>pos</td>\n",
       "    </tr>\n",
       "    <tr>\n",
       "      <th>14304_3</th>\n",
       "      <td>pos</td>\n",
       "      <td>pos</td>\n",
       "      <td>pos</td>\n",
       "      <td>pos</td>\n",
       "    </tr>\n",
       "    <tr>\n",
       "      <th>14305_3</th>\n",
       "      <td>neg</td>\n",
       "      <td>pos</td>\n",
       "      <td>pos</td>\n",
       "      <td>neg</td>\n",
       "    </tr>\n",
       "    <tr>\n",
       "      <th>14307_3</th>\n",
       "      <td>neg</td>\n",
       "      <td>pos</td>\n",
       "      <td>pos</td>\n",
       "      <td>pos</td>\n",
       "    </tr>\n",
       "    <tr>\n",
       "      <th>14308_3</th>\n",
       "      <td>neg</td>\n",
       "      <td>neg</td>\n",
       "      <td>neg</td>\n",
       "      <td>pos</td>\n",
       "    </tr>\n",
       "  </tbody>\n",
       "</table>\n",
       "</div>"
      ],
      "text/plain": [
       "        168Er_Ki67_0.2 143Nd_Vimentin_0.2 143Nd_Vimentin_0.3 169Tm_CD24_0.4\n",
       "Cell_id                                                                    \n",
       "14301_3            pos                pos                pos            pos\n",
       "14304_3            pos                pos                pos            pos\n",
       "14305_3            neg                pos                pos            neg\n",
       "14307_3            neg                pos                pos            pos\n",
       "14308_3            neg                neg                neg            pos"
      ]
     },
     "execution_count": 6,
     "metadata": {},
     "output_type": "execute_result"
    }
   ],
   "source": [
    "binary_all_marker.head()"
   ]
  },
  {
   "cell_type": "code",
   "execution_count": 7,
   "metadata": {},
   "outputs": [],
   "source": [
    "# add binary df in adata obs\n",
    "Epi_adata.obs = pd.concat([Epi_adata.obs, binary_all_marker], axis=1)"
   ]
  },
  {
   "attachments": {},
   "cell_type": "markdown",
   "metadata": {},
   "source": [
    "## Calculate spatial analysis between Epithelial (binarise) and Fibroblast"
   ]
  },
  {
   "cell_type": "code",
   "execution_count": 19,
   "metadata": {},
   "outputs": [],
   "source": [
    "# import Fibro adata\n",
    "Fibro_obj = ut.read_pickle_obj(data_dir + '02hanna_adata_totalNB_obj_Level2.pkl')\n",
    "# Get adata Fibro only for img_id R2_001\n",
    "Fibro_adata = ut.filter_adata_obs(Fibro_obj.adata_dict['Fibro_level2'],\n",
    "                                  'img_id', \n",
    "                                  [myimg_id])"
   ]
  },
  {
   "cell_type": "code",
   "execution_count": 20,
   "metadata": {},
   "outputs": [
    {
     "data": {
      "text/html": [
       "<div>\n",
       "<style scoped>\n",
       "    .dataframe tbody tr th:only-of-type {\n",
       "        vertical-align: middle;\n",
       "    }\n",
       "\n",
       "    .dataframe tbody tr th {\n",
       "        vertical-align: top;\n",
       "    }\n",
       "\n",
       "    .dataframe thead th {\n",
       "        text-align: right;\n",
       "    }\n",
       "</style>\n",
       "<table border=\"1\" class=\"dataframe\">\n",
       "  <thead>\n",
       "    <tr style=\"text-align: right;\">\n",
       "      <th></th>\n",
       "      <th>img_id</th>\n",
       "      <th>PhenoGraph_clusters</th>\n",
       "      <th>level1_annotated</th>\n",
       "      <th>Fibro_level2_annotated</th>\n",
       "    </tr>\n",
       "    <tr>\n",
       "      <th>Cell_id</th>\n",
       "      <th></th>\n",
       "      <th></th>\n",
       "      <th></th>\n",
       "      <th></th>\n",
       "    </tr>\n",
       "  </thead>\n",
       "  <tbody>\n",
       "    <tr>\n",
       "      <th>14302_3</th>\n",
       "      <td>R2_001</td>\n",
       "      <td>11</td>\n",
       "      <td>Fibro</td>\n",
       "      <td>aSMA+_FAPlow_PDGFRalow_PDGFRblow</td>\n",
       "    </tr>\n",
       "    <tr>\n",
       "      <th>14303_3</th>\n",
       "      <td>R2_001</td>\n",
       "      <td>24</td>\n",
       "      <td>Fibro</td>\n",
       "      <td>aSMA+_PDGFRalow_PDGFRblow</td>\n",
       "    </tr>\n",
       "    <tr>\n",
       "      <th>14306_3</th>\n",
       "      <td>R2_001</td>\n",
       "      <td>15</td>\n",
       "      <td>Fibro</td>\n",
       "      <td>aSMAlow_FAP+_PDGFRalow_PDGFRblow</td>\n",
       "    </tr>\n",
       "    <tr>\n",
       "      <th>14309_3</th>\n",
       "      <td>R2_001</td>\n",
       "      <td>13</td>\n",
       "      <td>Fibro</td>\n",
       "      <td>aSMA+_FAPlow_PDGFRalow_PDGFRblow</td>\n",
       "    </tr>\n",
       "    <tr>\n",
       "      <th>14310_3</th>\n",
       "      <td>R2_001</td>\n",
       "      <td>20</td>\n",
       "      <td>Fibro</td>\n",
       "      <td>aSMA+_FAP+_PDGFRalow_PDGFRblow</td>\n",
       "    </tr>\n",
       "    <tr>\n",
       "      <th>...</th>\n",
       "      <td>...</td>\n",
       "      <td>...</td>\n",
       "      <td>...</td>\n",
       "      <td>...</td>\n",
       "    </tr>\n",
       "    <tr>\n",
       "      <th>21438_3</th>\n",
       "      <td>R2_001</td>\n",
       "      <td>0</td>\n",
       "      <td>Fibro</td>\n",
       "      <td>Neg</td>\n",
       "    </tr>\n",
       "    <tr>\n",
       "      <th>21450_3</th>\n",
       "      <td>R2_001</td>\n",
       "      <td>9</td>\n",
       "      <td>Fibro</td>\n",
       "      <td>FAP+_PDGFRalow_PDGFRblow</td>\n",
       "    </tr>\n",
       "    <tr>\n",
       "      <th>21451_3</th>\n",
       "      <td>R2_001</td>\n",
       "      <td>15</td>\n",
       "      <td>Fibro</td>\n",
       "      <td>aSMAlow_FAP+_PDGFRalow_PDGFRblow</td>\n",
       "    </tr>\n",
       "    <tr>\n",
       "      <th>21452_3</th>\n",
       "      <td>R2_001</td>\n",
       "      <td>14</td>\n",
       "      <td>Fibro</td>\n",
       "      <td>aSMAlow_PDGFRalow_PDGFRblow</td>\n",
       "    </tr>\n",
       "    <tr>\n",
       "      <th>21465_3</th>\n",
       "      <td>R2_001</td>\n",
       "      <td>17</td>\n",
       "      <td>Fibro</td>\n",
       "      <td>FAPlow_PDGFRa+_PDGFRblow</td>\n",
       "    </tr>\n",
       "  </tbody>\n",
       "</table>\n",
       "<p>868 rows × 4 columns</p>\n",
       "</div>"
      ],
      "text/plain": [
       "         img_id PhenoGraph_clusters level1_annotated  \\\n",
       "Cell_id                                                \n",
       "14302_3  R2_001                  11            Fibro   \n",
       "14303_3  R2_001                  24            Fibro   \n",
       "14306_3  R2_001                  15            Fibro   \n",
       "14309_3  R2_001                  13            Fibro   \n",
       "14310_3  R2_001                  20            Fibro   \n",
       "...         ...                 ...              ...   \n",
       "21438_3  R2_001                   0            Fibro   \n",
       "21450_3  R2_001                   9            Fibro   \n",
       "21451_3  R2_001                  15            Fibro   \n",
       "21452_3  R2_001                  14            Fibro   \n",
       "21465_3  R2_001                  17            Fibro   \n",
       "\n",
       "                   Fibro_level2_annotated  \n",
       "Cell_id                                    \n",
       "14302_3  aSMA+_FAPlow_PDGFRalow_PDGFRblow  \n",
       "14303_3         aSMA+_PDGFRalow_PDGFRblow  \n",
       "14306_3  aSMAlow_FAP+_PDGFRalow_PDGFRblow  \n",
       "14309_3  aSMA+_FAPlow_PDGFRalow_PDGFRblow  \n",
       "14310_3    aSMA+_FAP+_PDGFRalow_PDGFRblow  \n",
       "...                                   ...  \n",
       "21438_3                               Neg  \n",
       "21450_3          FAP+_PDGFRalow_PDGFRblow  \n",
       "21451_3  aSMAlow_FAP+_PDGFRalow_PDGFRblow  \n",
       "21452_3       aSMAlow_PDGFRalow_PDGFRblow  \n",
       "21465_3          FAPlow_PDGFRa+_PDGFRblow  \n",
       "\n",
       "[868 rows x 4 columns]"
      ]
     },
     "execution_count": 20,
     "metadata": {},
     "output_type": "execute_result"
    }
   ],
   "source": [
    "Fibro_adata.obs"
   ]
  },
  {
   "cell_type": "code",
   "execution_count": null,
   "metadata": {},
   "outputs": [],
   "source": []
  }
 ],
 "metadata": {
  "kernelspec": {
   "display_name": "IMCprocess_venv",
   "language": "python",
   "name": "python3"
  },
  "language_info": {
   "codemirror_mode": {
    "name": "ipython",
    "version": 3
   },
   "file_extension": ".py",
   "mimetype": "text/x-python",
   "name": "python",
   "nbconvert_exporter": "python",
   "pygments_lexer": "ipython3",
   "version": "3.8.5"
  },
  "orig_nbformat": 4
 },
 "nbformat": 4,
 "nbformat_minor": 2
}
