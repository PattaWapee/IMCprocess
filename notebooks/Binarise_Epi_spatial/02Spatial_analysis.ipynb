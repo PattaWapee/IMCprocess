{
 "cells": [
  {
   "attachments": {},
   "cell_type": "markdown",
   "metadata": {},
   "source": [
    "# Spatial analysis of Epithelial (binarised marker) vs Fibroblast"
   ]
  },
  {
   "cell_type": "code",
   "execution_count": 1,
   "metadata": {},
   "outputs": [
    {
     "name": "stdout",
     "output_type": "stream",
     "text": [
      "/Users/pattama/Desktop/UiB/cancer/git_repo/IMCprocess\n"
     ]
    }
   ],
   "source": [
    "import numpy as np\n",
    "import pandas as pd\n",
    "import matplotlib.pyplot as plt\n",
    "import json\n",
    "import os, sys\n",
    "\n",
    "other_dir_path = os.path.abspath(os.path.join(os.getcwd(), '..', '..'))\n",
    "sys.path.append(other_dir_path)\n",
    "\n",
    "print(other_dir_path)\n",
    "import IMCprocess.spatial_analysis.spatial_analysis as sa\n",
    "import IMCprocess.spatial_analysis.combi_enrich as ce\n",
    "import IMCprocess.utils.utils as ut\n",
    "\n",
    "# I have to use custom Img_anndata code\n",
    "import Img_anndata as utan"
   ]
  },
  {
   "attachments": {},
   "cell_type": "markdown",
   "metadata": {},
   "source": [
    "## Import mask and level1 annotated object and create epithelial object"
   ]
  },
  {
   "cell_type": "code",
   "execution_count": 2,
   "metadata": {},
   "outputs": [],
   "source": [
    "data_dir = '/Users/pattama/Desktop/UiB/cancer/example_share_code/share_with_vladan/mask_analysis_full_pipeline/example_data/'\n",
    "input_mask = data_dir + 'Patient2_001.tiff'\n",
    "output_dir = 'output'\n",
    "level1_file = data_dir + '00hanna_adata_totalNB_obj_Level1.pkl'\n",
    "myimg_id = 'R2_001'\n",
    "Img_obj_level1 = ut.read_pickle_obj(level1_file)\n",
    "# Get adata level1 for img_id R1_001\n",
    "Img_level1_R2_001 = ut.filter_adata_obs(Img_obj_level1.adata_dict['level1'],\n",
    "                                        'img_id', \n",
    "                                        [myimg_id])\n",
    "# Get Epi adata\n",
    "Epi_adata = ut.filter_adata_obs(Img_level1_R2_001,\n",
    "                                'level1_annotated',\n",
    "                                ['Ep'])"
   ]
  },
  {
   "attachments": {},
   "cell_type": "markdown",
   "metadata": {},
   "source": [
    "## Label cells for neg or pos cells from chosen threshold and add to obs in object"
   ]
  },
  {
   "cell_type": "code",
   "execution_count": 3,
   "metadata": {},
   "outputs": [],
   "source": [
    "def binary_df(df, threshold):\n",
    "    df_binary = df.applymap(lambda x: 'pos' if x >= threshold else 'neg')\n",
    "    df_binary.columns = [col + '_'+ str(round(threshold,2)) for col in df.columns]\n",
    "    return(df_binary)"
   ]
  },
  {
   "cell_type": "code",
   "execution_count": 4,
   "metadata": {},
   "outputs": [],
   "source": [
    "# User provide input marker column and \n",
    "# selected threshold for each marker \n",
    "# (User can choose more than one threshold \n",
    "# for the same marker to compare)\n",
    "marker_threshold_dict = {'168Er_Ki67': [0.2],\n",
    "                         '143Nd_Vimentin': [0.2, 0.3],\n",
    "                         '169Tm_CD24': [0.4]\n",
    "}"
   ]
  },
  {
   "cell_type": "code",
   "execution_count": 5,
   "metadata": {},
   "outputs": [],
   "source": [
    "binary_df_ls = []\n",
    "for marker, threshold_list in marker_threshold_dict.items():\n",
    "    marker_bi_ls = [binary_df(Epi_adata.to_df()[[marker]], threshold) \n",
    "                    for threshold in threshold_list]\n",
    "    marker_bi_df = pd.concat(marker_bi_ls, axis=1)\n",
    "    binary_df_ls.append(marker_bi_df)\n",
    "binary_all_marker = pd.concat(binary_df_ls, axis=1)"
   ]
  },
  {
   "cell_type": "code",
   "execution_count": 6,
   "metadata": {},
   "outputs": [
    {
     "data": {
      "text/html": [
       "<div>\n",
       "<style scoped>\n",
       "    .dataframe tbody tr th:only-of-type {\n",
       "        vertical-align: middle;\n",
       "    }\n",
       "\n",
       "    .dataframe tbody tr th {\n",
       "        vertical-align: top;\n",
       "    }\n",
       "\n",
       "    .dataframe thead th {\n",
       "        text-align: right;\n",
       "    }\n",
       "</style>\n",
       "<table border=\"1\" class=\"dataframe\">\n",
       "  <thead>\n",
       "    <tr style=\"text-align: right;\">\n",
       "      <th></th>\n",
       "      <th>168Er_Ki67_0.2</th>\n",
       "      <th>143Nd_Vimentin_0.2</th>\n",
       "      <th>143Nd_Vimentin_0.3</th>\n",
       "      <th>169Tm_CD24_0.4</th>\n",
       "    </tr>\n",
       "    <tr>\n",
       "      <th>Cell_id</th>\n",
       "      <th></th>\n",
       "      <th></th>\n",
       "      <th></th>\n",
       "      <th></th>\n",
       "    </tr>\n",
       "  </thead>\n",
       "  <tbody>\n",
       "    <tr>\n",
       "      <th>14301_3</th>\n",
       "      <td>pos</td>\n",
       "      <td>pos</td>\n",
       "      <td>pos</td>\n",
       "      <td>pos</td>\n",
       "    </tr>\n",
       "    <tr>\n",
       "      <th>14304_3</th>\n",
       "      <td>pos</td>\n",
       "      <td>pos</td>\n",
       "      <td>pos</td>\n",
       "      <td>pos</td>\n",
       "    </tr>\n",
       "    <tr>\n",
       "      <th>14305_3</th>\n",
       "      <td>neg</td>\n",
       "      <td>pos</td>\n",
       "      <td>pos</td>\n",
       "      <td>neg</td>\n",
       "    </tr>\n",
       "    <tr>\n",
       "      <th>14307_3</th>\n",
       "      <td>neg</td>\n",
       "      <td>pos</td>\n",
       "      <td>pos</td>\n",
       "      <td>pos</td>\n",
       "    </tr>\n",
       "    <tr>\n",
       "      <th>14308_3</th>\n",
       "      <td>neg</td>\n",
       "      <td>neg</td>\n",
       "      <td>neg</td>\n",
       "      <td>pos</td>\n",
       "    </tr>\n",
       "  </tbody>\n",
       "</table>\n",
       "</div>"
      ],
      "text/plain": [
       "        168Er_Ki67_0.2 143Nd_Vimentin_0.2 143Nd_Vimentin_0.3 169Tm_CD24_0.4\n",
       "Cell_id                                                                    \n",
       "14301_3            pos                pos                pos            pos\n",
       "14304_3            pos                pos                pos            pos\n",
       "14305_3            neg                pos                pos            neg\n",
       "14307_3            neg                pos                pos            pos\n",
       "14308_3            neg                neg                neg            pos"
      ]
     },
     "execution_count": 6,
     "metadata": {},
     "output_type": "execute_result"
    }
   ],
   "source": [
    "binary_all_marker.head()"
   ]
  },
  {
   "cell_type": "code",
   "execution_count": 7,
   "metadata": {},
   "outputs": [],
   "source": [
    "# add binary df in adata obs\n",
    "Epi_adata.obs = pd.concat([Epi_adata.obs, binary_all_marker], axis=1)"
   ]
  },
  {
   "attachments": {},
   "cell_type": "markdown",
   "metadata": {},
   "source": [
    "## Calculate spatial analysis between Epithelial (binarise) and Fibroblast"
   ]
  },
  {
   "cell_type": "code",
   "execution_count": 8,
   "metadata": {},
   "outputs": [],
   "source": [
    "# import Fibro adata\n",
    "Fibro_adata = ut.read_pickle_obj(data_dir + '02hanna_adata_totalNB_obj_Level2.pkl')"
   ]
  },
  {
   "cell_type": "code",
   "execution_count": 12,
   "metadata": {},
   "outputs": [
    {
     "data": {
      "text/html": [
       "<div>\n",
       "<style scoped>\n",
       "    .dataframe tbody tr th:only-of-type {\n",
       "        vertical-align: middle;\n",
       "    }\n",
       "\n",
       "    .dataframe tbody tr th {\n",
       "        vertical-align: top;\n",
       "    }\n",
       "\n",
       "    .dataframe thead th {\n",
       "        text-align: right;\n",
       "    }\n",
       "</style>\n",
       "<table border=\"1\" class=\"dataframe\">\n",
       "  <thead>\n",
       "    <tr style=\"text-align: right;\">\n",
       "      <th></th>\n",
       "      <th>img_id</th>\n",
       "      <th>PhenoGraph_clusters</th>\n",
       "      <th>level1_annotated</th>\n",
       "      <th>Fibro_level2_annotated</th>\n",
       "    </tr>\n",
       "    <tr>\n",
       "      <th>Cell_id</th>\n",
       "      <th></th>\n",
       "      <th></th>\n",
       "      <th></th>\n",
       "      <th></th>\n",
       "    </tr>\n",
       "  </thead>\n",
       "  <tbody>\n",
       "    <tr>\n",
       "      <th>4_0</th>\n",
       "      <td>R1_001</td>\n",
       "      <td>10</td>\n",
       "      <td>Fibro</td>\n",
       "      <td>aSMA+_FAPlow_PDGFRalow_PDGFRblow</td>\n",
       "    </tr>\n",
       "    <tr>\n",
       "      <th>9_0</th>\n",
       "      <td>R1_001</td>\n",
       "      <td>11</td>\n",
       "      <td>Fibro</td>\n",
       "      <td>aSMA+_FAPlow_PDGFRalow_PDGFRblow</td>\n",
       "    </tr>\n",
       "    <tr>\n",
       "      <th>26_0</th>\n",
       "      <td>R1_001</td>\n",
       "      <td>4</td>\n",
       "      <td>Fibro</td>\n",
       "      <td>FAP+_PDGFRalow</td>\n",
       "    </tr>\n",
       "    <tr>\n",
       "      <th>39_0</th>\n",
       "      <td>R1_001</td>\n",
       "      <td>6</td>\n",
       "      <td>Fibro</td>\n",
       "      <td>aSMA+_FAPlow_PDGFRalow_PDGFRblow</td>\n",
       "    </tr>\n",
       "    <tr>\n",
       "      <th>40_0</th>\n",
       "      <td>R1_001</td>\n",
       "      <td>11</td>\n",
       "      <td>Fibro</td>\n",
       "      <td>aSMA+_FAPlow_PDGFRalow_PDGFRblow</td>\n",
       "    </tr>\n",
       "  </tbody>\n",
       "</table>\n",
       "</div>"
      ],
      "text/plain": [
       "         img_id PhenoGraph_clusters level1_annotated  \\\n",
       "Cell_id                                                \n",
       "4_0      R1_001                  10            Fibro   \n",
       "9_0      R1_001                  11            Fibro   \n",
       "26_0     R1_001                   4            Fibro   \n",
       "39_0     R1_001                   6            Fibro   \n",
       "40_0     R1_001                  11            Fibro   \n",
       "\n",
       "                   Fibro_level2_annotated  \n",
       "Cell_id                                    \n",
       "4_0      aSMA+_FAPlow_PDGFRalow_PDGFRblow  \n",
       "9_0      aSMA+_FAPlow_PDGFRalow_PDGFRblow  \n",
       "26_0                       FAP+_PDGFRalow  \n",
       "39_0     aSMA+_FAPlow_PDGFRalow_PDGFRblow  \n",
       "40_0     aSMA+_FAPlow_PDGFRalow_PDGFRblow  "
      ]
     },
     "execution_count": 12,
     "metadata": {},
     "output_type": "execute_result"
    }
   ],
   "source": [
    "Fibro_adata.adata_dict['Fibro_level2'].obs.head()"
   ]
  },
  {
   "cell_type": "code",
   "execution_count": null,
   "metadata": {},
   "outputs": [],
   "source": []
  }
 ],
 "metadata": {
  "kernelspec": {
   "display_name": "IMCprocess_venv",
   "language": "python",
   "name": "python3"
  },
  "language_info": {
   "codemirror_mode": {
    "name": "ipython",
    "version": 3
   },
   "file_extension": ".py",
   "mimetype": "text/x-python",
   "name": "python",
   "nbconvert_exporter": "python",
   "pygments_lexer": "ipython3",
   "version": "3.8.5"
  },
  "orig_nbformat": 4
 },
 "nbformat": 4,
 "nbformat_minor": 2
}
